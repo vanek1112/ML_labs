{
  "cells": [
    {
      "cell_type": "markdown",
      "metadata": {
        "id": "M-DGa20PaHnu"
      },
      "source": [
        "# Задача 1\n",
        "Написать функцию на вход которой подается строка, состоящая из латинских букв.\n",
        "Функция должна вернуть количество гласных букв (a, e, i, o, u) в этой строке. Написать тесты для кода"
      ]
    },
    {
      "cell_type": "code",
      "execution_count": 32,
      "metadata": {
        "id": "XvX8X_JJ6PCb"
      },
      "outputs": [
        {
          "name": "stderr",
          "output_type": "stream",
          "text": [
            ".......\n",
            "----------------------------------------------------------------------\n",
            "Ran 7 tests in 0.003s\n",
            "\n",
            "OK\n"
          ]
        }
      ],
      "source": [
        "import unittest\n",
        "\n",
        "def vowels_count(st: str) -> dict:\n",
        "    st = st.lower()\n",
        "    result = dict()\n",
        "    for el in ['a', 'e', 'i', 'o', 'u']:\n",
        "        result[el] = st.count(el)\n",
        "    return result\n",
        "\n",
        "class TestVowelsCount(unittest.TestCase):\n",
        "    def test_empty_string(self):\n",
        "        self.assertEqual(vowels_count(''), {'a':0, 'e':0, 'i':0, 'o':0, 'u':0})\n",
        "    \n",
        "    def test_all_vowels_once(self):\n",
        "        self.assertEqual(\n",
        "            vowels_count('aeiou'),\n",
        "            {'a':1, 'e':1, 'i':1, 'o':1, 'u':1}\n",
        "        )\n",
        "    \n",
        "    def test_no_vowels(self):\n",
        "        self.assertEqual(\n",
        "            vowels_count('bcdfgxyz'),\n",
        "            {'a':0, 'e':0, 'i':0, 'o':0, 'u':0}\n",
        "        )\n",
        "    \n",
        "    def test_repeated_vowels(self):\n",
        "        self.assertEqual(\n",
        "            vowels_count('aaaeeiioouu'),\n",
        "            {'a':3, 'e':2, 'i':2, 'o':2, 'u':2}\n",
        "        )\n",
        "    \n",
        "    def test_mixed_characters(self):\n",
        "        self.assertEqual(\n",
        "            vowels_count('a e i o u!123#'),\n",
        "            {'a':1, 'e':1, 'i':1, 'o':1, 'u':1}\n",
        "        )\n",
        "    \n",
        "    def test_sample_input(self):\n",
        "        input_str = 'dcviaitycavyfdavufcacfnu faiucdadofygcv faccvasdgcfasibfiacsfnmiafcganiuscfcagfcvsdkfgcsvyfgkcsm,cf pafjhamcdhfncajsdgfcabhsdgfbasbcf'\n",
        "        self.assertEqual(\n",
        "            vowels_count(input_str),\n",
        "            {'a':18, 'e':0, 'i':7, 'o':1, 'u':4}\n",
        "        )\n",
        "    \n",
        "    def test_uppercase_vowels(self):\n",
        "        self.assertEqual(\n",
        "            vowels_count('AeIoU'),\n",
        "            {'a':1, 'e':1, 'i':1, 'o':1, 'u':1}\n",
        "        )\n",
        "\n",
        "if __name__ == '__main__':\n",
        "    unittest.TextTestRunner().run(unittest.defaultTestLoader.loadTestsFromTestCase(TestVowelsCount))"
      ]
    },
    {
      "cell_type": "markdown",
      "metadata": {
        "id": "t2ClV_Y0bbr6"
      },
      "source": [
        "# Задача 2\n",
        "Написать функцию на вход, которой подается строка. Функция должна вернуть true, если\n",
        "каждый символ в строке встречается только 1 раз, иначе должна вернуть false. Написать тесты для кода"
      ]
    },
    {
      "cell_type": "code",
      "execution_count": 33,
      "metadata": {
        "id": "FppbECao6VIz"
      },
      "outputs": [
        {
          "name": "stderr",
          "output_type": "stream",
          "text": [
            "....\n",
            "----------------------------------------------------------------------\n",
            "Ran 4 tests in 0.002s\n",
            "\n",
            "OK\n"
          ]
        }
      ],
      "source": [
        "import unittest\n",
        "\n",
        "def is_unique(st: str) -> bool:\n",
        "    return len(st) == len(set(st))\n",
        "\n",
        "class TestIsUnique(unittest.TestCase):\n",
        "    \n",
        "    def test_unique_characters(self):\n",
        "        self.assertTrue(is_unique(\"abcdef\"))\n",
        "        self.assertTrue(is_unique(\"123456\"))\n",
        "        self.assertTrue(is_unique(\"!@#$%^&*()\"))\n",
        "        \n",
        "    def test_duplicate_characters(self):\n",
        "        self.assertFalse(is_unique(\"aabbcc\"))\n",
        "        self.assertFalse(is_unique(\"hello\"))\n",
        "        self.assertFalse(is_unique(\"123321\"))\n",
        "        \n",
        "    def test_empty_string(self):\n",
        "        self.assertTrue(is_unique(\"\"))\n",
        "        \n",
        "    def test_single_character(self):\n",
        "        self.assertTrue(is_unique(\"a\"))\n",
        "        self.assertTrue(is_unique(\"1\"))\n",
        "        \n",
        "if __name__ == '__main__':\n",
        "    unittest.TextTestRunner().run(unittest.defaultTestLoader.loadTestsFromTestCase(TestIsUnique))"
      ]
    },
    {
      "cell_type": "markdown",
      "metadata": {
        "id": "udRiIK1cdt6E"
      },
      "source": [
        "# Задача 3\n",
        "Написать функцию, которая принимает положительное число и возвращает количество\n",
        "бит равных 1 в этом числе. Написать тесты для кода"
      ]
    },
    {
      "cell_type": "code",
      "execution_count": 39,
      "metadata": {
        "id": "6tkfDJRz6dp_"
      },
      "outputs": [
        {
          "name": "stderr",
          "output_type": "stream",
          "text": [
            ".......\n",
            "----------------------------------------------------------------------\n",
            "Ran 7 tests in 0.002s\n",
            "\n",
            "OK\n"
          ]
        }
      ],
      "source": [
        "import unittest\n",
        "\n",
        "def count_nonzero_bits(x: int) -> int:\n",
        "    return bin(x)[2:].count('1')\n",
        "\n",
        "class TestCountNonzeroBits(unittest.TestCase):\n",
        "    def test_zero(self):\n",
        "        self.assertEqual(count_nonzero_bits(0), 0)\n",
        "    \n",
        "    def test_one(self):\n",
        "        self.assertEqual(count_nonzero_bits(1), 1)\n",
        "        \n",
        "    def test_two(self):\n",
        "        self.assertEqual(count_nonzero_bits(2), 1)\n",
        "        \n",
        "    def test_three(self):\n",
        "        self.assertEqual(count_nonzero_bits(3), 2)\n",
        "        \n",
        "    def test_eight(self):\n",
        "        self.assertEqual(count_nonzero_bits(8), 1)\n",
        "        \n",
        "    def test_fifteen(self):\n",
        "        self.assertEqual(count_nonzero_bits(15), 4)\n",
        "        \n",
        "    def test_large_number(self):\n",
        "        self.assertEqual(count_nonzero_bits(1023), 10)\n",
        "\n",
        "if __name__ == '__main__':\n",
        "    unittest.TextTestRunner().run(unittest.defaultTestLoader.loadTestsFromTestCase(TestCountNonzeroBits))"
      ]
    },
    {
      "cell_type": "markdown",
      "metadata": {
        "id": "26dDUz-Ae17N"
      },
      "source": [
        "# Задача 4\n",
        "Написать функцию, которая принимает положительное число. Функция должна вернуть то,\n",
        "сколько раз необходимо перемножать цифры числа или результат перемножения, чтобы\n",
        "получилось число состоящее из одной цифры.\n",
        "Например, для входного числа:\n",
        "· 39 функция должна вернуть 3, так как 3*9=27 => 2*7=14 => 1*4=4\n",
        "· 4 функция должна вернуть 0, так как число уже состоит из одной цифры\n",
        "· 999 функция должна вернуть 4, так как 9*9*9=729 => 7*2*9=126 => 1*2*6=12 =>\n",
        "1*2=2. Написать тесты для кода"
      ]
    },
    {
      "cell_type": "code",
      "execution_count": 45,
      "metadata": {
        "id": "BH1A_Mgi6i4G"
      },
      "outputs": [
        {
          "name": "stderr",
          "output_type": "stream",
          "text": [
            ".....\n",
            "----------------------------------------------------------------------\n",
            "Ran 5 tests in 0.002s\n",
            "\n",
            "OK\n"
          ]
        }
      ],
      "source": [
        "def magic(n: int) -> int:\n",
        "    result = 0\n",
        "    while n > 9:\n",
        "        result += 1\n",
        "        mn = 1\n",
        "        for x in str(n):\n",
        "            mn *= int(x)\n",
        "        n = mn\n",
        "    return result\n",
        "\n",
        "class TestMagicFunction(unittest.TestCase):\n",
        "    def test_single_digit(self):\n",
        "        self.assertEqual(magic(4), 0)\n",
        "\n",
        "    def test_two_digit(self):\n",
        "        self.assertEqual(magic(39), 3)\n",
        "\n",
        "    def test_three_digit(self):\n",
        "        self.assertEqual(magic(999), 4)\n",
        "\n",
        "    def test_large_number(self):\n",
        "        self.assertEqual(magic(99999), 2)\n",
        "\n",
        "    def test_edge_case(self):\n",
        "        self.assertEqual(magic(10), 1)\n",
        "\n",
        "if __name__ == '__main__':\n",
        "    unittest.TextTestRunner().run(unittest.defaultTestLoader.loadTestsFromTestCase(TestMagicFunction))"
      ]
    },
    {
      "cell_type": "markdown",
      "metadata": {
        "id": "0nS-kIa8g8vd"
      },
      "source": [
        "# Задача 5\n",
        "Написать функцию, которая принимает два целочисленных вектора одинаковой длины и\n",
        "возвращает среднеквадратическое отклонение двух векторов. Написать тесты для кода"
      ]
    },
    {
      "cell_type": "code",
      "execution_count": 48,
      "metadata": {
        "id": "8iphx4LM6xbx"
      },
      "outputs": [
        {
          "name": "stderr",
          "output_type": "stream",
          "text": [
            ".....\n",
            "----------------------------------------------------------------------\n",
            "Ran 5 tests in 0.002s\n",
            "\n",
            "OK\n"
          ]
        }
      ],
      "source": [
        "import numpy as np\n",
        "import unittest\n",
        "\n",
        "def calculate_std_deviation(vector1, vector2):\n",
        "    if len(vector1) != len(vector2):\n",
        "        raise ValueError(\"Векторы должны быть одинаковой длины\")\n",
        "    \n",
        "    std_deviation_vector1 = np.std(vector1, ddof=1)\n",
        "    std_deviation_vector2 = np.std(vector2, ddof=1)\n",
        "    \n",
        "    return std_deviation_vector1, std_deviation_vector2\n",
        "\n",
        "class TestCalculateStdDeviation(unittest.TestCase):\n",
        "    def test_equal_vectors(self):\n",
        "        vector1 = [2, 2, 2]\n",
        "        vector2 = [2, 2, 2]\n",
        "        std1, std2 = calculate_std_deviation(vector1, vector2)\n",
        "        self.assertAlmostEqual(std1, 0.0)\n",
        "        self.assertAlmostEqual(std2, 0.0)\n",
        "\n",
        "    def test_different_vectors(self):\n",
        "        vector1 = [1, 2, 3]\n",
        "        vector2 = [4, 5, 6]\n",
        "        std1, std2 = calculate_std_deviation(vector1, vector2)\n",
        "        self.assertAlmostEqual(std1, 1.0)\n",
        "        self.assertAlmostEqual(std2, 1.0)\n",
        "\n",
        "    def test_negative_values(self):\n",
        "        vector1 = [-1, -2, -3]\n",
        "        vector2 = [-4, -5, -6]\n",
        "        std1, std2 = calculate_std_deviation(vector1, vector2)\n",
        "        self.assertAlmostEqual(std1, 1.0)\n",
        "        self.assertAlmostEqual(std2, 1.0)\n",
        "\n",
        "    def test_mixed_values(self):\n",
        "        vector1 = [1, 3, 5]\n",
        "        vector2 = [2, 4, 6]\n",
        "        std1, std2 = calculate_std_deviation(vector1, vector2)\n",
        "        self.assertAlmostEqual(std1, 2.0)\n",
        "        self.assertAlmostEqual(std2, 2.0)\n",
        "\n",
        "    def test_length_mismatch(self):\n",
        "        vector1 = [1, 2]\n",
        "        vector2 = [1, 2, 3]\n",
        "        with self.assertRaises(ValueError):\n",
        "            calculate_std_deviation(vector1, vector2)\n",
        "\n",
        "if __name__ == '__main__':\n",
        "    unittest.TextTestRunner().run(unittest.defaultTestLoader.loadTestsFromTestCase(TestMagicFunction))"
      ]
    },
    {
      "cell_type": "markdown",
      "metadata": {
        "id": "vpIPKL439zkw"
      },
      "source": [
        "# Задача 6\n",
        "Написать функцию, принимающая целое положительное число. Функция должна вернуть\n",
        "строку вида “(n1**p1)(n2**p2)…(nk**pk)” представляющая разложение числа на простые\n",
        "множители (если pi == 1, то выводить только ni).\n",
        "Например, для числа 86240 функция должна вернуть “(2**5)(5)(7**2)(11)”. Написать тесты для кода"
      ]
    },
    {
      "cell_type": "code",
      "execution_count": 61,
      "metadata": {
        "id": "pFebmcZk94Jw"
      },
      "outputs": [
        {
          "name": "stderr",
          "output_type": "stream",
          "text": [
            ".......\n",
            "----------------------------------------------------------------------\n",
            "Ran 7 tests in 0.003s\n",
            "\n",
            "OK\n"
          ]
        }
      ],
      "source": [
        "def prime_factorization(n: int) -> str:\n",
        "    if n <= 0:\n",
        "        raise ValueError(\"Число должно быть положительным\")\n",
        "    \n",
        "    factors = {}\n",
        "    divisor = 2\n",
        "    \n",
        "    while n >= 2:\n",
        "        while n % divisor == 0:\n",
        "            if divisor in factors:\n",
        "                factors[divisor] += 1\n",
        "            else:\n",
        "                factors[divisor] = 1\n",
        "            n //= divisor\n",
        "        divisor += 1\n",
        "    \n",
        "    result = []\n",
        "    for prime, power in factors.items():\n",
        "        if power == 1:\n",
        "            result.append(f'({prime})')\n",
        "        else:\n",
        "            result.append(f'({prime}**{power})')\n",
        "    \n",
        "    return ''.join(result)\n",
        "\n",
        "class TestPrimeFactorization(unittest.TestCase):\n",
        "    def test_single_prime(self):\n",
        "        self.assertEqual(prime_factorization(3), '(3)')\n",
        "\n",
        "    def test_prime_power(self):\n",
        "        self.assertEqual(prime_factorization(27), '(3**3)')\n",
        "\n",
        "    def test_mult_prime_factors(self):\n",
        "        self.assertEqual(prime_factorization(60), '(2**2)(3)(5)')\n",
        "\n",
        "    def test_multiple_same_primes(self):\n",
        "        self.assertEqual(prime_factorization(86240), '(2**5)(5)(7**2)(11)')\n",
        "\n",
        "    def test_large_number(self):\n",
        "        self.assertEqual(prime_factorization(1001), '(7)(11)(13)')\n",
        "\n",
        "    def test_zero_input(self):\n",
        "        with self.assertRaises(ValueError):\n",
        "            prime_factorization(0)\n",
        "\n",
        "    def test_negative_input(self):\n",
        "        with self.assertRaises(ValueError):\n",
        "            prime_factorization(-10)\n",
        "\n",
        "if __name__ == '__main__':\n",
        "    unittest.TextTestRunner().run(unittest.defaultTestLoader.loadTestsFromTestCase(TestPrimeFactorization))"
      ]
    },
    {
      "cell_type": "markdown",
      "metadata": {
        "id": "ps2s0BudX7A2"
      },
      "source": [
        "# Задача 7\n",
        "Написать функцию, принимающая целое число n, задающее количество кубиков. Функция\n",
        "должна определить, можно ли из данного кол-ва кубиков построить пирамиду, то есть\n",
        "можно ли представить число n как 1^2+2^2+3^2+…+k^2. Если можно, то функция должна\n",
        "вернуть k, иначе строку “It is impossible”. Написать тесты для кода"
      ]
    },
    {
      "cell_type": "code",
      "execution_count": 63,
      "metadata": {
        "id": "3YPjEXxhX_YT"
      },
      "outputs": [
        {
          "name": "stderr",
          "output_type": "stream",
          "text": [
            "....\n",
            "----------------------------------------------------------------------\n",
            "Ran 4 tests in 0.001s\n",
            "\n",
            "OK\n"
          ]
        }
      ],
      "source": [
        "def pyramid(number: int):\n",
        "    number = abs(number)\n",
        "    k = 0\n",
        "    total_cubes = 0\n",
        "    \n",
        "    while total_cubes < number:\n",
        "        k += 1\n",
        "        total_cubes += k * k\n",
        "    \n",
        "    if total_cubes == number:\n",
        "        return k\n",
        "    else:\n",
        "        return \"It is impossible\"\n",
        "\n",
        "class TestPyramid(unittest.TestCase):\n",
        "    def test_no_cubes(self):\n",
        "        self.assertEqual(pyramid(0), 0)\n",
        "\n",
        "    def test_perfect_square_sum(self):\n",
        "        self.assertEqual(pyramid(14), 3)  # 1^2 + 2^2 + 3^2 = 14\n",
        "\n",
        "    def test_impossible_case(self):\n",
        "        self.assertEqual(pyramid(15), \"It is impossible\")\n",
        "\n",
        "    def test_large_number(self):\n",
        "        self.assertEqual(pyramid(385), 10)  # 1^2 + 2^2 + 3^2 + 4^2 + 5^2 + 6^2 + 7^2 + 8^2 + 9^2 + 10^2 = 385\n",
        "\n",
        "if __name__ == '__main__':\n",
        "    unittest.TextTestRunner().run(unittest.defaultTestLoader.loadTestsFromTestCase(TestPyramid))"
      ]
    },
    {
      "cell_type": "markdown",
      "metadata": {
        "id": "KeKgmIdAQMEJ"
      },
      "source": [
        "# Задача 8\n",
        "Функция принимает на вход положительное число и определяет является ли оно сбалансированным, т.е. сумма цифр до средних равна сумме цифр после. Средними в случае нечетного числа цифр считать одну цифру, в случае четного - две средних. Написать тесты для кода"
      ]
    },
    {
      "cell_type": "code",
      "execution_count": 68,
      "metadata": {
        "id": "gMAAqtqlQrZt"
      },
      "outputs": [
        {
          "name": "stderr",
          "output_type": "stream",
          "text": [
            "......\n",
            "----------------------------------------------------------------------\n",
            "Ran 6 tests in 0.002s\n",
            "\n",
            "OK\n"
          ]
        }
      ],
      "source": [
        "def is_balanced(x: int) -> bool:\n",
        "    l = [int(i) for i in str(x)]\n",
        "    if len(l) <= 2:\n",
        "        return True\n",
        "    if len(l) % 2 == 0:\n",
        "        return sum(l[:(len(l) // 2) - 1]) == sum(l[(len(l) // 2) + 1: ])\n",
        "    else:\n",
        "        return sum(l[:(len(l) // 2)]) == sum(l[(len(l) // 2) + 1: ])\n",
        "\n",
        "class TestIsBalanced(unittest.TestCase):\n",
        "    def test_balanced_even_digits(self):\n",
        "        self.assertFalse(is_balanced(1230))    # 1 + 2 != 3 + 0\n",
        "        self.assertTrue(is_balanced(123321))  # 1 + 2 == 2 + 1\n",
        "\n",
        "    def test_balanced_odd_digits(self):\n",
        "        self.assertTrue(is_balanced(12321))   # 1 + 2 == 2 + 1\n",
        "        self.assertTrue(is_balanced(1234321)) # 1 + 2 + 3 == 3 + 2 + 1\n",
        "\n",
        "    def test_unbalanced_even_digits(self):\n",
        "        self.assertFalse(is_balanced(1234))   # 1 + 2 != 3 + 4\n",
        "        self.assertFalse(is_balanced(1122))   # 1 + 1 != 2 + 2\n",
        "\n",
        "    def test_unbalanced_odd_digits(self):\n",
        "        self.assertFalse(is_balanced(12341))  # 1 + 2 != 4 + 1\n",
        "        self.assertFalse(is_balanced(1233210)) # 1 + 2 + 3 != 3 + 2 + 1 + 0\n",
        "\n",
        "    def test_single_or_double_digit(self):\n",
        "        self.assertTrue(is_balanced(5))       # Считается сбалансированным\n",
        "        self.assertTrue(is_balanced(10))      # Считается сбалансированным\n",
        "\n",
        "    def test_large_balanced_number(self):\n",
        "        self.assertTrue(is_balanced(12345678987654321)) # Баланс на обеих сторонах\n",
        "        self.assertFalse(is_balanced(1234567898765432)) # Не баланс по средним\n",
        "\n",
        "if __name__ == '__main__':\n",
        "    unittest.TextTestRunner().run(unittest.defaultTestLoader.loadTestsFromTestCase(TestIsBalanced))"
      ]
    }
  ],
  "metadata": {
    "colab": {
      "provenance": []
    },
    "kernelspec": {
      "display_name": ".venv",
      "language": "python",
      "name": "python3"
    },
    "language_info": {
      "codemirror_mode": {
        "name": "ipython",
        "version": 3
      },
      "file_extension": ".py",
      "mimetype": "text/x-python",
      "name": "python",
      "nbconvert_exporter": "python",
      "pygments_lexer": "ipython3",
      "version": "3.11.9"
    }
  },
  "nbformat": 4,
  "nbformat_minor": 0
}
