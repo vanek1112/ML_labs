{
 "cells": [
  {
   "cell_type": "markdown",
   "id": "0b7f57a6",
   "metadata": {},
   "source": [
    "### Импорт библиотек\n"
   ]
  },
  {
   "cell_type": "code",
   "execution_count": 34,
   "id": "e9d4dda1",
   "metadata": {},
   "outputs": [],
   "source": [
    "import numpy as np\n",
    "import pandas as pd\n",
    "import matplotlib.pyplot as plt\n",
    "from sklearn.neighbors import KNeighborsRegressor\n",
    "import seaborn as sns"
   ]
  },
  {
   "cell_type": "markdown",
   "id": "bf98d08a",
   "metadata": {},
   "source": [
    "----"
   ]
  },
  {
   "cell_type": "markdown",
   "id": "6cb409b8",
   "metadata": {},
   "source": [
    "### Чтение данных\n"
   ]
  },
  {
   "cell_type": "code",
   "execution_count": 35,
   "id": "7d666bf0",
   "metadata": {},
   "outputs": [],
   "source": [
    "df = pd.read_csv('Titanic.csv')"
   ]
  },
  {
   "cell_type": "markdown",
   "id": "634eeea1",
   "metadata": {},
   "source": [
    "----"
   ]
  },
  {
   "cell_type": "markdown",
   "id": "f524fbc1",
   "metadata": {},
   "source": [
    "### Предпросмотр данных и работа с ними\n"
   ]
  },
  {
   "cell_type": "code",
   "execution_count": 4,
   "id": "703c8443",
   "metadata": {},
   "outputs": [
    {
     "data": {
      "text/html": [
       "<div>\n",
       "<style scoped>\n",
       "    .dataframe tbody tr th:only-of-type {\n",
       "        vertical-align: middle;\n",
       "    }\n",
       "\n",
       "    .dataframe tbody tr th {\n",
       "        vertical-align: top;\n",
       "    }\n",
       "\n",
       "    .dataframe thead th {\n",
       "        text-align: right;\n",
       "    }\n",
       "</style>\n",
       "<table border=\"1\" class=\"dataframe\">\n",
       "  <thead>\n",
       "    <tr style=\"text-align: right;\">\n",
       "      <th></th>\n",
       "      <th>PassengerId</th>\n",
       "      <th>Survived</th>\n",
       "      <th>Pclass</th>\n",
       "      <th>Name</th>\n",
       "      <th>Sex</th>\n",
       "      <th>Age</th>\n",
       "      <th>SibSp</th>\n",
       "      <th>Parch</th>\n",
       "      <th>Ticket</th>\n",
       "      <th>Fare</th>\n",
       "      <th>Cabin</th>\n",
       "      <th>Embarked</th>\n",
       "    </tr>\n",
       "  </thead>\n",
       "  <tbody>\n",
       "    <tr>\n",
       "      <th>0</th>\n",
       "      <td>1</td>\n",
       "      <td>0</td>\n",
       "      <td>3</td>\n",
       "      <td>Braund, Mr. Owen Harris</td>\n",
       "      <td>male</td>\n",
       "      <td>22.0</td>\n",
       "      <td>1</td>\n",
       "      <td>0</td>\n",
       "      <td>A/5 21171</td>\n",
       "      <td>7.2500</td>\n",
       "      <td>NaN</td>\n",
       "      <td>S</td>\n",
       "    </tr>\n",
       "    <tr>\n",
       "      <th>1</th>\n",
       "      <td>2</td>\n",
       "      <td>1</td>\n",
       "      <td>1</td>\n",
       "      <td>Cumings, Mrs. John Bradley (Florence Briggs Th...</td>\n",
       "      <td>female</td>\n",
       "      <td>38.0</td>\n",
       "      <td>1</td>\n",
       "      <td>0</td>\n",
       "      <td>PC 17599</td>\n",
       "      <td>71.2833</td>\n",
       "      <td>C85</td>\n",
       "      <td>C</td>\n",
       "    </tr>\n",
       "    <tr>\n",
       "      <th>2</th>\n",
       "      <td>3</td>\n",
       "      <td>1</td>\n",
       "      <td>3</td>\n",
       "      <td>Heikkinen, Miss. Laina</td>\n",
       "      <td>female</td>\n",
       "      <td>26.0</td>\n",
       "      <td>0</td>\n",
       "      <td>0</td>\n",
       "      <td>STON/O2. 3101282</td>\n",
       "      <td>7.9250</td>\n",
       "      <td>NaN</td>\n",
       "      <td>S</td>\n",
       "    </tr>\n",
       "    <tr>\n",
       "      <th>3</th>\n",
       "      <td>4</td>\n",
       "      <td>1</td>\n",
       "      <td>1</td>\n",
       "      <td>Futrelle, Mrs. Jacques Heath (Lily May Peel)</td>\n",
       "      <td>female</td>\n",
       "      <td>35.0</td>\n",
       "      <td>1</td>\n",
       "      <td>0</td>\n",
       "      <td>113803</td>\n",
       "      <td>53.1000</td>\n",
       "      <td>C123</td>\n",
       "      <td>S</td>\n",
       "    </tr>\n",
       "    <tr>\n",
       "      <th>4</th>\n",
       "      <td>5</td>\n",
       "      <td>0</td>\n",
       "      <td>3</td>\n",
       "      <td>Allen, Mr. William Henry</td>\n",
       "      <td>male</td>\n",
       "      <td>35.0</td>\n",
       "      <td>0</td>\n",
       "      <td>0</td>\n",
       "      <td>373450</td>\n",
       "      <td>8.0500</td>\n",
       "      <td>NaN</td>\n",
       "      <td>S</td>\n",
       "    </tr>\n",
       "  </tbody>\n",
       "</table>\n",
       "</div>"
      ],
      "text/plain": [
       "   PassengerId  Survived  Pclass  \\\n",
       "0            1         0       3   \n",
       "1            2         1       1   \n",
       "2            3         1       3   \n",
       "3            4         1       1   \n",
       "4            5         0       3   \n",
       "\n",
       "                                                Name     Sex   Age  SibSp  \\\n",
       "0                            Braund, Mr. Owen Harris    male  22.0      1   \n",
       "1  Cumings, Mrs. John Bradley (Florence Briggs Th...  female  38.0      1   \n",
       "2                             Heikkinen, Miss. Laina  female  26.0      0   \n",
       "3       Futrelle, Mrs. Jacques Heath (Lily May Peel)  female  35.0      1   \n",
       "4                           Allen, Mr. William Henry    male  35.0      0   \n",
       "\n",
       "   Parch            Ticket     Fare Cabin Embarked  \n",
       "0      0         A/5 21171   7.2500   NaN        S  \n",
       "1      0          PC 17599  71.2833   C85        C  \n",
       "2      0  STON/O2. 3101282   7.9250   NaN        S  \n",
       "3      0            113803  53.1000  C123        S  \n",
       "4      0            373450   8.0500   NaN        S  "
      ]
     },
     "execution_count": 4,
     "metadata": {},
     "output_type": "execute_result"
    }
   ],
   "source": [
    "df.head()"
   ]
  },
  {
   "cell_type": "markdown",
   "id": "4846f1cc",
   "metadata": {},
   "source": [
    "На данном этапе можно убрать следующие данные:\n",
    "\n",
    "- PassengerID - просто ID пассажира, не может влиять на выживаемость\n",
    "- Name - уникальное имя пассажира, также не может влиять на его выживаемость\n",
    "- Embarked - город посадки пассажира, также не может влиять на выживаемость, особенно на больших данных\n",
    "- Ticket - номер билета пассажира, скорее всего не имеет влияния на выживаемость"
   ]
  },
  {
   "cell_type": "code",
   "execution_count": 36,
   "id": "0f9d9be0",
   "metadata": {},
   "outputs": [],
   "source": [
    "df = df.drop('PassengerId', axis=1)\n",
    "df = df.drop('Name', axis=1)\n",
    "df = df.drop('Embarked', axis=1)\n",
    "df = df.drop('Ticket', axis=1)"
   ]
  },
  {
   "cell_type": "markdown",
   "id": "56298a15",
   "metadata": {},
   "source": [
    "#### Работа с NaN\n",
    "\n",
    "Проверим данные на наличие пропущенных значений."
   ]
  },
  {
   "cell_type": "code",
   "execution_count": null,
   "id": "87f74d51",
   "metadata": {},
   "outputs": [
    {
     "data": {
      "text/html": [
       "<div>\n",
       "<style scoped>\n",
       "    .dataframe tbody tr th:only-of-type {\n",
       "        vertical-align: middle;\n",
       "    }\n",
       "\n",
       "    .dataframe tbody tr th {\n",
       "        vertical-align: top;\n",
       "    }\n",
       "\n",
       "    .dataframe thead th {\n",
       "        text-align: right;\n",
       "    }\n",
       "</style>\n",
       "<table border=\"1\" class=\"dataframe\">\n",
       "  <thead>\n",
       "    <tr style=\"text-align: right;\">\n",
       "      <th></th>\n",
       "      <th>0</th>\n",
       "    </tr>\n",
       "  </thead>\n",
       "  <tbody>\n",
       "    <tr>\n",
       "      <th>Survived</th>\n",
       "      <td>0</td>\n",
       "    </tr>\n",
       "    <tr>\n",
       "      <th>Pclass</th>\n",
       "      <td>0</td>\n",
       "    </tr>\n",
       "    <tr>\n",
       "      <th>Sex</th>\n",
       "      <td>0</td>\n",
       "    </tr>\n",
       "    <tr>\n",
       "      <th>Age</th>\n",
       "      <td>177</td>\n",
       "    </tr>\n",
       "    <tr>\n",
       "      <th>SibSp</th>\n",
       "      <td>0</td>\n",
       "    </tr>\n",
       "    <tr>\n",
       "      <th>Parch</th>\n",
       "      <td>0</td>\n",
       "    </tr>\n",
       "    <tr>\n",
       "      <th>Fare</th>\n",
       "      <td>0</td>\n",
       "    </tr>\n",
       "    <tr>\n",
       "      <th>Cabin</th>\n",
       "      <td>687</td>\n",
       "    </tr>\n",
       "  </tbody>\n",
       "</table>\n",
       "</div><br><label><b>dtype:</b> int64</label>"
      ],
      "text/plain": [
       "Survived      0\n",
       "Pclass        0\n",
       "Sex           0\n",
       "Age         177\n",
       "SibSp         0\n",
       "Parch         0\n",
       "Fare          0\n",
       "Cabin       687\n",
       "dtype: int64"
      ]
     },
     "metadata": {},
     "output_type": "display_data"
    }
   ],
   "source": [
    "df.isnull().sum()"
   ]
  },
  {
   "cell_type": "markdown",
   "id": "203efb17",
   "metadata": {},
   "source": [
    "В качестве результата проверки имеем:\n",
    "\n",
    "- Cabin - содержит слишком много незаполненных ячеек, попытка заполнения не может быть успешной из-за маленького объема данных"
   ]
  },
  {
   "cell_type": "markdown",
   "id": "2578b146",
   "metadata": {},
   "source": [
    "Удалим её для более точной оценки выживаемости:"
   ]
  },
  {
   "cell_type": "code",
   "execution_count": 37,
   "id": "f98795f5",
   "metadata": {},
   "outputs": [],
   "source": [
    "df = df.drop('Cabin', axis=1)"
   ]
  },
  {
   "cell_type": "markdown",
   "id": "e3ec8178",
   "metadata": {},
   "source": [
    "У нас остается одна колонка не int, переводим:"
   ]
  },
  {
   "cell_type": "code",
   "execution_count": 38,
   "id": "e41079f0",
   "metadata": {},
   "outputs": [],
   "source": [
    "df['Sex'] = df['Sex'].map({'female': 1, 'male': 0})"
   ]
  },
  {
   "cell_type": "markdown",
   "id": "21e5205d",
   "metadata": {},
   "source": [
    "----"
   ]
  },
  {
   "cell_type": "markdown",
   "id": "c7c2da87",
   "metadata": {},
   "source": [
    "### Разведочный анализ данных (EDA)\n"
   ]
  },
  {
   "cell_type": "markdown",
   "id": "af264ae2",
   "metadata": {},
   "source": [
    "#### Анализ графиков"
   ]
  },
  {
   "cell_type": "markdown",
   "id": "c5f1a7a7",
   "metadata": {},
   "source": [
    "На так называемом ящике с усами видно, что мужчины в целом старше и имеют больше выбросов по возрасте (крайних значений):"
   ]
  },
  {
   "cell_type": "code",
   "execution_count": 12,
   "id": "4bff40a2",
   "metadata": {},
   "outputs": [
    {
     "data": {
      "image/png": "[encoded data removed]",
      "text/plain": [
       "<Figure size 640x480 with 1 Axes>"
      ]
     },
     "metadata": {},
     "output_type": "display_data"
    }
   ],
   "source": [
    "sns.boxplot(x='Sex', y='Age', data=df)\n",
    "plt.xlabel('Пол')\n",
    "plt.ylabel('Возраст')\n",
    "plt.title('Распределение возраста по полу')\n",
    "plt.show()"
   ]
  },
  {
   "cell_type": "markdown",
   "id": "914c2d0f",
   "metadata": {},
   "source": [
    "...\n",
    "----------"
   ]
  },
  {
   "cell_type": "markdown",
   "id": "81129633",
   "metadata": {},
   "source": [
    "На графике ниже видно зависимость выживаемости от возраста: у людей среднего возраста выживаемость значительно ниже, чем в группах от 0 до 15 и от 55 до 80 лет, о чем свидетельствует яркий провал в возрастной группе 20 - 50 лет"
   ]
  },
  {
   "cell_type": "code",
   "execution_count": 13,
   "id": "969b2c22",
   "metadata": {},
   "outputs": [
    {
     "data": {
      "image/png": "[encoded data removed]",
      "text/plain": [
       "<Figure size 640x480 with 1 Axes>"
      ]
     },
     "metadata": {},
     "output_type": "display_data"
    }
   ],
   "source": [
    "rounded_ages = df['Age'].round()\n",
    "survival_rates = df.groupby(rounded_ages)['Survived'].mean()\n",
    "plt.bar(survival_rates.index, survival_rates.values)\n",
    "plt.xlabel('Возраст')\n",
    "plt.ylabel('Процент выживших')\n",
    "plt.title('Корреляция между возрастом и выживаемостью')\n",
    "plt.show()"
   ]
  },
  {
   "cell_type": "markdown",
   "id": "3449d23a",
   "metadata": {},
   "source": [
    "...\n",
    "----------"
   ]
  },
  {
   "cell_type": "markdown",
   "id": "d03e1079",
   "metadata": {},
   "source": [
    "Главная проблема двух графиков ниже - их интерпретация. Параметр является гибридным, поэтому, например, 1 колонке SibSp может обозначать как супруга, так и брата/сестру. Аналогичная проблема присутствует и в колонке Parch. Еще больше усложняет ситуацию то, что на титанике может быть три поколения одной семьи, или, например, дедушка с внуком, что не будет как либо зачислено в датасете. Поэтому эти колонки отбрасываются для подсчета корреляции возраста."
   ]
  },
  {
   "cell_type": "code",
   "execution_count": 14,
   "id": "60ce250b",
   "metadata": {},
   "outputs": [
    {
     "data": {
      "image/png": "[encoded data removed]",
      "text/plain": [
       "<Figure size 640x480 with 1 Axes>"
      ]
     },
     "metadata": {},
     "output_type": "display_data"
    }
   ],
   "source": [
    "plt.scatter(df['Age'], df['Parch'])\n",
    "plt.xlabel('Возраст (Age)')\n",
    "plt.ylabel('Количество детей/родителей (Parch)')\n",
    "plt.title('Корреляция между возрастом и Количеством детей/родителей')\n",
    "plt.show()"
   ]
  },
  {
   "cell_type": "code",
   "execution_count": 15,
   "id": "51aa9355",
   "metadata": {},
   "outputs": [
    {
     "data": {
      "image/png": "[encoded data removed]",
      "text/plain": [
       "<Figure size 640x480 with 1 Axes>"
      ]
     },
     "metadata": {},
     "output_type": "display_data"
    }
   ],
   "source": [
    "plt.scatter(df['Age'], df['SibSp'])\n",
    "plt.xlabel('Возраст (Age)')\n",
    "plt.ylabel('Количество братьев/сестер и супругов (SibSp)')\n",
    "plt.title('Корреляция между возрастом и количеством братьев/сестер и супругов')\n",
    "plt.show()"
   ]
  },
  {
   "cell_type": "markdown",
   "id": "be45930c",
   "metadata": {},
   "source": [
    "...\n",
    "----------"
   ]
  },
  {
   "cell_type": "markdown",
   "id": "32c1464c",
   "metadata": {},
   "source": [
    "#### Модель К-ближайших соседей"
   ]
  },
  {
   "cell_type": "markdown",
   "id": "0d24457b",
   "metadata": {},
   "source": [
    "На основе графиков мы можем создать модель К-ближайших соседей. Выстраиваем корреляцию возраста с параметрами класса билета, пола и стоимости билета и делаем предсказание для пустых ячеек."
   ]
  },
  {
   "cell_type": "code",
   "execution_count": 39,
   "id": "6d303853",
   "metadata": {},
   "outputs": [],
   "source": [
    "df_train = df[~df['Age'].isnull()]\n",
    "features = ['Pclass', 'Sex', 'Fare', 'Survived']\n",
    "model =  KNeighborsRegressor(n_neighbors=5)\n",
    "model.fit(df_train[features], df_train['Age'])\n",
    "df_test = df[df['Age'].isnull()]\n",
    "predicted_age = model.predict(df_test[features])\n",
    "df.loc[df['Age'].isnull(), 'Age'] = predicted_age"
   ]
  },
  {
   "cell_type": "code",
   "execution_count": null,
   "id": "f6097aed",
   "metadata": {},
   "outputs": [
    {
     "data": {
      "text/html": [
       "<div>\n",
       "<style scoped>\n",
       "    .dataframe tbody tr th:only-of-type {\n",
       "        vertical-align: middle;\n",
       "    }\n",
       "\n",
       "    .dataframe tbody tr th {\n",
       "        vertical-align: top;\n",
       "    }\n",
       "\n",
       "    .dataframe thead th {\n",
       "        text-align: right;\n",
       "    }\n",
       "</style>\n",
       "<table border=\"1\" class=\"dataframe\">\n",
       "  <thead>\n",
       "    <tr style=\"text-align: right;\">\n",
       "      <th></th>\n",
       "      <th>0</th>\n",
       "    </tr>\n",
       "  </thead>\n",
       "  <tbody>\n",
       "    <tr>\n",
       "      <th>Survived</th>\n",
       "      <td>0</td>\n",
       "    </tr>\n",
       "    <tr>\n",
       "      <th>Pclass</th>\n",
       "      <td>0</td>\n",
       "    </tr>\n",
       "    <tr>\n",
       "      <th>Sex</th>\n",
       "      <td>0</td>\n",
       "    </tr>\n",
       "    <tr>\n",
       "      <th>Age</th>\n",
       "      <td>0</td>\n",
       "    </tr>\n",
       "    <tr>\n",
       "      <th>SibSp</th>\n",
       "      <td>0</td>\n",
       "    </tr>\n",
       "    <tr>\n",
       "      <th>Parch</th>\n",
       "      <td>0</td>\n",
       "    </tr>\n",
       "    <tr>\n",
       "      <th>Fare</th>\n",
       "      <td>0</td>\n",
       "    </tr>\n",
       "  </tbody>\n",
       "</table>\n",
       "</div><br><label><b>dtype:</b> int64</label>"
      ],
      "text/plain": [
       "Survived    0\n",
       "Pclass      0\n",
       "Sex         0\n",
       "Age         0\n",
       "SibSp       0\n",
       "Parch       0\n",
       "Fare        0\n",
       "dtype: int64"
      ]
     },
     "metadata": {},
     "output_type": "display_data"
    }
   ],
   "source": [
    "df.isnull().sum()"
   ]
  },
  {
   "cell_type": "code",
   "execution_count": 40,
   "id": "9b5d8938",
   "metadata": {},
   "outputs": [],
   "source": [
    "X = df.drop(columns=['Survived'])\n",
    "y = df['Survived']"
   ]
  },
  {
   "cell_type": "markdown",
   "id": "243f9690",
   "metadata": {},
   "source": [
    "Присутствует дизбаланс классов"
   ]
  },
  {
   "cell_type": "code",
   "execution_count": null,
   "id": "f4050220",
   "metadata": {},
   "outputs": [
    {
     "data": {
      "text/html": [
       "<div>\n",
       "<style scoped>\n",
       "    .dataframe tbody tr th:only-of-type {\n",
       "        vertical-align: middle;\n",
       "    }\n",
       "\n",
       "    .dataframe tbody tr th {\n",
       "        vertical-align: top;\n",
       "    }\n",
       "\n",
       "    .dataframe thead th {\n",
       "        text-align: right;\n",
       "    }\n",
       "</style>\n",
       "<table border=\"1\" class=\"dataframe\">\n",
       "  <thead>\n",
       "    <tr style=\"text-align: right;\">\n",
       "      <th></th>\n",
       "      <th>count</th>\n",
       "    </tr>\n",
       "    <tr>\n",
       "      <th>Survived</th>\n",
       "      <th></th>\n",
       "    </tr>\n",
       "  </thead>\n",
       "  <tbody>\n",
       "    <tr>\n",
       "      <th>0</th>\n",
       "      <td>549</td>\n",
       "    </tr>\n",
       "    <tr>\n",
       "      <th>1</th>\n",
       "      <td>342</td>\n",
       "    </tr>\n",
       "  </tbody>\n",
       "</table>\n",
       "</div><br><label><b>dtype:</b> int64</label>"
      ],
      "text/plain": [
       "Survived\n",
       "0    549\n",
       "1    342\n",
       "Name: count, dtype: int64"
      ]
     },
     "metadata": {},
     "output_type": "display_data"
    }
   ],
   "source": [
    "df['Survived'].value_counts()"
   ]
  },
  {
   "cell_type": "markdown",
   "id": "1b0f0ae0",
   "metadata": {},
   "source": [
    "По графику ниже можем заметить сильную корреляцию с колонками Fare, Pclass, Sex и слабую корреляцию с Age и Parch. Корреляция с SibSp практически отсутствует."
   ]
  },
  {
   "cell_type": "code",
   "execution_count": null,
   "id": "6d6ff4ef",
   "metadata": {},
   "outputs": [
    {
     "data": {
      "application/vnd.google.colaboratory.intrinsic+json": {
       "summary": "{\n  \"name\": \"df\",\n  \"rows\": 7,\n  \"fields\": [\n    {\n      \"column\": \"Survived\",\n      \"properties\": {\n        \"dtype\": \"number\",\n        \"std\": 0.45051797374255986,\n        \"min\": -0.33848103596101514,\n        \"max\": 1.0,\n        \"num_unique_values\": 7,\n        \"samples\": [\n          1.0,\n          -0.33848103596101514,\n          0.08162940708348335\n        ],\n        \"semantic_type\": \"\",\n        \"description\": \"\"\n      }\n    },\n    {\n      \"column\": \"Pclass\",\n      \"properties\": {\n        \"dtype\": \"number\",\n        \"std\": 0.5096003319822233,\n        \"min\": -0.5494996199439076,\n        \"max\": 1.0,\n        \"num_unique_values\": 7,\n        \"samples\": [\n          -0.33848103596101514,\n          1.0,\n          0.018442671310748508\n        ],\n        \"semantic_type\": \"\",\n        \"description\": \"\"\n      }\n    },\n    {\n      \"column\": \"Sex\",\n      \"properties\": {\n        \"dtype\": \"number\",\n        \"std\": 0.4006545679602084,\n        \"min\": -0.13280492568525792,\n        \"max\": 1.0,\n        \"num_unique_values\": 7,\n        \"samples\": [\n          0.5433513806577549,\n          -0.13190049060473927,\n          0.2454889600906989\n        ],\n        \"semantic_type\": \"\",\n        \"description\": \"\"\n      }\n    },\n    {\n      \"column\": \"Age\",\n      \"properties\": {\n        \"dtype\": \"number\",\n        \"std\": 0.45412296501218563,\n        \"min\": -0.35759450883546595,\n        \"max\": 1.0,\n        \"num_unique_values\": 7,\n        \"samples\": [\n          -0.11189103310425347,\n          -0.35759450883546595,\n          -0.1778710069375764\n        ],\n        \"semantic_type\": \"\",\n        \"description\": \"\"\n      }\n    },\n    {\n      \"column\": \"SibSp\",\n      \"properties\": {\n        \"dtype\": \"number\",\n        \"std\": 0.3923413789712172,\n        \"min\": -0.20255468953097372,\n        \"max\": 1.0,\n        \"num_unique_values\": 7,\n        \"samples\": [\n          -0.035322498885735576,\n          0.08308136284568686,\n          0.41483769862015624\n        ],\n        \"semantic_type\": \"\",\n        \"description\": \"\"\n      }\n    },\n    {\n      \"column\": \"Parch\",\n      \"properties\": {\n        \"dtype\": \"number\",\n        \"std\": 0.37760960354623424,\n        \"min\": -0.1778710069375764,\n        \"max\": 1.0,\n        \"num_unique_values\": 7,\n        \"samples\": [\n          0.08162940708348335,\n          0.018442671310748508,\n          1.0\n        ],\n        \"semantic_type\": \"\",\n        \"description\": \"\"\n      }\n    },\n    {\n      \"column\": \"Fare\",\n      \"properties\": {\n        \"dtype\": \"number\",\n        \"std\": 0.45069737991070247,\n        \"min\": -0.5494996199439076,\n        \"max\": 1.0,\n        \"num_unique_values\": 7,\n        \"samples\": [\n          0.2573065223849626,\n          -0.5494996199439076,\n          0.21622494477076448\n        ],\n        \"semantic_type\": \"\",\n        \"description\": \"\"\n      }\n    }\n  ]\n}",
       "type": "dataframe"
      },
      "text/html": [
       "\n",
       "  <div id=\"df-1c0f9d9a-add2-40a1-95e7-6408ab0b3437\" class=\"colab-df-container\">\n",
       "    <div>\n",
       "<style scoped>\n",
       "    .dataframe tbody tr th:only-of-type {\n",
       "        vertical-align: middle;\n",
       "    }\n",
       "\n",
       "    .dataframe tbody tr th {\n",
       "        vertical-align: top;\n",
       "    }\n",
       "\n",
       "    .dataframe thead th {\n",
       "        text-align: right;\n",
       "    }\n",
       "</style>\n",
       "<table border=\"1\" class=\"dataframe\">\n",
       "  <thead>\n",
       "    <tr style=\"text-align: right;\">\n",
       "      <th></th>\n",
       "      <th>Survived</th>\n",
       "      <th>Pclass</th>\n",
       "      <th>Sex</th>\n",
       "      <th>Age</th>\n",
       "      <th>SibSp</th>\n",
       "      <th>Parch</th>\n",
       "      <th>Fare</th>\n",
       "    </tr>\n",
       "  </thead>\n",
       "  <tbody>\n",
       "    <tr>\n",
       "      <th>Survived</th>\n",
       "      <td>1.000000</td>\n",
       "      <td>-0.338481</td>\n",
       "      <td>0.543351</td>\n",
       "      <td>-0.111891</td>\n",
       "      <td>-0.035322</td>\n",
       "      <td>0.081629</td>\n",
       "      <td>0.257307</td>\n",
       "    </tr>\n",
       "    <tr>\n",
       "      <th>Pclass</th>\n",
       "      <td>-0.338481</td>\n",
       "      <td>1.000000</td>\n",
       "      <td>-0.131900</td>\n",
       "      <td>-0.357595</td>\n",
       "      <td>0.083081</td>\n",
       "      <td>0.018443</td>\n",
       "      <td>-0.549500</td>\n",
       "    </tr>\n",
       "    <tr>\n",
       "      <th>Sex</th>\n",
       "      <td>0.543351</td>\n",
       "      <td>-0.131900</td>\n",
       "      <td>1.000000</td>\n",
       "      <td>-0.132805</td>\n",
       "      <td>0.114631</td>\n",
       "      <td>0.245489</td>\n",
       "      <td>0.182333</td>\n",
       "    </tr>\n",
       "    <tr>\n",
       "      <th>Age</th>\n",
       "      <td>-0.111891</td>\n",
       "      <td>-0.357595</td>\n",
       "      <td>-0.132805</td>\n",
       "      <td>1.000000</td>\n",
       "      <td>-0.202555</td>\n",
       "      <td>-0.177871</td>\n",
       "      <td>0.091416</td>\n",
       "    </tr>\n",
       "    <tr>\n",
       "      <th>SibSp</th>\n",
       "      <td>-0.035322</td>\n",
       "      <td>0.083081</td>\n",
       "      <td>0.114631</td>\n",
       "      <td>-0.202555</td>\n",
       "      <td>1.000000</td>\n",
       "      <td>0.414838</td>\n",
       "      <td>0.159651</td>\n",
       "    </tr>\n",
       "    <tr>\n",
       "      <th>Parch</th>\n",
       "      <td>0.081629</td>\n",
       "      <td>0.018443</td>\n",
       "      <td>0.245489</td>\n",
       "      <td>-0.177871</td>\n",
       "      <td>0.414838</td>\n",
       "      <td>1.000000</td>\n",
       "      <td>0.216225</td>\n",
       "    </tr>\n",
       "    <tr>\n",
       "      <th>Fare</th>\n",
       "      <td>0.257307</td>\n",
       "      <td>-0.549500</td>\n",
       "      <td>0.182333</td>\n",
       "      <td>0.091416</td>\n",
       "      <td>0.159651</td>\n",
       "      <td>0.216225</td>\n",
       "      <td>1.000000</td>\n",
       "    </tr>\n",
       "  </tbody>\n",
       "</table>\n",
       "</div>\n",
       "    <div class=\"colab-df-buttons\">\n",
       "\n",
       "  <div class=\"colab-df-container\">\n",
       "    <button class=\"colab-df-convert\" onclick=\"convertToInteractive('df-1c0f9d9a-add2-40a1-95e7-6408ab0b3437')\"\n",
       "            title=\"Convert this dataframe to an interactive table.\"\n",
       "            style=\"display:none;\">\n",
       "\n",
       "  <svg xmlns=\"http://www.w3.org/2000/svg\" height=\"24px\" viewBox=\"0 -960 960 960\">\n",
       "    <path d=\"M120-120v-720h720v720H120Zm60-500h600v-160H180v160Zm220 220h160v-160H400v160Zm0 220h160v-160H400v160ZM180-400h160v-160H180v160Zm440 0h160v-160H620v160ZM180-180h160v-160H180v160Zm440 0h160v-160H620v160Z\"/>\n",
       "  </svg>\n",
       "    </button>\n",
       "\n",
       "  <style>\n",
       "    .colab-df-container {\n",
       "      display:flex;\n",
       "      gap: 12px;\n",
       "    }\n",
       "\n",
       "    .colab-df-convert {\n",
       "      background-color: #E8F0FE;\n",
       "      border: none;\n",
       "      border-radius: 50%;\n",
       "      cursor: pointer;\n",
       "      display: none;\n",
       "      fill: #1967D2;\n",
       "      height: 32px;\n",
       "      padding: 0 0 0 0;\n",
       "      width: 32px;\n",
       "    }\n",
       "\n",
       "    .colab-df-convert:hover {\n",
       "      background-color: #E2EBFA;\n",
       "      box-shadow: 0px 1px 2px rgba(60, 64, 67, 0.3), 0px 1px 3px 1px rgba(60, 64, 67, 0.15);\n",
       "      fill: #174EA6;\n",
       "    }\n",
       "\n",
       "    .colab-df-buttons div {\n",
       "      margin-bottom: 4px;\n",
       "    }\n",
       "\n",
       "    [theme=dark] .colab-df-convert {\n",
       "      background-color: #3B4455;\n",
       "      fill: #D2E3FC;\n",
       "    }\n",
       "\n",
       "    [theme=dark] .colab-df-convert:hover {\n",
       "      background-color: #434B5C;\n",
       "      box-shadow: 0px 1px 3px 1px rgba(0, 0, 0, 0.15);\n",
       "      filter: drop-shadow(0px 1px 2px rgba(0, 0, 0, 0.3));\n",
       "      fill: #FFFFFF;\n",
       "    }\n",
       "  </style>\n",
       "\n",
       "    <script>\n",
       "      const buttonEl =\n",
       "        document.querySelector('#df-1c0f9d9a-add2-40a1-95e7-6408ab0b3437 button.colab-df-convert');\n",
       "      buttonEl.style.display =\n",
       "        google.colab.kernel.accessAllowed ? 'block' : 'none';\n",
       "\n",
       "      async function convertToInteractive(key) {\n",
       "        const element = document.querySelector('#df-1c0f9d9a-add2-40a1-95e7-6408ab0b3437');\n",
       "        const dataTable =\n",
       "          await google.colab.kernel.invokeFunction('convertToInteractive',\n",
       "                                                    [key], {});\n",
       "        if (!dataTable) return;\n",
       "\n",
       "        const docLinkHtml = 'Like what you see? Visit the ' +\n",
       "          '<a target=\"_blank\" href=https://colab.research.google.com/notebooks/data_table.ipynb>data table notebook</a>'\n",
       "          + ' to learn more about interactive tables.';\n",
       "        element.innerHTML = '';\n",
       "        dataTable['output_type'] = 'display_data';\n",
       "        await google.colab.output.renderOutput(dataTable, element);\n",
       "        const docLink = document.createElement('div');\n",
       "        docLink.innerHTML = docLinkHtml;\n",
       "        element.appendChild(docLink);\n",
       "      }\n",
       "    </script>\n",
       "  </div>\n",
       "\n",
       "\n",
       "<div id=\"df-8fe208e1-ff12-4b4b-837c-60d4ad015076\">\n",
       "  <button class=\"colab-df-quickchart\" onclick=\"quickchart('df-8fe208e1-ff12-4b4b-837c-60d4ad015076')\"\n",
       "            title=\"Suggest charts\"\n",
       "            style=\"display:none;\">\n",
       "\n",
       "<svg xmlns=\"http://www.w3.org/2000/svg\" height=\"24px\"viewBox=\"0 0 24 24\"\n",
       "     width=\"24px\">\n",
       "    <g>\n",
       "        <path d=\"M19 3H5c-1.1 0-2 .9-2 2v14c0 1.1.9 2 2 2h14c1.1 0 2-.9 2-2V5c0-1.1-.9-2-2-2zM9 17H7v-7h2v7zm4 0h-2V7h2v10zm4 0h-2v-4h2v4z\"/>\n",
       "    </g>\n",
       "</svg>\n",
       "  </button>\n",
       "\n",
       "<style>\n",
       "  .colab-df-quickchart {\n",
       "      --bg-color: #E8F0FE;\n",
       "      --fill-color: #1967D2;\n",
       "      --hover-bg-color: #E2EBFA;\n",
       "      --hover-fill-color: #174EA6;\n",
       "      --disabled-fill-color: #AAA;\n",
       "      --disabled-bg-color: #DDD;\n",
       "  }\n",
       "\n",
       "  [theme=dark] .colab-df-quickchart {\n",
       "      --bg-color: #3B4455;\n",
       "      --fill-color: #D2E3FC;\n",
       "      --hover-bg-color: #434B5C;\n",
       "      --hover-fill-color: #FFFFFF;\n",
       "      --disabled-bg-color: #3B4455;\n",
       "      --disabled-fill-color: #666;\n",
       "  }\n",
       "\n",
       "  .colab-df-quickchart {\n",
       "    background-color: var(--bg-color);\n",
       "    border: none;\n",
       "    border-radius: 50%;\n",
       "    cursor: pointer;\n",
       "    display: none;\n",
       "    fill: var(--fill-color);\n",
       "    height: 32px;\n",
       "    padding: 0;\n",
       "    width: 32px;\n",
       "  }\n",
       "\n",
       "  .colab-df-quickchart:hover {\n",
       "    background-color: var(--hover-bg-color);\n",
       "    box-shadow: 0 1px 2px rgba(60, 64, 67, 0.3), 0 1px 3px 1px rgba(60, 64, 67, 0.15);\n",
       "    fill: var(--button-hover-fill-color);\n",
       "  }\n",
       "\n",
       "  .colab-df-quickchart-complete:disabled,\n",
       "  .colab-df-quickchart-complete:disabled:hover {\n",
       "    background-color: var(--disabled-bg-color);\n",
       "    fill: var(--disabled-fill-color);\n",
       "    box-shadow: none;\n",
       "  }\n",
       "\n",
       "  .colab-df-spinner {\n",
       "    border: 2px solid var(--fill-color);\n",
       "    border-color: transparent;\n",
       "    border-bottom-color: var(--fill-color);\n",
       "    animation:\n",
       "      spin 1s steps(1) infinite;\n",
       "  }\n",
       "\n",
       "  @keyframes spin {\n",
       "    0% {\n",
       "      border-color: transparent;\n",
       "      border-bottom-color: var(--fill-color);\n",
       "      border-left-color: var(--fill-color);\n",
       "    }\n",
       "    20% {\n",
       "      border-color: transparent;\n",
       "      border-left-color: var(--fill-color);\n",
       "      border-top-color: var(--fill-color);\n",
       "    }\n",
       "    30% {\n",
       "      border-color: transparent;\n",
       "      border-left-color: var(--fill-color);\n",
       "      border-top-color: var(--fill-color);\n",
       "      border-right-color: var(--fill-color);\n",
       "    }\n",
       "    40% {\n",
       "      border-color: transparent;\n",
       "      border-right-color: var(--fill-color);\n",
       "      border-top-color: var(--fill-color);\n",
       "    }\n",
       "    60% {\n",
       "      border-color: transparent;\n",
       "      border-right-color: var(--fill-color);\n",
       "    }\n",
       "    80% {\n",
       "      border-color: transparent;\n",
       "      border-right-color: var(--fill-color);\n",
       "      border-bottom-color: var(--fill-color);\n",
       "    }\n",
       "    90% {\n",
       "      border-color: transparent;\n",
       "      border-bottom-color: var(--fill-color);\n",
       "    }\n",
       "  }\n",
       "</style>\n",
       "\n",
       "  <script>\n",
       "    async function quickchart(key) {\n",
       "      const quickchartButtonEl =\n",
       "        document.querySelector('#' + key + ' button');\n",
       "      quickchartButtonEl.disabled = true;  // To prevent multiple clicks.\n",
       "      quickchartButtonEl.classList.add('colab-df-spinner');\n",
       "      try {\n",
       "        const charts = await google.colab.kernel.invokeFunction(\n",
       "            'suggestCharts', [key], {});\n",
       "      } catch (error) {\n",
       "        console.error('Error during call to suggestCharts:', error);\n",
       "      }\n",
       "      quickchartButtonEl.classList.remove('colab-df-spinner');\n",
       "      quickchartButtonEl.classList.add('colab-df-quickchart-complete');\n",
       "    }\n",
       "    (() => {\n",
       "      let quickchartButtonEl =\n",
       "        document.querySelector('#df-8fe208e1-ff12-4b4b-837c-60d4ad015076 button');\n",
       "      quickchartButtonEl.style.display =\n",
       "        google.colab.kernel.accessAllowed ? 'block' : 'none';\n",
       "    })();\n",
       "  </script>\n",
       "</div>\n",
       "    </div>\n",
       "  </div>\n"
      ],
      "text/plain": [
       "          Survived    Pclass       Sex       Age     SibSp     Parch      Fare\n",
       "Survived  1.000000 -0.338481  0.543351 -0.111891 -0.035322  0.081629  0.257307\n",
       "Pclass   -0.338481  1.000000 -0.131900 -0.357595  0.083081  0.018443 -0.549500\n",
       "Sex       0.543351 -0.131900  1.000000 -0.132805  0.114631  0.245489  0.182333\n",
       "Age      -0.111891 -0.357595 -0.132805  1.000000 -0.202555 -0.177871  0.091416\n",
       "SibSp    -0.035322  0.083081  0.114631 -0.202555  1.000000  0.414838  0.159651\n",
       "Parch     0.081629  0.018443  0.245489 -0.177871  0.414838  1.000000  0.216225\n",
       "Fare      0.257307 -0.549500  0.182333  0.091416  0.159651  0.216225  1.000000"
      ]
     },
     "metadata": {},
     "output_type": "display_data"
    }
   ],
   "source": [
    "df.corr()"
   ]
  },
  {
   "cell_type": "code",
   "execution_count": 41,
   "id": "de48fbb6",
   "metadata": {},
   "outputs": [],
   "source": [
    "df = df.drop('SibSp', axis=1)"
   ]
  },
  {
   "cell_type": "markdown",
   "id": "dbd2630b",
   "metadata": {},
   "source": [
    "----"
   ]
  },
  {
   "cell_type": "markdown",
   "id": "9273b743",
   "metadata": {},
   "source": [
    "### Feature Engineering\n"
   ]
  },
  {
   "cell_type": "markdown",
   "id": "36ddf55d",
   "metadata": {},
   "source": [
    "Добавим новые признаки для улучшения модели:"
   ]
  },
  {
   "cell_type": "code",
   "execution_count": null,
   "id": "358f5332",
   "metadata": {},
   "outputs": [],
   "source": [
    "# Возрастные группы\n",
    "df['AgeGroup'] = pd.cut(df['Age'], bins=[0, 12, 18, 25, 40, 60, 100], \n",
    "                        labels=['Child', 'Teen', 'Young Adult', 'Adult', 'Middle-aged', 'Senior'])\n",
    "\n",
    "# Категории стоимости\n",
    "df['FareCategory'] = pd.qcut(df['Fare'], 4, labels=['Low', 'Medium', 'High', 'Very High'])\n",
    "\n",
    "# Признак, указывающий является ли человек ребёнком\n",
    "df['IsChild'] = (df['Age'] < 18).astype(int)\n",
    "\n",
    "# Признак, есть ли у человека семья\n",
    "df['HasFamily'] = (df['Parch'] > 0).astype(int)\n",
    "\n",
    "# Стоимость на человека\n",
    "df['Fare_per_person'] = df['Fare'] / (df['Parch'] + 1)"
   ]
  },
  {
   "cell_type": "markdown",
   "id": "353e0562",
   "metadata": {},
   "source": [
    "#### Корреляция новых признаков с таргетом\n",
    "\n",
    "Возрастные группы."
   ]
  },
  {
   "cell_type": "code",
   "execution_count": 13,
   "id": "0927f10f",
   "metadata": {},
   "outputs": [
    {
     "data": {
      "image/png": "[encoded data removed]",
      "text/plain": [
       "<Figure size 1000x600 with 1 Axes>"
      ]
     },
     "metadata": {},
     "output_type": "display_data"
    }
   ],
   "source": [
    "plt.figure(figsize=(10, 6))\n",
    "sns.barplot(x='AgeGroup', y='Survived', data=df, order=['Child', 'Teen', 'Young Adult', 'Adult', 'Middle-aged', 'Senior'])\n",
    "plt.title('Выживаемость по возрастным группам')\n",
    "plt.show()"
   ]
  },
  {
   "cell_type": "markdown",
   "id": "2d569e87",
   "metadata": {},
   "source": [
    "Дети (Child) имеют самый высокий уровень выживаемости (~58%), тогда как пожилые (Senior) — самый низкий (~24%). Это подтверждает гипотезу о приоритете спасения детей."
   ]
  },
  {
   "cell_type": "markdown",
   "id": "dc955a47",
   "metadata": {},
   "source": [
    "...\n",
    "----------"
   ]
  },
  {
   "cell_type": "markdown",
   "id": "f4f8c9f6",
   "metadata": {},
   "source": [
    "Категории стоимости билета"
   ]
  },
  {
   "cell_type": "code",
   "execution_count": 14,
   "id": "3f5043f5",
   "metadata": {},
   "outputs": [
    {
     "data": {
      "image/png": "[encoded data removed]",
      "text/plain": [
       "<Figure size 1000x600 with 1 Axes>"
      ]
     },
     "metadata": {},
     "output_type": "display_data"
    }
   ],
   "source": [
    "plt.figure(figsize=(10, 6))\n",
    "sns.barplot(x='FareCategory', y='Survived', data=df, order=['Low', 'Medium', 'High', 'Very High'])\n",
    "plt.title('Выживаемость по категориям стоимости билета')\n",
    "plt.show()"
   ]
  },
  {
   "cell_type": "markdown",
   "id": "96213991",
   "metadata": {},
   "source": [
    "Пассажиры с билетами категории \"Very High\" выживали в ~58% случаев, тогда как в категории \"Low\" — только ~20%. Стоимость билета сильно коррелирует с выживаемостью."
   ]
  },
  {
   "cell_type": "markdown",
   "id": "b967deb4",
   "metadata": {},
   "source": [
    "...\n",
    "----------"
   ]
  },
  {
   "cell_type": "markdown",
   "id": "088098d2",
   "metadata": {},
   "source": [
    "Наличие семьи"
   ]
  },
  {
   "cell_type": "code",
   "execution_count": 15,
   "id": "303d2edf",
   "metadata": {},
   "outputs": [
    {
     "data": {
      "image/png": "[encoded data removed]",
      "text/plain": [
       "<Figure size 640x480 with 1 Axes>"
      ]
     },
     "metadata": {},
     "output_type": "display_data"
    }
   ],
   "source": [
    "sns.barplot(x='HasFamily', y='Survived', data=df)\n",
    "plt.title('Выживаемость в зависимости от наличия семьи')\n",
    "plt.show()"
   ]
  },
  {
   "cell_type": "markdown",
   "id": "33c96ee5",
   "metadata": {},
   "source": [
    "Пассажиры с семьей (HasFamily=1) выживали чаще (~50%), чем одиночки (~33%)."
   ]
  },
  {
   "cell_type": "markdown",
   "id": "6acebba5",
   "metadata": {},
   "source": [
    "...\n",
    "----------"
   ]
  },
  {
   "cell_type": "markdown",
   "id": "8dbc1309",
   "metadata": {},
   "source": [
    "#### Feature Importances"
   ]
  },
  {
   "cell_type": "code",
   "execution_count": null,
   "id": "f3ed5135",
   "metadata": {},
   "outputs": [
    {
     "data": {
      "image/png": "[encoded data removed]",
      "text/plain": [
       "<Figure size 1000x600 with 1 Axes>"
      ]
     },
     "metadata": {},
     "output_type": "display_data"
    }
   ],
   "source": [
    "df = pd.get_dummies(df, columns=['AgeGroup', 'FareCategory'], drop_first=True)\n",
    "\n",
    "from sklearn.ensemble import RandomForestClassifier\n",
    "\n",
    "X = df.drop('Survived', axis=1)\n",
    "y = df['Survived']\n",
    "\n",
    "model = RandomForestClassifier(n_estimators=100, random_state=42)\n",
    "model.fit(X, y)\n",
    "\n",
    "feature_importance_df = pd.DataFrame({'Feature': X.columns, 'Importance': model.feature_importances_})\n",
    "feature_importance_df = feature_importance_df.sort_values(by='Importance', ascending=False)\n",
    "\n",
    "plt.figure(figsize=(10, 6))\n",
    "sns.barplot(x='Importance', y='Feature', data=feature_importance_df)\n",
    "plt.title('Важность признаков')\n",
    "plt.show()"
   ]
  },
  {
   "cell_type": "markdown",
   "id": "06b9a19c",
   "metadata": {},
   "source": [
    "Наиболее важными признаками оказались:\n",
    "\n",
    "- Sex (пол),\n",
    "\n",
    "- Age (возраст),\n",
    "\n",
    "- Fare и Fare_per_person (стоимость билета/стоимость билета на человека),\n",
    "\n",
    "- Pclass (класс каюты)."
   ]
  },
  {
   "cell_type": "markdown",
   "id": "1e026b91",
   "metadata": {},
   "source": [
    "----"
   ]
  },
  {
   "cell_type": "markdown",
   "id": "fa219e9e",
   "metadata": {},
   "source": [
    "### Построение моделей\n"
   ]
  },
  {
   "cell_type": "markdown",
   "id": "92837e04",
   "metadata": {},
   "source": [
    "Теперь у нас есть все данные в таблице, можем строить модели"
   ]
  },
  {
   "cell_type": "code",
   "execution_count": 18,
   "id": "f4383f6a",
   "metadata": {},
   "outputs": [],
   "source": [
    "import tensorflow as tf\n",
    "from tensorflow import keras\n",
    "from tensorflow.keras import layers\n",
    "import pandas as pd\n",
    "from sklearn.model_selection import train_test_split\n",
    "from sklearn.metrics import accuracy_score, f1_score\n",
    "from sklearn.metrics import f1_score\n",
    "from sklearn.model_selection import GridSearchCV\n",
    "from sklearn.pipeline import Pipeline\n",
    "from sklearn.preprocessing import StandardScaler"
   ]
  },
  {
   "cell_type": "code",
   "execution_count": 11,
   "id": "063aff42",
   "metadata": {},
   "outputs": [],
   "source": [
    "def get_metrix_of_model(model, epochs, name, X_train, y_train, X_test, y_test):\n",
    "  model.compile(\n",
    "      optimizer='adam',\n",
    "      loss='binary_crossentropy',\n",
    "      metrics=['accuracy']\n",
    "  )\n",
    "  model.fit(\n",
    "      X_train, y_train,\n",
    "      epochs=epochs,\n",
    "      validation_data=(X_test, y_test)\n",
    "  )\n",
    "  loss, accuracy = model.evaluate(X_test, y_test, verbose=0)\n",
    "  y_pred = (model.predict(X_test) > 0.5).astype(int)\n",
    "  f1 = f1_score(y_test, y_pred)\n",
    "  print(f'Модель {name}:')\n",
    "  print(f'Точность: {accuracy}')\n",
    "  print(f'F1-мера: {f1}')"
   ]
  },
  {
   "cell_type": "code",
   "execution_count": 15,
   "id": "523b2706",
   "metadata": {},
   "outputs": [],
   "source": [
    "X = df.drop('Survived', axis=1)\n",
    "y = df['Survived']\n",
    "\n",
    "X_train, X_test, y_train, y_test = train_test_split(\n",
    "    X, y, test_size=0.15, random_state=52\n",
    ")"
   ]
  },
  {
   "cell_type": "markdown",
   "id": "65e815c4",
   "metadata": {},
   "source": [
    "...\n",
    "----------"
   ]
  },
  {
   "cell_type": "markdown",
   "id": "43992c1e",
   "metadata": {},
   "source": [
    "----"
   ]
  },
  {
   "cell_type": "markdown",
   "id": "35f8ef61",
   "metadata": {},
   "source": [
    "### Нейронные сети"
   ]
  },
  {
   "cell_type": "markdown",
   "id": "0121c84b",
   "metadata": {},
   "source": [
    "#### Простая полносвязная сеть"
   ]
  },
  {
   "cell_type": "code",
   "execution_count": null,
   "id": "89dcfdb2",
   "metadata": {},
   "outputs": [
    {
     "name": "stdout",
     "output_type": "stream",
     "text": [
      "Epoch 1/10\n"
     ]
    },
    {
     "name": "stderr",
     "output_type": "stream",
     "text": [
      "C:\\Users\\chern\\AppData\\Local\\Packages\\PythonSoftwareFoundation.Python.3.11_qbz5n2kfra8p0\\LocalCache\\local-packages\\Python311\\site-packages\\keras\\src\\layers\\core\\dense.py:87: UserWarning: Do not pass an `input_shape`/`input_dim` argument to a layer. When using Sequential models, prefer using an `Input(shape)` object as the first layer in the model instead.\n",
      "  super().__init__(activity_regularizer=activity_regularizer, **kwargs)\n"
     ]
    },
    {
     "name": "stdout",
     "output_type": "stream",
     "text": [
      "\u001b[1m19/19\u001b[0m \u001b[32m━━━━━━━━━━━━━━━━━━━━\u001b[0m\u001b[37m\u001b[0m \u001b[1m1s\u001b[0m 7ms/step - accuracy: 0.5408 - loss: 1.4510 - val_accuracy: 0.6633 - val_loss: 0.6646\n",
      "Epoch 2/10\n",
      "\u001b[1m19/19\u001b[0m \u001b[32m━━━━━━━━━━━━━━━━━━━━\u001b[0m\u001b[37m\u001b[0m \u001b[1m0s\u001b[0m 3ms/step - accuracy: 0.6485 - loss: 0.6706 - val_accuracy: 0.6902 - val_loss: 0.6068\n",
      "Epoch 3/10\n",
      "\u001b[1m19/19\u001b[0m \u001b[32m━━━━━━━━━━━━━━━━━━━━\u001b[0m\u001b[37m\u001b[0m \u001b[1m0s\u001b[0m 3ms/step - accuracy: 0.7102 - loss: 0.5985 - val_accuracy: 0.7003 - val_loss: 0.5899\n",
      "Epoch 4/10\n",
      "\u001b[1m19/19\u001b[0m \u001b[32m━━━━━━━━━━━━━━━━━━━━\u001b[0m\u001b[37m\u001b[0m \u001b[1m0s\u001b[0m 3ms/step - accuracy: 0.7139 - loss: 0.5606 - val_accuracy: 0.6970 - val_loss: 0.5913\n",
      "Epoch 5/10\n",
      "\u001b[1m19/19\u001b[0m \u001b[32m━━━━━━━━━━━━━━━━━━━━\u001b[0m\u001b[37m\u001b[0m \u001b[1m0s\u001b[0m 3ms/step - accuracy: 0.6865 - loss: 0.5847 - val_accuracy: 0.7071 - val_loss: 0.5901\n",
      "Epoch 6/10\n",
      "\u001b[1m19/19\u001b[0m \u001b[32m━━━━━━━━━━━━━━━━━━━━\u001b[0m\u001b[37m\u001b[0m \u001b[1m0s\u001b[0m 3ms/step - accuracy: 0.6918 - loss: 0.5960 - val_accuracy: 0.7104 - val_loss: 0.5764\n",
      "Epoch 7/10\n",
      "\u001b[1m19/19\u001b[0m \u001b[32m━━━━━━━━━━━━━━━━━━━━\u001b[0m\u001b[37m\u001b[0m \u001b[1m0s\u001b[0m 3ms/step - accuracy: 0.7433 - loss: 0.5583 - val_accuracy: 0.7239 - val_loss: 0.5779\n",
      "Epoch 8/10\n",
      "\u001b[1m19/19\u001b[0m \u001b[32m━━━━━━━━━━━━━━━━━━━━\u001b[0m\u001b[37m\u001b[0m \u001b[1m0s\u001b[0m 3ms/step - accuracy: 0.7124 - loss: 0.5679 - val_accuracy: 0.7037 - val_loss: 0.6133\n",
      "Epoch 9/10\n",
      "\u001b[1m19/19\u001b[0m \u001b[32m━━━━━━━━━━━━━━━━━━━━\u001b[0m\u001b[37m\u001b[0m \u001b[1m0s\u001b[0m 3ms/step - accuracy: 0.7366 - loss: 0.5584 - val_accuracy: 0.7172 - val_loss: 0.5600\n",
      "Epoch 10/10\n",
      "\u001b[1m19/19\u001b[0m \u001b[32m━━━━━━━━━━━━━━━━━━━━\u001b[0m\u001b[37m\u001b[0m \u001b[1m0s\u001b[0m 3ms/step - accuracy: 0.7550 - loss: 0.5262 - val_accuracy: 0.7340 - val_loss: 0.5571\n",
      "\u001b[1m10/10\u001b[0m \u001b[32m━━━━━━━━━━━━━━━━━━━━\u001b[0m\u001b[37m\u001b[0m \u001b[1m0s\u001b[0m 3ms/step \n",
      "Модель Простая полносвязная сеть:\n",
      "Точность: 0.7340067625045776\n",
      "F1-мера: 0.6609442060085837\n"
     ]
    }
   ],
   "source": [
    "md1 = keras.Sequential([\n",
    "    layers.Dense(64, activation='relu', input_shape=(X_train.shape[1],)),\n",
    "    layers.Dense(32, activation='relu'),\n",
    "    layers.Dense(1, activation='sigmoid')\n",
    "])\n",
    "\n",
    "get_metrix_of_model(md1, 10, \"Простая полносвязная сеть\", X_train, y_train, X_test, y_test)"
   ]
  },
  {
   "cell_type": "markdown",
   "id": "36ae66be",
   "metadata": {},
   "source": [
    "...\n",
    "----------"
   ]
  },
  {
   "cell_type": "markdown",
   "id": "9e3b57c1",
   "metadata": {},
   "source": [
    "#### Сеть с дропаутом"
   ]
  },
  {
   "cell_type": "code",
   "execution_count": 22,
   "id": "09520485",
   "metadata": {},
   "outputs": [
    {
     "name": "stdout",
     "output_type": "stream",
     "text": [
      "Epoch 1/10\n"
     ]
    },
    {
     "name": "stderr",
     "output_type": "stream",
     "text": [
      "C:\\Users\\chern\\AppData\\Local\\Packages\\PythonSoftwareFoundation.Python.3.11_qbz5n2kfra8p0\\LocalCache\\local-packages\\Python311\\site-packages\\keras\\src\\layers\\core\\dense.py:87: UserWarning: Do not pass an `input_shape`/`input_dim` argument to a layer. When using Sequential models, prefer using an `Input(shape)` object as the first layer in the model instead.\n",
      "  super().__init__(activity_regularizer=activity_regularizer, **kwargs)\n"
     ]
    },
    {
     "name": "stdout",
     "output_type": "stream",
     "text": [
      "\u001b[1m24/24\u001b[0m \u001b[32m━━━━━━━━━━━━━━━━━━━━\u001b[0m\u001b[37m\u001b[0m \u001b[1m1s\u001b[0m 6ms/step - accuracy: 0.5420 - loss: 1.7261 - val_accuracy: 0.6269 - val_loss: 1.3713\n",
      "Epoch 2/10\n",
      "\u001b[1m24/24\u001b[0m \u001b[32m━━━━━━━━━━━━━━━━━━━━\u001b[0m\u001b[37m\u001b[0m \u001b[1m0s\u001b[0m 2ms/step - accuracy: 0.6506 - loss: 1.2128 - val_accuracy: 0.6866 - val_loss: 0.9871\n",
      "Epoch 3/10\n",
      "\u001b[1m24/24\u001b[0m \u001b[32m━━━━━━━━━━━━━━━━━━━━\u001b[0m\u001b[37m\u001b[0m \u001b[1m0s\u001b[0m 2ms/step - accuracy: 0.6217 - loss: 0.9287 - val_accuracy: 0.6269 - val_loss: 0.9022\n",
      "Epoch 4/10\n",
      "\u001b[1m24/24\u001b[0m \u001b[32m━━━━━━━━━━━━━━━━━━━━\u001b[0m\u001b[37m\u001b[0m \u001b[1m0s\u001b[0m 2ms/step - accuracy: 0.6583 - loss: 0.8206 - val_accuracy: 0.6940 - val_loss: 0.8228\n",
      "Epoch 5/10\n",
      "\u001b[1m24/24\u001b[0m \u001b[32m━━━━━━━━━━━━━━━━━━━━\u001b[0m\u001b[37m\u001b[0m \u001b[1m0s\u001b[0m 2ms/step - accuracy: 0.6845 - loss: 0.7376 - val_accuracy: 0.6866 - val_loss: 0.7156\n",
      "Epoch 6/10\n",
      "\u001b[1m24/24\u001b[0m \u001b[32m━━━━━━━━━━━━━━━━━━━━\u001b[0m\u001b[37m\u001b[0m \u001b[1m0s\u001b[0m 2ms/step - accuracy: 0.6240 - loss: 0.7273 - val_accuracy: 0.6343 - val_loss: 0.7221\n",
      "Epoch 7/10\n",
      "\u001b[1m24/24\u001b[0m \u001b[32m━━━━━━━━━━━━━━━━━━━━\u001b[0m\u001b[37m\u001b[0m \u001b[1m0s\u001b[0m 2ms/step - accuracy: 0.6608 - loss: 0.7491 - val_accuracy: 0.6343 - val_loss: 0.7666\n",
      "Epoch 8/10\n",
      "\u001b[1m24/24\u001b[0m \u001b[32m━━━━━━━━━━━━━━━━━━━━\u001b[0m\u001b[37m\u001b[0m \u001b[1m0s\u001b[0m 2ms/step - accuracy: 0.6585 - loss: 0.7025 - val_accuracy: 0.7015 - val_loss: 0.6356\n",
      "Epoch 9/10\n",
      "\u001b[1m24/24\u001b[0m \u001b[32m━━━━━━━━━━━━━━━━━━━━\u001b[0m\u001b[37m\u001b[0m \u001b[1m0s\u001b[0m 3ms/step - accuracy: 0.6892 - loss: 0.6715 - val_accuracy: 0.6940 - val_loss: 0.6724\n",
      "Epoch 10/10\n",
      "\u001b[1m24/24\u001b[0m \u001b[32m━━━━━━━━━━━━━━━━━━━━\u001b[0m\u001b[37m\u001b[0m \u001b[1m0s\u001b[0m 2ms/step - accuracy: 0.6920 - loss: 0.6449 - val_accuracy: 0.7015 - val_loss: 0.6114\n",
      "\u001b[1m5/5\u001b[0m \u001b[32m━━━━━━━━━━━━━━━━━━━━\u001b[0m\u001b[37m\u001b[0m \u001b[1m0s\u001b[0m 6ms/step \n",
      "Модель Сеть с дропаутом:\n",
      "Точность: 0.7014925479888916\n",
      "F1-мера: 0.5121951219512195\n"
     ]
    }
   ],
   "source": [
    "md2 = keras.Sequential([\n",
    "    layers.Dense(64, activation='relu', input_shape=(X_train.shape[1],)),\n",
    "    layers.Dropout(0.2),\n",
    "    layers.Dense(32, activation='relu'),\n",
    "    layers.Dense(1, activation='sigmoid')\n",
    "])\n",
    "\n",
    "get_metrix_of_model(md2, 10, \"Сеть с дропаутом\", X_train, y_train, X_test, y_test)"
   ]
  },
  {
   "cell_type": "markdown",
   "id": "336fa9f4",
   "metadata": {},
   "source": [
    "...\n",
    "----------"
   ]
  },
  {
   "cell_type": "markdown",
   "id": "0b6952a2",
   "metadata": {},
   "source": [
    "#### Сеть с рекуррентным слоем"
   ]
  },
  {
   "cell_type": "code",
   "execution_count": null,
   "id": "30d28034",
   "metadata": {},
   "outputs": [
    {
     "name": "stdout",
     "output_type": "stream",
     "text": [
      "Epoch 1/10\n"
     ]
    },
    {
     "name": "stderr",
     "output_type": "stream",
     "text": [
      "C:\\Users\\chern\\AppData\\Local\\Packages\\PythonSoftwareFoundation.Python.3.11_qbz5n2kfra8p0\\LocalCache\\local-packages\\Python311\\site-packages\\keras\\src\\layers\\rnn\\rnn.py:200: UserWarning: Do not pass an `input_shape`/`input_dim` argument to a layer. When using Sequential models, prefer using an `Input(shape)` object as the first layer in the model instead.\n",
      "  super().__init__(**kwargs)\n"
     ]
    },
    {
     "name": "stdout",
     "output_type": "stream",
     "text": [
      "\u001b[1m19/19\u001b[0m \u001b[32m━━━━━━━━━━━━━━━━━━━━\u001b[0m\u001b[37m\u001b[0m \u001b[1m1s\u001b[0m 11ms/step - accuracy: 0.4845 - loss: 0.6996 - val_accuracy: 0.6700 - val_loss: 0.6324\n",
      "Epoch 2/10\n",
      "\u001b[1m19/19\u001b[0m \u001b[32m━━━━━━━━━━━━━━━━━━━━\u001b[0m\u001b[37m\u001b[0m \u001b[1m0s\u001b[0m 4ms/step - accuracy: 0.6491 - loss: 0.6283 - val_accuracy: 0.6700 - val_loss: 0.6176\n",
      "Epoch 3/10\n",
      "\u001b[1m19/19\u001b[0m \u001b[32m━━━━━━━━━━━━━━━━━━━━\u001b[0m\u001b[37m\u001b[0m \u001b[1m0s\u001b[0m 4ms/step - accuracy: 0.6711 - loss: 0.5983 - val_accuracy: 0.6532 - val_loss: 0.6160\n",
      "Epoch 4/10\n",
      "\u001b[1m19/19\u001b[0m \u001b[32m━━━━━━━━━━━━━━━━━━━━\u001b[0m\u001b[37m\u001b[0m \u001b[1m0s\u001b[0m 4ms/step - accuracy: 0.6810 - loss: 0.5912 - val_accuracy: 0.6599 - val_loss: 0.6179\n",
      "Epoch 5/10\n",
      "\u001b[1m19/19\u001b[0m \u001b[32m━━━━━━━━━━━━━━━━━━━━\u001b[0m\u001b[37m\u001b[0m \u001b[1m0s\u001b[0m 4ms/step - accuracy: 0.6634 - loss: 0.6038 - val_accuracy: 0.6700 - val_loss: 0.6200\n",
      "Epoch 6/10\n",
      "\u001b[1m19/19\u001b[0m \u001b[32m━━━━━━━━━━━━━━━━━━━━\u001b[0m\u001b[37m\u001b[0m \u001b[1m0s\u001b[0m 4ms/step - accuracy: 0.6663 - loss: 0.5912 - val_accuracy: 0.6498 - val_loss: 0.6125\n",
      "Epoch 7/10\n",
      "\u001b[1m19/19\u001b[0m \u001b[32m━━━━━━━━━━━━━━━━━━━━\u001b[0m\u001b[37m\u001b[0m \u001b[1m0s\u001b[0m 4ms/step - accuracy: 0.6781 - loss: 0.5950 - val_accuracy: 0.6667 - val_loss: 0.6134\n",
      "Epoch 8/10\n",
      "\u001b[1m19/19\u001b[0m \u001b[32m━━━━━━━━━━━━━━━━━━━━\u001b[0m\u001b[37m\u001b[0m \u001b[1m0s\u001b[0m 4ms/step - accuracy: 0.6803 - loss: 0.5817 - val_accuracy: 0.6667 - val_loss: 0.6091\n",
      "Epoch 9/10\n",
      "\u001b[1m19/19\u001b[0m \u001b[32m━━━━━━━━━━━━━━━━━━━━\u001b[0m\u001b[37m\u001b[0m \u001b[1m0s\u001b[0m 4ms/step - accuracy: 0.7028 - loss: 0.5626 - val_accuracy: 0.6700 - val_loss: 0.6045\n",
      "Epoch 10/10\n",
      "\u001b[1m19/19\u001b[0m \u001b[32m━━━━━━━━━━━━━━━━━━━━\u001b[0m\u001b[37m\u001b[0m \u001b[1m0s\u001b[0m 4ms/step - accuracy: 0.7254 - loss: 0.5530 - val_accuracy: 0.6734 - val_loss: 0.6033\n",
      "\u001b[1m10/10\u001b[0m \u001b[32m━━━━━━━━━━━━━━━━━━━━\u001b[0m\u001b[37m\u001b[0m \u001b[1m0s\u001b[0m 9ms/step\n",
      "Модель Сеть с рекуррентным слоем:\n",
      "Точность: 0.6734007000923157\n",
      "F1-мера: 0.5314009661835749\n"
     ]
    }
   ],
   "source": [
    "md3 = keras.Sequential([\n",
    "    layers.LSTM(64, input_shape=(X_train.shape[1], 1)),\n",
    "    layers.Dense(32, activation='relu'),\n",
    "    layers.Dense(1, activation='sigmoid')\n",
    "])\n",
    "get_metrix_of_model(md3, 10, \"Сеть с рекуррентным слоем\", X_train, y_train, X_test, y_test)"
   ]
  },
  {
   "cell_type": "markdown",
   "id": "eef90c27",
   "metadata": {},
   "source": [
    "...\n",
    "----------"
   ]
  },
  {
   "cell_type": "markdown",
   "id": "451a9411",
   "metadata": {},
   "source": [
    "Лучшая F1-мера у простой полносвязной сети, поэксперементируем с топологией сети:"
   ]
  },
  {
   "cell_type": "code",
   "execution_count": null,
   "id": "150b17ce",
   "metadata": {},
   "outputs": [
    {
     "name": "stdout",
     "output_type": "stream",
     "text": [
      "Epoch 1/10\n"
     ]
    },
    {
     "name": "stderr",
     "output_type": "stream",
     "text": [
      "C:\\Users\\chern\\AppData\\Local\\Packages\\PythonSoftwareFoundation.Python.3.11_qbz5n2kfra8p0\\LocalCache\\local-packages\\Python311\\site-packages\\keras\\src\\layers\\core\\dense.py:87: UserWarning: Do not pass an `input_shape`/`input_dim` argument to a layer. When using Sequential models, prefer using an `Input(shape)` object as the first layer in the model instead.\n",
      "  super().__init__(activity_regularizer=activity_regularizer, **kwargs)\n"
     ]
    },
    {
     "name": "stdout",
     "output_type": "stream",
     "text": [
      "\u001b[1m24/24\u001b[0m \u001b[32m━━━━━━━━━━━━━━━━━━━━\u001b[0m\u001b[37m\u001b[0m \u001b[1m1s\u001b[0m 6ms/step - accuracy: 0.5847 - loss: 1.6029 - val_accuracy: 0.6716 - val_loss: 0.6533\n",
      "Epoch 2/10\n",
      "\u001b[1m24/24\u001b[0m \u001b[32m━━━━━━━━━━━━━━━━━━━━\u001b[0m\u001b[37m\u001b[0m \u001b[1m0s\u001b[0m 2ms/step - accuracy: 0.6916 - loss: 0.6026 - val_accuracy: 0.6940 - val_loss: 0.5942\n",
      "Epoch 3/10\n",
      "\u001b[1m24/24\u001b[0m \u001b[32m━━━━━━━━━━━━━━━━━━━━\u001b[0m\u001b[37m\u001b[0m \u001b[1m0s\u001b[0m 2ms/step - accuracy: 0.7078 - loss: 0.5734 - val_accuracy: 0.7015 - val_loss: 0.5886\n",
      "Epoch 4/10\n",
      "\u001b[1m24/24\u001b[0m \u001b[32m━━━━━━━━━━━━━━━━━━━━\u001b[0m\u001b[37m\u001b[0m \u001b[1m0s\u001b[0m 2ms/step - accuracy: 0.6810 - loss: 0.5625 - val_accuracy: 0.6269 - val_loss: 0.6065\n",
      "Epoch 5/10\n",
      "\u001b[1m24/24\u001b[0m \u001b[32m━━━━━━━━━━━━━━━━━━━━\u001b[0m\u001b[37m\u001b[0m \u001b[1m0s\u001b[0m 2ms/step - accuracy: 0.6884 - loss: 0.5932 - val_accuracy: 0.6716 - val_loss: 0.5880\n",
      "Epoch 6/10\n",
      "\u001b[1m24/24\u001b[0m \u001b[32m━━━━━━━━━━━━━━━━━━━━\u001b[0m\u001b[37m\u001b[0m \u001b[1m0s\u001b[0m 2ms/step - accuracy: 0.6726 - loss: 0.5587 - val_accuracy: 0.6866 - val_loss: 0.5788\n",
      "Epoch 7/10\n",
      "\u001b[1m24/24\u001b[0m \u001b[32m━━━━━━━━━━━━━━━━━━━━\u001b[0m\u001b[37m\u001b[0m \u001b[1m0s\u001b[0m 2ms/step - accuracy: 0.7384 - loss: 0.5409 - val_accuracy: 0.6716 - val_loss: 0.5721\n",
      "Epoch 8/10\n",
      "\u001b[1m24/24\u001b[0m \u001b[32m━━━━━━━━━━━━━━━━━━━━\u001b[0m\u001b[37m\u001b[0m \u001b[1m0s\u001b[0m 2ms/step - accuracy: 0.7146 - loss: 0.5829 - val_accuracy: 0.7164 - val_loss: 0.6274\n",
      "Epoch 9/10\n",
      "\u001b[1m24/24\u001b[0m \u001b[32m━━━━━━━━━━━━━━━━━━━━\u001b[0m\u001b[37m\u001b[0m \u001b[1m0s\u001b[0m 2ms/step - accuracy: 0.7395 - loss: 0.5730 - val_accuracy: 0.6940 - val_loss: 0.6651\n",
      "Epoch 10/10\n",
      "\u001b[1m24/24\u001b[0m \u001b[32m━━━━━━━━━━━━━━━━━━━━\u001b[0m\u001b[37m\u001b[0m \u001b[1m0s\u001b[0m 2ms/step - accuracy: 0.7450 - loss: 0.5542 - val_accuracy: 0.7463 - val_loss: 0.5211\n",
      "\u001b[1m5/5\u001b[0m \u001b[32m━━━━━━━━━━━━━━━━━━━━\u001b[0m\u001b[37m\u001b[0m \u001b[1m0s\u001b[0m 6ms/step \n",
      "Модель 128-64-1:\n",
      "Точность: 0.746268630027771\n",
      "F1-мера: 0.46875\n"
     ]
    }
   ],
   "source": [
    "md1_1 = keras.Sequential([\n",
    "    layers.Dense(128, activation='relu', input_shape=(X_train.shape[1],)),\n",
    "    layers.Dense(64, activation='relu'),\n",
    "    layers.Dense(1, activation='sigmoid')\n",
    "])\n",
    "\n",
    "get_metrix_of_model(md1_1, 10, \"128-64-1\", X_train, y_train, X_test, y_test)"
   ]
  },
  {
   "cell_type": "code",
   "execution_count": null,
   "id": "8b0d8070",
   "metadata": {},
   "outputs": [
    {
     "name": "stdout",
     "output_type": "stream",
     "text": [
      "Epoch 1/10\n"
     ]
    },
    {
     "name": "stderr",
     "output_type": "stream",
     "text": [
      "C:\\Users\\chern\\AppData\\Local\\Packages\\PythonSoftwareFoundation.Python.3.11_qbz5n2kfra8p0\\LocalCache\\local-packages\\Python311\\site-packages\\keras\\src\\layers\\core\\dense.py:87: UserWarning: Do not pass an `input_shape`/`input_dim` argument to a layer. When using Sequential models, prefer using an `Input(shape)` object as the first layer in the model instead.\n",
      "  super().__init__(activity_regularizer=activity_regularizer, **kwargs)\n"
     ]
    },
    {
     "name": "stdout",
     "output_type": "stream",
     "text": [
      "\u001b[1m24/24\u001b[0m \u001b[32m━━━━━━━━━━━━━━━━━━━━\u001b[0m\u001b[37m\u001b[0m \u001b[1m1s\u001b[0m 5ms/step - accuracy: 0.6112 - loss: 1.0392 - val_accuracy: 0.6716 - val_loss: 0.6243\n",
      "Epoch 2/10\n",
      "\u001b[1m24/24\u001b[0m \u001b[32m━━━━━━━━━━━━━━━━━━━━\u001b[0m\u001b[37m\u001b[0m \u001b[1m0s\u001b[0m 2ms/step - accuracy: 0.6620 - loss: 0.6397 - val_accuracy: 0.6791 - val_loss: 0.5793\n",
      "Epoch 3/10\n",
      "\u001b[1m24/24\u001b[0m \u001b[32m━━━━━━━━━━━━━━━━━━━━\u001b[0m\u001b[37m\u001b[0m \u001b[1m0s\u001b[0m 2ms/step - accuracy: 0.6806 - loss: 0.6061 - val_accuracy: 0.6716 - val_loss: 0.5875\n",
      "Epoch 4/10\n",
      "\u001b[1m24/24\u001b[0m \u001b[32m━━━━━━━━━━━━━━━━━━━━\u001b[0m\u001b[37m\u001b[0m \u001b[1m0s\u001b[0m 2ms/step - accuracy: 0.6781 - loss: 0.5933 - val_accuracy: 0.6866 - val_loss: 0.5783\n",
      "Epoch 5/10\n",
      "\u001b[1m24/24\u001b[0m \u001b[32m━━━━━━━━━━━━━━━━━━━━\u001b[0m\u001b[37m\u001b[0m \u001b[1m0s\u001b[0m 2ms/step - accuracy: 0.7178 - loss: 0.5483 - val_accuracy: 0.6940 - val_loss: 0.6042\n",
      "Epoch 6/10\n",
      "\u001b[1m24/24\u001b[0m \u001b[32m━━━━━━━━━━━━━━━━━━━━\u001b[0m\u001b[37m\u001b[0m \u001b[1m0s\u001b[0m 2ms/step - accuracy: 0.6969 - loss: 0.5638 - val_accuracy: 0.7015 - val_loss: 0.5729\n",
      "Epoch 7/10\n",
      "\u001b[1m24/24\u001b[0m \u001b[32m━━━━━━━━━━━━━━━━━━━━\u001b[0m\u001b[37m\u001b[0m \u001b[1m0s\u001b[0m 3ms/step - accuracy: 0.7253 - loss: 0.5574 - val_accuracy: 0.7164 - val_loss: 0.6116\n",
      "Epoch 8/10\n",
      "\u001b[1m24/24\u001b[0m \u001b[32m━━━━━━━━━━━━━━━━━━━━\u001b[0m\u001b[37m\u001b[0m \u001b[1m0s\u001b[0m 2ms/step - accuracy: 0.7326 - loss: 0.5560 - val_accuracy: 0.7015 - val_loss: 0.5693\n",
      "Epoch 9/10\n",
      "\u001b[1m24/24\u001b[0m \u001b[32m━━━━━━━━━━━━━━━━━━━━\u001b[0m\u001b[37m\u001b[0m \u001b[1m0s\u001b[0m 2ms/step - accuracy: 0.7758 - loss: 0.5287 - val_accuracy: 0.6642 - val_loss: 0.6694\n",
      "Epoch 10/10\n",
      "\u001b[1m24/24\u001b[0m \u001b[32m━━━━━━━━━━━━━━━━━━━━\u001b[0m\u001b[37m\u001b[0m \u001b[1m0s\u001b[0m 2ms/step - accuracy: 0.7621 - loss: 0.5466 - val_accuracy: 0.7612 - val_loss: 0.5395\n",
      "\u001b[1m5/5\u001b[0m \u001b[32m━━━━━━━━━━━━━━━━━━━━\u001b[0m\u001b[37m\u001b[0m \u001b[1m0s\u001b[0m 6ms/step \n",
      "Модель 64-128-1:\n",
      "Точность: 0.7611940503120422\n",
      "F1-мера: 0.6521739130434783\n"
     ]
    }
   ],
   "source": [
    "md1_2 = keras.Sequential([\n",
    "    layers.Dense(64, activation='relu', input_shape=(X_train.shape[1],)),\n",
    "    layers.Dense(128, activation='relu'),\n",
    "    layers.Dense(1, activation='sigmoid')\n",
    "])\n",
    "\n",
    "get_metrix_of_model(md1_2, 10, \"64-128-1\", X_train, y_train, X_test, y_test)"
   ]
  },
  {
   "cell_type": "code",
   "execution_count": null,
   "id": "5646271f",
   "metadata": {},
   "outputs": [
    {
     "name": "stdout",
     "output_type": "stream",
     "text": [
      "Epoch 1/10\n"
     ]
    },
    {
     "name": "stderr",
     "output_type": "stream",
     "text": [
      "C:\\Users\\chern\\AppData\\Local\\Packages\\PythonSoftwareFoundation.Python.3.11_qbz5n2kfra8p0\\LocalCache\\local-packages\\Python311\\site-packages\\keras\\src\\layers\\core\\dense.py:87: UserWarning: Do not pass an `input_shape`/`input_dim` argument to a layer. When using Sequential models, prefer using an `Input(shape)` object as the first layer in the model instead.\n",
      "  super().__init__(activity_regularizer=activity_regularizer, **kwargs)\n"
     ]
    },
    {
     "name": "stdout",
     "output_type": "stream",
     "text": [
      "\u001b[1m24/24\u001b[0m \u001b[32m━━━━━━━━━━━━━━━━━━━━\u001b[0m\u001b[37m\u001b[0m \u001b[1m1s\u001b[0m 6ms/step - accuracy: 0.5689 - loss: 0.9400 - val_accuracy: 0.6642 - val_loss: 0.6436\n",
      "Epoch 2/10\n",
      "\u001b[1m24/24\u001b[0m \u001b[32m━━━━━━━━━━━━━━━━━━━━\u001b[0m\u001b[37m\u001b[0m \u001b[1m0s\u001b[0m 2ms/step - accuracy: 0.6962 - loss: 0.5988 - val_accuracy: 0.6866 - val_loss: 0.6177\n",
      "Epoch 3/10\n",
      "\u001b[1m24/24\u001b[0m \u001b[32m━━━━━━━━━━━━━━━━━━━━\u001b[0m\u001b[37m\u001b[0m \u001b[1m0s\u001b[0m 2ms/step - accuracy: 0.7131 - loss: 0.5514 - val_accuracy: 0.6343 - val_loss: 0.6285\n",
      "Epoch 4/10\n",
      "\u001b[1m24/24\u001b[0m \u001b[32m━━━━━━━━━━━━━━━━━━━━\u001b[0m\u001b[37m\u001b[0m \u001b[1m0s\u001b[0m 2ms/step - accuracy: 0.6410 - loss: 0.5984 - val_accuracy: 0.6940 - val_loss: 0.6207\n",
      "Epoch 5/10\n",
      "\u001b[1m24/24\u001b[0m \u001b[32m━━━━━━━━━━━━━━━━━━━━\u001b[0m\u001b[37m\u001b[0m \u001b[1m0s\u001b[0m 2ms/step - accuracy: 0.6790 - loss: 0.5859 - val_accuracy: 0.6716 - val_loss: 0.5992\n",
      "Epoch 6/10\n",
      "\u001b[1m24/24\u001b[0m \u001b[32m━━━━━━━━━━━━━━━━━━━━\u001b[0m\u001b[37m\u001b[0m \u001b[1m0s\u001b[0m 2ms/step - accuracy: 0.6902 - loss: 0.5832 - val_accuracy: 0.6418 - val_loss: 0.6489\n",
      "Epoch 7/10\n",
      "\u001b[1m24/24\u001b[0m \u001b[32m━━━━━━━━━━━━━━━━━━━━\u001b[0m\u001b[37m\u001b[0m \u001b[1m0s\u001b[0m 2ms/step - accuracy: 0.7112 - loss: 0.5795 - val_accuracy: 0.6791 - val_loss: 0.5752\n",
      "Epoch 8/10\n",
      "\u001b[1m24/24\u001b[0m \u001b[32m━━━━━━━━━━━━━━━━━━━━\u001b[0m\u001b[37m\u001b[0m \u001b[1m0s\u001b[0m 3ms/step - accuracy: 0.7163 - loss: 0.5671 - val_accuracy: 0.6791 - val_loss: 0.5780\n",
      "Epoch 9/10\n",
      "\u001b[1m24/24\u001b[0m \u001b[32m━━━━━━━━━━━━━━━━━━━━\u001b[0m\u001b[37m\u001b[0m \u001b[1m0s\u001b[0m 3ms/step - accuracy: 0.7443 - loss: 0.5209 - val_accuracy: 0.7015 - val_loss: 0.5660\n",
      "Epoch 10/10\n",
      "\u001b[1m24/24\u001b[0m \u001b[32m━━━━━━━━━━━━━━━━━━━━\u001b[0m\u001b[37m\u001b[0m \u001b[1m0s\u001b[0m 2ms/step - accuracy: 0.7199 - loss: 0.5464 - val_accuracy: 0.6940 - val_loss: 0.5725\n",
      "\u001b[1m5/5\u001b[0m \u001b[32m━━━━━━━━━━━━━━━━━━━━\u001b[0m\u001b[37m\u001b[0m \u001b[1m0s\u001b[0m 7ms/step \n",
      "Модель 32-64-32-1:\n",
      "Точность: 0.6940298676490784\n",
      "F1-мера: 0.5060240963855421\n"
     ]
    }
   ],
   "source": [
    "md1_3 = keras.Sequential([\n",
    "    layers.Dense(64, activation='relu', input_shape=(X_train.shape[1],)),\n",
    "    layers.Dense(32, activation='relu'),\n",
    "    layers.Dense(64, activation='relu'),\n",
    "    layers.Dense(1, activation='sigmoid')\n",
    "])\n",
    "\n",
    "get_metrix_of_model(md1_3, 10, \"32-64-32-1\", X_train, y_train, X_test, y_test)"
   ]
  },
  {
   "cell_type": "markdown",
   "id": "02eb9223",
   "metadata": {},
   "source": [
    "...\n",
    "----------"
   ]
  },
  {
   "cell_type": "markdown",
   "id": "0f0c8527",
   "metadata": {},
   "source": [
    "Лучшие метрики показала модель с топологией 64-128-1, можем также посмотреть на данную модель с разным количеством нейронов:"
   ]
  },
  {
   "cell_type": "code",
   "execution_count": null,
   "id": "fa8e058e",
   "metadata": {},
   "outputs": [
    {
     "name": "stdout",
     "output_type": "stream",
     "text": [
      "Epoch 1/10\n"
     ]
    },
    {
     "name": "stderr",
     "output_type": "stream",
     "text": [
      "C:\\Users\\chern\\AppData\\Local\\Packages\\PythonSoftwareFoundation.Python.3.11_qbz5n2kfra8p0\\LocalCache\\local-packages\\Python311\\site-packages\\keras\\src\\layers\\core\\dense.py:87: UserWarning: Do not pass an `input_shape`/`input_dim` argument to a layer. When using Sequential models, prefer using an `Input(shape)` object as the first layer in the model instead.\n",
      "  super().__init__(activity_regularizer=activity_regularizer, **kwargs)\n"
     ]
    },
    {
     "name": "stdout",
     "output_type": "stream",
     "text": [
      "\u001b[1m24/24\u001b[0m \u001b[32m━━━━━━━━━━━━━━━━━━━━\u001b[0m\u001b[37m\u001b[0m \u001b[1m1s\u001b[0m 6ms/step - accuracy: 0.5892 - loss: 0.8617 - val_accuracy: 0.6567 - val_loss: 0.6874\n",
      "Epoch 2/10\n",
      "\u001b[1m24/24\u001b[0m \u001b[32m━━━━━━━━━━━━━━━━━━━━\u001b[0m\u001b[37m\u001b[0m \u001b[1m0s\u001b[0m 2ms/step - accuracy: 0.6533 - loss: 0.6513 - val_accuracy: 0.6567 - val_loss: 0.7868\n",
      "Epoch 3/10\n",
      "\u001b[1m24/24\u001b[0m \u001b[32m━━━━━━━━━━━━━━━━━━━━\u001b[0m\u001b[37m\u001b[0m \u001b[1m0s\u001b[0m 2ms/step - accuracy: 0.6889 - loss: 0.6682 - val_accuracy: 0.6716 - val_loss: 0.6664\n",
      "Epoch 4/10\n",
      "\u001b[1m24/24\u001b[0m \u001b[32m━━━━━━━━━━━━━━━━━━━━\u001b[0m\u001b[37m\u001b[0m \u001b[1m0s\u001b[0m 2ms/step - accuracy: 0.6763 - loss: 0.6357 - val_accuracy: 0.6343 - val_loss: 0.6480\n",
      "Epoch 5/10\n",
      "\u001b[1m24/24\u001b[0m \u001b[32m━━━━━━━━━━━━━━━━━━━━\u001b[0m\u001b[37m\u001b[0m \u001b[1m0s\u001b[0m 2ms/step - accuracy: 0.7162 - loss: 0.5618 - val_accuracy: 0.6567 - val_loss: 0.5900\n",
      "Epoch 6/10\n",
      "\u001b[1m24/24\u001b[0m \u001b[32m━━━━━━━━━━━━━━━━━━━━\u001b[0m\u001b[37m\u001b[0m \u001b[1m0s\u001b[0m 2ms/step - accuracy: 0.6732 - loss: 0.6228 - val_accuracy: 0.6791 - val_loss: 0.7577\n",
      "Epoch 7/10\n",
      "\u001b[1m24/24\u001b[0m \u001b[32m━━━━━━━━━━━━━━━━━━━━\u001b[0m\u001b[37m\u001b[0m \u001b[1m0s\u001b[0m 2ms/step - accuracy: 0.6925 - loss: 0.6651 - val_accuracy: 0.7015 - val_loss: 0.7876\n",
      "Epoch 8/10\n",
      "\u001b[1m24/24\u001b[0m \u001b[32m━━━━━━━━━━━━━━━━━━━━\u001b[0m\u001b[37m\u001b[0m \u001b[1m0s\u001b[0m 2ms/step - accuracy: 0.7061 - loss: 0.6114 - val_accuracy: 0.7239 - val_loss: 0.5641\n",
      "Epoch 9/10\n",
      "\u001b[1m24/24\u001b[0m \u001b[32m━━━━━━━━━━━━━━━━━━━━\u001b[0m\u001b[37m\u001b[0m \u001b[1m0s\u001b[0m 2ms/step - accuracy: 0.7428 - loss: 0.5383 - val_accuracy: 0.7164 - val_loss: 0.5594\n",
      "Epoch 10/10\n",
      "\u001b[1m24/24\u001b[0m \u001b[32m━━━━━━━━━━━━━━━━━━━━\u001b[0m\u001b[37m\u001b[0m \u001b[1m0s\u001b[0m 3ms/step - accuracy: 0.7192 - loss: 0.5682 - val_accuracy: 0.7239 - val_loss: 0.5505\n",
      "\u001b[1m5/5\u001b[0m \u001b[32m━━━━━━━━━━━━━━━━━━━━\u001b[0m\u001b[37m\u001b[0m \u001b[1m0s\u001b[0m 6ms/step \n",
      "Модель 64-256-1:\n",
      "Точность: 0.7238805890083313\n",
      "F1-мера: 0.5316455696202531\n"
     ]
    }
   ],
   "source": [
    "md1_2_1 = keras.Sequential([\n",
    "    layers.Dense(64, activation='relu', input_shape=(X_train.shape[1],)),\n",
    "    layers.Dense(256, activation='relu'),\n",
    "    layers.Dense(1, activation='sigmoid')\n",
    "])\n",
    "\n",
    "get_metrix_of_model(md1_2_1, 10, \"64-256-1\", X_train, y_train, X_test, y_test)"
   ]
  },
  {
   "cell_type": "code",
   "execution_count": null,
   "id": "156df079",
   "metadata": {},
   "outputs": [
    {
     "name": "stdout",
     "output_type": "stream",
     "text": [
      "Epoch 1/10\n"
     ]
    },
    {
     "name": "stderr",
     "output_type": "stream",
     "text": [
      "C:\\Users\\chern\\AppData\\Local\\Packages\\PythonSoftwareFoundation.Python.3.11_qbz5n2kfra8p0\\LocalCache\\local-packages\\Python311\\site-packages\\keras\\src\\layers\\core\\dense.py:87: UserWarning: Do not pass an `input_shape`/`input_dim` argument to a layer. When using Sequential models, prefer using an `Input(shape)` object as the first layer in the model instead.\n",
      "  super().__init__(activity_regularizer=activity_regularizer, **kwargs)\n"
     ]
    },
    {
     "name": "stdout",
     "output_type": "stream",
     "text": [
      "\u001b[1m24/24\u001b[0m \u001b[32m━━━━━━━━━━━━━━━━━━━━\u001b[0m\u001b[37m\u001b[0m \u001b[1m1s\u001b[0m 6ms/step - accuracy: 0.6024 - loss: 1.2015 - val_accuracy: 0.5597 - val_loss: 0.6635\n",
      "Epoch 2/10\n",
      "\u001b[1m24/24\u001b[0m \u001b[32m━━━━━━━━━━━━━━━━━━━━\u001b[0m\u001b[37m\u001b[0m \u001b[1m0s\u001b[0m 2ms/step - accuracy: 0.6706 - loss: 0.6811 - val_accuracy: 0.4478 - val_loss: 0.7433\n",
      "Epoch 3/10\n",
      "\u001b[1m24/24\u001b[0m \u001b[32m━━━━━━━━━━━━━━━━━━━━\u001b[0m\u001b[37m\u001b[0m \u001b[1m0s\u001b[0m 2ms/step - accuracy: 0.5905 - loss: 0.6627 - val_accuracy: 0.6269 - val_loss: 0.6927\n",
      "Epoch 4/10\n",
      "\u001b[1m24/24\u001b[0m \u001b[32m━━━━━━━━━━━━━━━━━━━━\u001b[0m\u001b[37m\u001b[0m \u001b[1m0s\u001b[0m 2ms/step - accuracy: 0.7239 - loss: 0.5733 - val_accuracy: 0.6940 - val_loss: 0.6077\n",
      "Epoch 5/10\n",
      "\u001b[1m24/24\u001b[0m \u001b[32m━━━━━━━━━━━━━━━━━━━━\u001b[0m\u001b[37m\u001b[0m \u001b[1m0s\u001b[0m 2ms/step - accuracy: 0.6766 - loss: 0.5945 - val_accuracy: 0.6866 - val_loss: 0.6135\n",
      "Epoch 6/10\n",
      "\u001b[1m24/24\u001b[0m \u001b[32m━━━━━━━━━━━━━━━━━━━━\u001b[0m\u001b[37m\u001b[0m \u001b[1m0s\u001b[0m 2ms/step - accuracy: 0.7267 - loss: 0.5711 - val_accuracy: 0.6791 - val_loss: 0.7288\n",
      "Epoch 7/10\n",
      "\u001b[1m24/24\u001b[0m \u001b[32m━━━━━━━━━━━━━━━━━━━━\u001b[0m\u001b[37m\u001b[0m \u001b[1m0s\u001b[0m 3ms/step - accuracy: 0.7354 - loss: 0.5964 - val_accuracy: 0.6940 - val_loss: 0.5956\n",
      "Epoch 8/10\n",
      "\u001b[1m24/24\u001b[0m \u001b[32m━━━━━━━━━━━━━━━━━━━━\u001b[0m\u001b[37m\u001b[0m \u001b[1m0s\u001b[0m 3ms/step - accuracy: 0.7544 - loss: 0.5111 - val_accuracy: 0.7388 - val_loss: 0.6430\n",
      "Epoch 9/10\n",
      "\u001b[1m24/24\u001b[0m \u001b[32m━━━━━━━━━━━━━━━━━━━━\u001b[0m\u001b[37m\u001b[0m \u001b[1m0s\u001b[0m 2ms/step - accuracy: 0.7185 - loss: 0.5807 - val_accuracy: 0.6716 - val_loss: 0.6031\n",
      "Epoch 10/10\n",
      "\u001b[1m24/24\u001b[0m \u001b[32m━━━━━━━━━━━━━━━━━━━━\u001b[0m\u001b[37m\u001b[0m \u001b[1m0s\u001b[0m 2ms/step - accuracy: 0.7648 - loss: 0.5315 - val_accuracy: 0.7164 - val_loss: 0.5362\n",
      "\u001b[1m5/5\u001b[0m \u001b[32m━━━━━━━━━━━━━━━━━━━━\u001b[0m\u001b[37m\u001b[0m \u001b[1m0s\u001b[0m 6ms/step \n",
      "Модель 128-256-1:\n",
      "Точность: 0.7164179086685181\n",
      "F1-мера: 0.45714285714285713\n"
     ]
    }
   ],
   "source": [
    "md1_2_2 = keras.Sequential([\n",
    "    layers.Dense(128, activation='relu', input_shape=(X_train.shape[1],)),\n",
    "    layers.Dense(256, activation='relu'),\n",
    "    layers.Dense(1, activation='sigmoid')\n",
    "])\n",
    "\n",
    "get_metrix_of_model(md1_2_2, 10, \"128-256-1\", X_train, y_train, X_test, y_test)"
   ]
  },
  {
   "cell_type": "code",
   "execution_count": null,
   "id": "a7721501",
   "metadata": {},
   "outputs": [
    {
     "name": "stdout",
     "output_type": "stream",
     "text": [
      "Epoch 1/10\n"
     ]
    },
    {
     "name": "stderr",
     "output_type": "stream",
     "text": [
      "/usr/local/lib/python3.10/dist-packages/keras/src/layers/core/dense.py:87: UserWarning: Do not pass an `input_shape`/`input_dim` argument to a layer. When using Sequential models, prefer using an `Input(shape)` object as the first layer in the model instead.\n",
      "  super().__init__(activity_regularizer=activity_regularizer, **kwargs)\n"
     ]
    },
    {
     "name": "stdout",
     "output_type": "stream",
     "text": [
      "\u001b[1m24/24\u001b[0m \u001b[32m━━━━━━━━━━━━━━━━━━━━\u001b[0m\u001b[37m\u001b[0m \u001b[1m1s\u001b[0m 13ms/step - accuracy: 0.6152 - loss: 1.1760 - val_accuracy: 0.5224 - val_loss: 0.8068\n",
      "Epoch 2/10\n",
      "\u001b[1m24/24\u001b[0m \u001b[32m━━━━━━━━━━━━━━━━━━━━\u001b[0m\u001b[37m\u001b[0m \u001b[1m0s\u001b[0m 4ms/step - accuracy: 0.6681 - loss: 0.6549 - val_accuracy: 0.6940 - val_loss: 0.6693\n",
      "Epoch 3/10\n",
      "\u001b[1m24/24\u001b[0m \u001b[32m━━━━━━━━━━━━━━━━━━━━\u001b[0m\u001b[37m\u001b[0m \u001b[1m0s\u001b[0m 5ms/step - accuracy: 0.6807 - loss: 0.6149 - val_accuracy: 0.6493 - val_loss: 0.7445\n",
      "Epoch 4/10\n",
      "\u001b[1m24/24\u001b[0m \u001b[32m━━━━━━━━━━━━━━━━━━━━\u001b[0m\u001b[37m\u001b[0m \u001b[1m0s\u001b[0m 6ms/step - accuracy: 0.6954 - loss: 0.6399 - val_accuracy: 0.6418 - val_loss: 0.7873\n",
      "Epoch 5/10\n",
      "\u001b[1m24/24\u001b[0m \u001b[32m━━━━━━━━━━━━━━━━━━━━\u001b[0m\u001b[37m\u001b[0m \u001b[1m0s\u001b[0m 6ms/step - accuracy: 0.7052 - loss: 0.6050 - val_accuracy: 0.6866 - val_loss: 0.6422\n",
      "Epoch 6/10\n",
      "\u001b[1m24/24\u001b[0m \u001b[32m━━━━━━━━━━━━━━━━━━━━\u001b[0m\u001b[37m\u001b[0m \u001b[1m0s\u001b[0m 5ms/step - accuracy: 0.7371 - loss: 0.5714 - val_accuracy: 0.7388 - val_loss: 0.5343\n",
      "Epoch 7/10\n",
      "\u001b[1m24/24\u001b[0m \u001b[32m━━━━━━━━━━━━━━━━━━━━\u001b[0m\u001b[37m\u001b[0m \u001b[1m0s\u001b[0m 5ms/step - accuracy: 0.7546 - loss: 0.4838 - val_accuracy: 0.7164 - val_loss: 0.5305\n",
      "Epoch 8/10\n",
      "\u001b[1m24/24\u001b[0m \u001b[32m━━━━━━━━━━━━━━━━━━━━\u001b[0m\u001b[37m\u001b[0m \u001b[1m0s\u001b[0m 6ms/step - accuracy: 0.7006 - loss: 0.5997 - val_accuracy: 0.6940 - val_loss: 0.6490\n",
      "Epoch 9/10\n",
      "\u001b[1m24/24\u001b[0m \u001b[32m━━━━━━━━━━━━━━━━━━━━\u001b[0m\u001b[37m\u001b[0m \u001b[1m0s\u001b[0m 5ms/step - accuracy: 0.7265 - loss: 0.5752 - val_accuracy: 0.7612 - val_loss: 0.5150\n",
      "Epoch 10/10\n",
      "\u001b[1m24/24\u001b[0m \u001b[32m━━━━━━━━━━━━━━━━━━━━\u001b[0m\u001b[37m\u001b[0m \u001b[1m0s\u001b[0m 6ms/step - accuracy: 0.7893 - loss: 0.4970 - val_accuracy: 0.8209 - val_loss: 0.4846\n",
      "\u001b[1m5/5\u001b[0m \u001b[32m━━━━━━━━━━━━━━━━━━━━\u001b[0m\u001b[37m\u001b[0m \u001b[1m0s\u001b[0m 11ms/step\n",
      "Модель 128-512-1:\n",
      "Точность: 0.8208954930305481\n",
      "F1-мера: 0.7209302325581395\n"
     ]
    }
   ],
   "source": [
    "md1_2_3 = keras.Sequential([\n",
    "    layers.Dense(128, activation='relu', input_shape=(X_train.shape[1],)),\n",
    "    layers.Dense(512, activation='relu'),\n",
    "    layers.Dense(1, activation='sigmoid')\n",
    "])\n",
    "\n",
    "get_metrix_of_model(md1_2_3, 10, \"128-512-1\", X_train, y_train, X_test, y_test)"
   ]
  },
  {
   "cell_type": "markdown",
   "id": "5b900c87",
   "metadata": {},
   "source": [
    "----"
   ]
  },
  {
   "cell_type": "markdown",
   "id": "7c55d08d",
   "metadata": {},
   "source": [
    "### Линейные модели"
   ]
  },
  {
   "cell_type": "markdown",
   "id": "21d9d926",
   "metadata": {},
   "source": [
    "#### Логистическая регрессия"
   ]
  },
  {
   "cell_type": "code",
   "execution_count": null,
   "id": "dd17e186",
   "metadata": {},
   "outputs": [
    {
     "name": "stdout",
     "output_type": "stream",
     "text": [
      "Линейная модель (логистическая регрессия):\n",
      "Точность: 0.835820895522388\n",
      "F1-мера: 0.7441860465116279\n"
     ]
    }
   ],
   "source": [
    "from sklearn.linear_model import LogisticRegression\n",
    "from sklearn.metrics import accuracy_score, f1_score\n",
    "\n",
    "logreg_params = {'C': [0.01, 0.1, 1], 'penalty': ['l2']}\n",
    "logreg_grid = GridSearchCV(LogisticRegression(random_state=52, max_iter=1000), logreg_params, cv=5)\n",
    "logreg_grid.fit(X_train, y_train)\n",
    "linear_model = logreg_grid.best_estimator_\n",
    "\n",
    "y_pred_linear = linear_model.predict(X_test)\n",
    "print(\"Линейная модель (логистическая регрессия):\")\n",
    "print(\"Точность:\", accuracy_score(y_test, y_pred_linear))\n",
    "print(\"F1-мера:\", f1_score(y_test, y_pred_linear))"
   ]
  },
  {
   "cell_type": "markdown",
   "id": "172e6341",
   "metadata": {},
   "source": [
    "...\n",
    "----------"
   ]
  },
  {
   "cell_type": "markdown",
   "id": "8b32e0b4",
   "metadata": {},
   "source": [
    "#### Ridge-классификация"
   ]
  },
  {
   "cell_type": "code",
   "execution_count": 19,
   "id": "94a19e19",
   "metadata": {},
   "outputs": [
    {
     "name": "stdout",
     "output_type": "stream",
     "text": [
      "\n",
      "Линейная модель (Ridge):\n",
      "Точность: 0.8059701492537313\n",
      "F1-мера: 0.6976744186046512\n"
     ]
    }
   ],
   "source": [
    "from sklearn.linear_model import RidgeClassifier\n",
    "\n",
    "ridge_model = RidgeClassifier(random_state=52)\n",
    "ridge_model.fit(X_train, y_train)\n",
    "\n",
    "y_pred_ridge = ridge_model.predict(X_test)\n",
    "print(\"\\nЛинейная модель (Ridge):\")\n",
    "print(\"Точность:\", accuracy_score(y_test, y_pred_ridge))\n",
    "print(\"F1-мера:\", f1_score(y_test, y_pred_ridge))"
   ]
  },
  {
   "cell_type": "markdown",
   "id": "074a51d9",
   "metadata": {},
   "source": [
    "...\n",
    "----------"
   ]
  },
  {
   "cell_type": "markdown",
   "id": "6bca4ffd",
   "metadata": {},
   "source": [
    "#### с SGD-обучением"
   ]
  },
  {
   "cell_type": "code",
   "execution_count": 20,
   "id": "6a3cc63b",
   "metadata": {},
   "outputs": [
    {
     "name": "stdout",
     "output_type": "stream",
     "text": [
      "\n",
      "Линейная модель (SGD):\n",
      "Точность: 0.7611940298507462\n",
      "F1-мера: 0.5294117647058824\n"
     ]
    }
   ],
   "source": [
    "from sklearn.linear_model import SGDClassifier\n",
    "\n",
    "sgd_model = SGDClassifier(loss='log_loss', random_state=52)\n",
    "sgd_model.fit(X_train, y_train)\n",
    "\n",
    "y_pred_sgd = sgd_model.predict(X_test)\n",
    "print(\"\\nЛинейная модель (SGD):\")\n",
    "print(\"Точность:\", accuracy_score(y_test, y_pred_sgd))\n",
    "print(\"F1-мера:\", f1_score(y_test, y_pred_sgd))"
   ]
  },
  {
   "cell_type": "markdown",
   "id": "e928fe64",
   "metadata": {},
   "source": [
    "...\n",
    "----------"
   ]
  },
  {
   "cell_type": "markdown",
   "id": "42728f79",
   "metadata": {},
   "source": [
    "----"
   ]
  },
  {
   "cell_type": "markdown",
   "id": "c11cabf4",
   "metadata": {},
   "source": [
    "### Деревья"
   ]
  },
  {
   "cell_type": "markdown",
   "id": "4eda00f2",
   "metadata": {},
   "source": [
    "#### Дерево решений"
   ]
  },
  {
   "cell_type": "code",
   "execution_count": 21,
   "id": "903193a5",
   "metadata": {},
   "outputs": [
    {
     "name": "stdout",
     "output_type": "stream",
     "text": [
      "\n",
      "Дерево решений:\n",
      "Точность: 0.8283582089552238\n",
      "F1-мера: 0.7228915662650602\n"
     ]
    }
   ],
   "source": [
    "from sklearn.tree import DecisionTreeClassifier\n",
    "\n",
    "tree_params = {'max_depth': [3, 5, None], 'min_samples_split': [2, 5]}\n",
    "tree_grid = GridSearchCV(DecisionTreeClassifier(random_state=52), tree_params, cv=5)\n",
    "tree_grid.fit(X_train, y_train)\n",
    "tree_model = tree_grid.best_estimator_\n",
    "\n",
    "y_pred_tree = tree_model.predict(X_test)\n",
    "print(\"\\nДерево решений:\")\n",
    "print(\"Точность:\", accuracy_score(y_test, y_pred_tree))\n",
    "print(\"F1-мера:\", f1_score(y_test, y_pred_tree))"
   ]
  },
  {
   "cell_type": "markdown",
   "id": "7f428525",
   "metadata": {},
   "source": [
    "...\n",
    "----------"
   ]
  },
  {
   "cell_type": "markdown",
   "id": "f26b6536",
   "metadata": {},
   "source": [
    "#### Случайный лес"
   ]
  },
  {
   "cell_type": "code",
   "execution_count": 22,
   "id": "ad2af914",
   "metadata": {},
   "outputs": [
    {
     "name": "stdout",
     "output_type": "stream",
     "text": [
      "\n",
      "Случайный лес (Random Forest):\n",
      "Точность: 0.8507462686567164\n",
      "F1-мера: 0.7619047619047619\n"
     ]
    }
   ],
   "source": [
    "from sklearn.ensemble import RandomForestClassifier\n",
    "\n",
    "forest_params = {'n_estimators': [100, 200], 'max_depth': [5, 7]}\n",
    "forest_grid = GridSearchCV(RandomForestClassifier(random_state=52), forest_params, cv=5)\n",
    "forest_grid.fit(X_train, y_train)\n",
    "forest_model = forest_grid.best_estimator_\n",
    "\n",
    "y_pred_forest = forest_model.predict(X_test)\n",
    "print(\"\\nСлучайный лес (Random Forest):\")\n",
    "print(\"Точность:\", accuracy_score(y_test, y_pred_forest))\n",
    "print(\"F1-мера:\", f1_score(y_test, y_pred_forest))"
   ]
  },
  {
   "cell_type": "markdown",
   "id": "48550ca7",
   "metadata": {},
   "source": [
    "...\n",
    "----------"
   ]
  },
  {
   "cell_type": "markdown",
   "id": "78f6e7ef",
   "metadata": {},
   "source": [
    "#### Градиентный бустинг от Scikit-learn"
   ]
  },
  {
   "cell_type": "code",
   "execution_count": null,
   "id": "50ce1653",
   "metadata": {},
   "outputs": [
    {
     "name": "stdout",
     "output_type": "stream",
     "text": [
      "\n",
      "Градиентный бустинг (Scikit-learn):\n",
      "Точность: 0.8445945945945946\n",
      "F1-мера: 0.7850467289719626\n"
     ]
    }
   ],
   "source": [
    "from sklearn.ensemble import GradientBoostingClassifier\n",
    "\n",
    "sklearn_boost_params = {'n_estimators': [100, 200], 'learning_rate': [0.05, 0.1]}\n",
    "sklearn_boost_grid = GridSearchCV(GradientBoostingClassifier(random_state=52), sklearn_boost_params, cv=5)\n",
    "sklearn_boost_grid.fit(X_train, y_train)\n",
    "sklearn_boost_model = sklearn_boost_grid.best_estimator_\n",
    "\n",
    "y_pred_sklearn_boost = sklearn_boost_model.predict(X_test)\n",
    "print(\"\\nГрадиентный бустинг (Scikit-learn):\")\n",
    "print(\"Точность:\", accuracy_score(y_test, y_pred_sklearn_boost))\n",
    "print(\"F1-мера:\", f1_score(y_test, y_pred_sklearn_boost))"
   ]
  },
  {
   "cell_type": "markdown",
   "id": "a331d0ad",
   "metadata": {},
   "source": [
    "...\n",
    "----------"
   ]
  },
  {
   "cell_type": "markdown",
   "id": "d8fafd68",
   "metadata": {},
   "source": [
    "----"
   ]
  },
  {
   "cell_type": "markdown",
   "id": "006c9be5",
   "metadata": {},
   "source": [
    "### Модификации градиентного бустинга"
   ]
  },
  {
   "cell_type": "markdown",
   "id": "fbbc354c",
   "metadata": {},
   "source": [
    "#### XGBoost"
   ]
  },
  {
   "cell_type": "code",
   "execution_count": null,
   "id": "31aacfd8",
   "metadata": {},
   "outputs": [
    {
     "name": "stdout",
     "output_type": "stream",
     "text": [
      "\n",
      "Градиентный бустинг (XGBoost):\n",
      "Точность: 0.831081081081081\n",
      "F1-мера: 0.7663551401869159\n"
     ]
    }
   ],
   "source": [
    "from xgboost import XGBClassifier\n",
    "\n",
    "xgb_params = {'n_estimators': [100, 200], 'max_depth': [3, 5]}\n",
    "xgb_grid = GridSearchCV(XGBClassifier(random_state=52), xgb_params, cv=5)\n",
    "xgb_grid.fit(X_train, y_train)\n",
    "boost_model = xgb_grid.best_estimator_\n",
    "\n",
    "y_pred_boost = boost_model.predict(X_test)\n",
    "print(\"\\nГрадиентный бустинг (XGBoost):\")\n",
    "print(\"Точность:\", accuracy_score(y_test, y_pred_boost))\n",
    "print(\"F1-мера:\", f1_score(y_test, y_pred_boost))"
   ]
  },
  {
   "cell_type": "markdown",
   "id": "6112750a",
   "metadata": {},
   "source": [
    "...\n",
    "----------"
   ]
  },
  {
   "cell_type": "markdown",
   "id": "70033ba2",
   "metadata": {},
   "source": [
    "#### CatBoost"
   ]
  },
  {
   "cell_type": "code",
   "execution_count": 57,
   "id": "f75a382c",
   "metadata": {},
   "outputs": [
    {
     "name": "stdout",
     "output_type": "stream",
     "text": [
      "\n",
      "Градиентный бустинг (CatBoost):\n",
      "Точность: 0.8656716417910447\n",
      "F1-мера: 0.7906976744186046\n"
     ]
    }
   ],
   "source": [
    "from catboost import CatBoostClassifier\n",
    "\n",
    "catboost_model = CatBoostClassifier(iterations=300, silent=True, random_state=52)\n",
    "catboost_model.fit(X_train, y_train)\n",
    "\n",
    "y_pred_catboost = catboost_model.predict(X_test)\n",
    "print(\"\\nГрадиентный бустинг (CatBoost):\")\n",
    "print(\"Точность:\", accuracy_score(y_test, y_pred_catboost))\n",
    "print(\"F1-мера:\", f1_score(y_test, y_pred_catboost))"
   ]
  },
  {
   "cell_type": "markdown",
   "id": "b59682a1",
   "metadata": {},
   "source": [
    "...\n",
    "----------"
   ]
  },
  {
   "cell_type": "markdown",
   "id": "3bbcc776",
   "metadata": {},
   "source": [
    "#### LightGBM"
   ]
  },
  {
   "cell_type": "code",
   "execution_count": 30,
   "id": "dc57abae",
   "metadata": {},
   "outputs": [
    {
     "name": "stdout",
     "output_type": "stream",
     "text": [
      "[LightGBM] [Info] Number of positive: 236, number of negative: 369\n",
      "[LightGBM] [Info] Auto-choosing row-wise multi-threading, the overhead of testing was 0.000055 seconds.\n",
      "You can set `force_row_wise=true` to remove the overhead.\n",
      "And if memory is not enough, you can set `force_col_wise=true`.\n",
      "[LightGBM] [Info] Total Bins 201\n",
      "[LightGBM] [Info] Number of data points in the train set: 605, number of used features: 5\n",
      "[LightGBM] [Info] [binary:BoostFromScore]: pavg=0.390083 -> initscore=-0.446965\n",
      "[LightGBM] [Info] Start training from score -0.446965\n",
      "[LightGBM] [Warning] No further splits with positive gain, best gain: -inf\n",
      "\n",
      "Градиентный бустинг (LightGBM):\n",
      "Точность: 0.8507462686567164\n",
      "F1-мера: 0.7777777777777778\n"
     ]
    }
   ],
   "source": [
    "from lightgbm import LGBMClassifier\n",
    "\n",
    "lgbm_params = {'n_estimators': [100, 200], 'max_depth': [3, 5]}\n",
    "lgbm_grid = GridSearchCV(LGBMClassifier(random_state=52), lgbm_params, cv=5)\n",
    "lgbm_grid.fit(X_train, y_train)\n",
    "lgbm_model = lgbm_grid.best_estimator_\n",
    "\n",
    "y_pred_lgbm = lgbm_model.predict(X_test)\n",
    "print(\"\\nГрадиентный бустинг (LightGBM):\")\n",
    "print(\"Точность:\", accuracy_score(y_test, y_pred_lgbm))\n",
    "print(\"F1-мера:\", f1_score(y_test, y_pred_lgbm))"
   ]
  },
  {
   "cell_type": "markdown",
   "id": "dc5ae544",
   "metadata": {},
   "source": [
    "...\n",
    "----------"
   ]
  },
  {
   "cell_type": "markdown",
   "id": "bdfc119c",
   "metadata": {},
   "source": [
    "----"
   ]
  },
  {
   "cell_type": "markdown",
   "id": "5d1589a2",
   "metadata": {},
   "source": [
    "#### Итоговый свод метрик"
   ]
  },
  {
   "cell_type": "markdown",
   "id": "3c60da05",
   "metadata": {},
   "source": [
    "Нейронная сеть (128-512-1):\n",
    "- Точность: 0.8208954930305481\n",
    "- F1-мера: 0.7209302325581395\n",
    "\n",
    "Линейная модель (Логистическая регрессия):\n",
    "- Точность: 0.835820895522388\n",
    "- F1-мера: 0.7441860465116279\n",
    "\n",
    "Линейная модель (Ridge):\n",
    "- Точность: 0.8059701492537313\n",
    "- F1-мера: 0.6976744186046512\n",
    "\n",
    "Линейная модель (SGD):\n",
    "- Точность: 0.7611940298507462\n",
    "- F1-мера: 0.5294117647058824\n",
    "\n",
    "Деревья (Дерево решений):\n",
    "- Точность: 0.8283582089552238\n",
    "- F1-мера: 0.7228915662650602\n",
    "\n",
    "Деревья (Случайный лес):\n",
    "- Точность: 0.8507462686567164\n",
    "- F1-мера: 0.7619047619047619\n",
    "\n",
    "Деревья (Scikit-learn):\n",
    "- Точность: 0.8445945945945946\n",
    "- F1-мера: 0.7850467289719626\n",
    "\n",
    "Градиентный бустинг (XGBoost):\n",
    "- Точность: 0.831081081081081\n",
    "- F1-мера: 0.7663551401869159\n",
    "\n",
    "Градиентный бустинг (CatBoost):\n",
    "- Точность: 0.8656716417910447\n",
    "- F1-мера: 0.7906976744186046\n",
    "\n",
    "Градиентный бустинг (LightGBM):\n",
    "- Точность: 0.8507462686567164\n",
    "- F1-мера: 0.7777777777777778"
   ]
  },
  {
   "cell_type": "markdown",
   "id": "236edd96",
   "metadata": {},
   "source": [
    "----"
   ]
  },
  {
   "cell_type": "markdown",
   "id": "87fba18a",
   "metadata": {},
   "source": [
    "#### Кросс-валидация"
   ]
  },
  {
   "cell_type": "markdown",
   "id": "06e415d8",
   "metadata": {},
   "source": [
    "Лучшие метрики показала модель CatBoost (современная оптимизированная реализация градиентного бустинга с автоматической обработкой категориальных признаков) \n"
   ]
  },
  {
   "cell_type": "code",
   "execution_count": null,
   "id": "795f0dd3",
   "metadata": {},
   "outputs": [
    {
     "name": "stdout",
     "output_type": "stream",
     "text": [
      "\n",
      "Фолд 1:\n",
      "Точность: 0.8322\n",
      "F1-мера: 0.7619\n",
      "Classification Report:\n",
      "              precision    recall  f1-score   support\n",
      "\n",
      "           0       0.83      0.91      0.87        92\n",
      "           1       0.83      0.70      0.76        57\n",
      "\n",
      "    accuracy                           0.83       149\n",
      "   macro avg       0.83      0.81      0.82       149\n",
      "weighted avg       0.83      0.83      0.83       149\n",
      "\n",
      "Confusion Matrix:\n",
      "[[84  8]\n",
      " [17 40]]\n",
      "\n",
      "Фолд 2:\n",
      "Точность: 0.8389\n",
      "F1-мера: 0.7692\n",
      "Classification Report:\n",
      "              precision    recall  f1-score   support\n",
      "\n",
      "           0       0.83      0.92      0.88        92\n",
      "           1       0.85      0.70      0.77        57\n",
      "\n",
      "    accuracy                           0.84       149\n",
      "   macro avg       0.84      0.81      0.82       149\n",
      "weighted avg       0.84      0.84      0.84       149\n",
      "\n",
      "Confusion Matrix:\n",
      "[[85  7]\n",
      " [17 40]]\n",
      "\n",
      "Фолд 3:\n",
      "Точность: 0.8255\n",
      "F1-мера: 0.7500\n",
      "Classification Report:\n",
      "              precision    recall  f1-score   support\n",
      "\n",
      "           0       0.82      0.91      0.87        92\n",
      "           1       0.83      0.68      0.75        57\n",
      "\n",
      "    accuracy                           0.83       149\n",
      "   macro avg       0.83      0.80      0.81       149\n",
      "weighted avg       0.83      0.83      0.82       149\n",
      "\n",
      "Confusion Matrix:\n",
      "[[84  8]\n",
      " [18 39]]\n",
      "\n",
      "Фолд 4:\n",
      "Точность: 0.8649\n",
      "F1-мера: 0.8039\n",
      "Classification Report:\n",
      "              precision    recall  f1-score   support\n",
      "\n",
      "           0       0.84      0.96      0.90        91\n",
      "           1       0.91      0.72      0.80        57\n",
      "\n",
      "    accuracy                           0.86       148\n",
      "   macro avg       0.88      0.84      0.85       148\n",
      "weighted avg       0.87      0.86      0.86       148\n",
      "\n",
      "Confusion Matrix:\n",
      "[[87  4]\n",
      " [16 41]]\n",
      "\n",
      "Фолд 5:\n",
      "Точность: 0.8176\n",
      "F1-мера: 0.7379\n",
      "Classification Report:\n",
      "              precision    recall  f1-score   support\n",
      "\n",
      "           0       0.81      0.91      0.86        91\n",
      "           1       0.83      0.67      0.74        57\n",
      "\n",
      "    accuracy                           0.82       148\n",
      "   macro avg       0.82      0.79      0.80       148\n",
      "weighted avg       0.82      0.82      0.81       148\n",
      "\n",
      "Confusion Matrix:\n",
      "[[83  8]\n",
      " [19 38]]\n",
      "\n",
      "Фолд 6:\n",
      "Точность: 0.8378\n",
      "F1-мера: 0.7736\n",
      "Classification Report:\n",
      "              precision    recall  f1-score   support\n",
      "\n",
      "           0       0.84      0.91      0.87        91\n",
      "           1       0.84      0.72      0.77        57\n",
      "\n",
      "    accuracy                           0.84       148\n",
      "   macro avg       0.84      0.82      0.82       148\n",
      "weighted avg       0.84      0.84      0.84       148\n",
      "\n",
      "Confusion Matrix:\n",
      "[[83  8]\n",
      " [16 41]]\n",
      "\n",
      "Итоговые средние метрики:\n",
      "Средняя точность: 0.8362 ± 0.0148\n",
      "Средняя F1-мера: 0.7661 ± 0.0207\n"
     ]
    }
   ],
   "source": [
    "from catboost import CatBoostClassifier\n",
    "from sklearn.model_selection import StratifiedKFold\n",
    "from sklearn.metrics import accuracy_score, f1_score, classification_report, confusion_matrix\n",
    "import numpy as np\n",
    "\n",
    "kFold = StratifiedKFold(n_splits=6, shuffle=True, random_state=52)\n",
    "\n",
    "f1_scores = []\n",
    "accuracies = []\n",
    "reports = []\n",
    "matrices = []\n",
    "\n",
    "for fold_idx, (train_index, test_index) in enumerate(kFold.split(X, y)):\n",
    "    X_train, X_test = X.iloc[train_index], X.iloc[test_index]\n",
    "    y_train, y_test = y.iloc[train_index], y.iloc[test_index]\n",
    "    \n",
    "    model = CatBoostClassifier(\n",
    "        iterations=300,\n",
    "        silent=True,\n",
    "        random_state=52\n",
    "    )\n",
    "    \n",
    "    model.fit(X_train, y_train)\n",
    "    \n",
    "    y_pred = model.predict(X_test)\n",
    "    \n",
    "    acc = accuracy_score(y_test, y_pred)\n",
    "    f1 = f1_score(y_test, y_pred)\n",
    "    report = classification_report(y_test, y_pred)\n",
    "    matrix = confusion_matrix(y_test, y_pred)\n",
    "    \n",
    "    accuracies.append(acc)\n",
    "    f1_scores.append(f1)\n",
    "    reports.append(report)\n",
    "    matrices.append(matrix)\n",
    "    \n",
    "    print(f'\\nФолд {fold_idx + 1}:')\n",
    "    print(f'Точность: {acc:.4f}')\n",
    "    print(f'F1-мера: {f1:.4f}')\n",
    "    print('Classification Report:')\n",
    "    print(report)\n",
    "    print('Confusion Matrix:')\n",
    "    print(matrix)\n",
    "\n",
    "print('\\nИтоговые средние метрики:')\n",
    "print(f'Средняя точность: {np.mean(accuracies):.4f} ± {np.std(accuracies):.4f}')\n",
    "print(f'Средняя F1-мера: {np.mean(f1_scores):.4f} ± {np.std(f1_scores):.4f}')"
   ]
  },
  {
   "cell_type": "markdown",
   "id": "c04179de",
   "metadata": {},
   "source": [
    "...\n",
    "----------"
   ]
  },
  {
   "cell_type": "markdown",
   "id": "d2b4cb04",
   "metadata": {},
   "source": [
    "#### Результаты"
   ]
  },
  {
   "cell_type": "markdown",
   "id": "af2da2e9",
   "metadata": {},
   "source": [
    "Кросс валидация показала следующие результаты с точки зрения эффективности модели:\n",
    "- 1 Фолд: Модель предсказала 84 погибшего верно, отнеся 8 к неправильному классу. Также модель предсказала 17 выживших верно и отнесла 40 к неправильному классу\n",
    "- 2 Фолд: Модель предсказала 85 погибших верно, отнеся 7 к неправильному классу. Также модель предсказала 17 выживших верно и отнесла 40 к неправильному классу\n",
    "- 3 Фолд: Модель предсказала 84 погибших верно, отнеся 8 к неправильному классу. Также модель предсказала 18 выжившего верно и отнесла 39 к неправильному классу\n",
    "- 4 Фолд: Модель предсказала 87 погибших верно, отнеся 4 к неправильному классу. Также модель предсказала 16 выжившего верно и отнесла 41 к неправильному классу\n",
    "- 5 Фолд: Модель предсказала 83 погибших верно, отнеся 8 к неправильному классу. Также модель предсказала 19 выжившего верно и отнесла 38 к неправильному классу\n",
    "- 6 Фолд: Модель предсказала 83 погибших верно, отнеся 8 к неправильному классу. Также модель предсказала 16 выжившего верно и отнесла 41 к неправильному классу"
   ]
  },
  {
   "cell_type": "markdown",
   "id": "f9e4104b",
   "metadata": {},
   "source": [
    "Ключевые наблюдения по фолдам:\n",
    "- Интерпретация матриц ошибок:\n",
    "\n",
    "    - Класс 0 (погибшие): Во всех фолдах модель корректно предсказывает 83-91% случаев (например, в Фолде 4: 87 правильных предсказаний против 4 ошибочных).\n",
    "\n",
    "    - Класс 1 (выжившие): Точность ниже — 67-72% (в Фолде 1: 40 верных предсказаний против 17 ошибок). Это указывает на дисбаланс классов.\n",
    "\n",
    "- Средние метрики:\n",
    "\n",
    "    - Точность: 0.836 ± 0.015 — стабильность на уровне ~83%.\n",
    "\n",
    "    - F1-мера: 0.766 ± 0.021 — умеренное качество, но есть потенциал для улучшения.\n",
    "\n",
    "- Влияние размера датасета:\n",
    "\n",
    "    - Объем данных мал для глубокого обучения, но достаточен для CatBoost, который устойчив к шуму и хорошо работает на небольших выборках.\n",
    "\n"
   ]
  },
  {
   "cell_type": "markdown",
   "id": "ebe0ed64",
   "metadata": {},
   "source": [
    "----"
   ]
  },
  {
   "cell_type": "markdown",
   "id": "29cb74ab",
   "metadata": {},
   "source": [
    "### Итоги\n"
   ]
  },
  {
   "cell_type": "markdown",
   "id": "cb8cd2fc",
   "metadata": {},
   "source": [
    "<b>Вывод:</b>    Проделаны комплексный обзор даты с дозаполнением пустых ячеек методом K ближайших соседей, Feature Engineering и Feature Importances. Был проведен 21 эксперимент с целью найти наиболее эффективную модель. Модель CatBoost, показавшая наилучший результат, была подвергнута тестированию на шести фолдах и продемонстрировала стабильную работу, путём низкого разброса метрик между фолдами, но столкнулась с трудностями в предсказании выживших. Главной проблемой оказался не столько объем данных, сколько их несбалансированность и сложность паттернов для данного класса. При правильной настройке модель может улучшить F1-меру до 0.8+. Однако, не будь данная модель устойчива к шуму и не будь она так хороша на маленьких выборках, то можно было бы исключить легкореализуемость любых попыток точного предсказания из-за флуктуций в дате, которые не невелируются ее объемом."
   ]
  }
 ],
 "metadata": {
  "kernelspec": {
   "display_name": "Python 3",
   "language": "python",
   "name": "python3"
  },
  "language_info": {
   "codemirror_mode": {
    "name": "ipython",
    "version": 3
   },
   "file_extension": ".py",
   "mimetype": "text/x-python",
   "name": "python",
   "nbconvert_exporter": "python",
   "pygments_lexer": "ipython3",
   "version": "3.11.9"
  }
 },
 "nbformat": 4,
 "nbformat_minor": 5
}
