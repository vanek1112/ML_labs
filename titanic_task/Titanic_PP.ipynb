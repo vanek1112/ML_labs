{
  "cells": [
    {
      "cell_type": "markdown",
      "id": "0b7f57a6",
      "metadata": {
        "id": "0b7f57a6"
      },
      "source": [
        "### Импорт библиотек\n"
      ]
    },
    {
      "cell_type": "code",
      "execution_count": 2,
      "id": "e9d4dda1",
      "metadata": {
        "id": "e9d4dda1"
      },
      "outputs": [],
      "source": [
        "import numpy as np\n",
        "import pandas as pd\n",
        "import matplotlib.pyplot as plt\n",
        "from sklearn.neighbors import KNeighborsRegressor\n",
        "import seaborn as sns"
      ]
    },
    {
      "cell_type": "markdown",
      "id": "6cb409b8",
      "metadata": {
        "id": "6cb409b8"
      },
      "source": [
        "### Чтение данных\n"
      ]
    },
    {
      "cell_type": "code",
      "execution_count": 3,
      "id": "7d666bf0",
      "metadata": {
        "id": "7d666bf0"
      },
      "outputs": [],
      "source": [
        "df = pd.read_csv('Titanic.csv')"
      ]
    },
    {
      "cell_type": "markdown",
      "id": "f524fbc1",
      "metadata": {
        "id": "f524fbc1"
      },
      "source": [
        "### Предпросмотр данных и работа с ними\n"
      ]
    },
    {
      "cell_type": "code",
      "execution_count": null,
      "id": "703c8443",
      "metadata": {
        "colab": {
          "base_uri": "https://localhost:8080/",
          "height": 206
        },
        "id": "703c8443",
        "outputId": "22aeebc8-118f-4ae6-e6fd-c71e753a812f"
      },
      "outputs": [
        {
          "data": {
            "application/vnd.google.colaboratory.intrinsic+json": {
              "summary": "{\n  \"name\": \"df\",\n  \"rows\": 891,\n  \"fields\": [\n    {\n      \"column\": \"PassengerId\",\n      \"properties\": {\n        \"dtype\": \"number\",\n        \"std\": 257,\n        \"min\": 1,\n        \"max\": 891,\n        \"num_unique_values\": 891,\n        \"samples\": [\n          710,\n          440,\n          841\n        ],\n        \"semantic_type\": \"\",\n        \"description\": \"\"\n      }\n    },\n    {\n      \"column\": \"Survived\",\n      \"properties\": {\n        \"dtype\": \"number\",\n        \"std\": 0,\n        \"min\": 0,\n        \"max\": 1,\n        \"num_unique_values\": 2,\n        \"samples\": [\n          1,\n          0\n        ],\n        \"semantic_type\": \"\",\n        \"description\": \"\"\n      }\n    },\n    {\n      \"column\": \"Pclass\",\n      \"properties\": {\n        \"dtype\": \"number\",\n        \"std\": 0,\n        \"min\": 1,\n        \"max\": 3,\n        \"num_unique_values\": 3,\n        \"samples\": [\n          3,\n          1\n        ],\n        \"semantic_type\": \"\",\n        \"description\": \"\"\n      }\n    },\n    {\n      \"column\": \"Name\",\n      \"properties\": {\n        \"dtype\": \"string\",\n        \"num_unique_values\": 891,\n        \"samples\": [\n          \"Moubarek, Master. Halim Gonios (\\\"William George\\\")\",\n          \"Kvillner, Mr. Johan Henrik Johannesson\"\n        ],\n        \"semantic_type\": \"\",\n        \"description\": \"\"\n      }\n    },\n    {\n      \"column\": \"Sex\",\n      \"properties\": {\n        \"dtype\": \"category\",\n        \"num_unique_values\": 2,\n        \"samples\": [\n          \"female\",\n          \"male\"\n        ],\n        \"semantic_type\": \"\",\n        \"description\": \"\"\n      }\n    },\n    {\n      \"column\": \"Age\",\n      \"properties\": {\n        \"dtype\": \"number\",\n        \"std\": 14.526497332334044,\n        \"min\": 0.42,\n        \"max\": 80.0,\n        \"num_unique_values\": 88,\n        \"samples\": [\n          0.75,\n          22.0\n        ],\n        \"semantic_type\": \"\",\n        \"description\": \"\"\n      }\n    },\n    {\n      \"column\": \"SibSp\",\n      \"properties\": {\n        \"dtype\": \"number\",\n        \"std\": 1,\n        \"min\": 0,\n        \"max\": 8,\n        \"num_unique_values\": 7,\n        \"samples\": [\n          1,\n          0\n        ],\n        \"semantic_type\": \"\",\n        \"description\": \"\"\n      }\n    },\n    {\n      \"column\": \"Parch\",\n      \"properties\": {\n        \"dtype\": \"number\",\n        \"std\": 0,\n        \"min\": 0,\n        \"max\": 6,\n        \"num_unique_values\": 7,\n        \"samples\": [\n          0,\n          1\n        ],\n        \"semantic_type\": \"\",\n        \"description\": \"\"\n      }\n    },\n    {\n      \"column\": \"Ticket\",\n      \"properties\": {\n        \"dtype\": \"string\",\n        \"num_unique_values\": 681,\n        \"samples\": [\n          \"11774\",\n          \"248740\"\n        ],\n        \"semantic_type\": \"\",\n        \"description\": \"\"\n      }\n    },\n    {\n      \"column\": \"Fare\",\n      \"properties\": {\n        \"dtype\": \"number\",\n        \"std\": 49.693428597180905,\n        \"min\": 0.0,\n        \"max\": 512.3292,\n        \"num_unique_values\": 248,\n        \"samples\": [\n          11.2417,\n          51.8625\n        ],\n        \"semantic_type\": \"\",\n        \"description\": \"\"\n      }\n    },\n    {\n      \"column\": \"Cabin\",\n      \"properties\": {\n        \"dtype\": \"category\",\n        \"num_unique_values\": 147,\n        \"samples\": [\n          \"D45\",\n          \"B49\"\n        ],\n        \"semantic_type\": \"\",\n        \"description\": \"\"\n      }\n    },\n    {\n      \"column\": \"Embarked\",\n      \"properties\": {\n        \"dtype\": \"category\",\n        \"num_unique_values\": 3,\n        \"samples\": [\n          \"S\",\n          \"C\"\n        ],\n        \"semantic_type\": \"\",\n        \"description\": \"\"\n      }\n    }\n  ]\n}",
              "type": "dataframe",
              "variable_name": "df"
            },
            "text/html": [
              "\n",
              "  <div id=\"df-7c442860-3338-4664-a1c2-255b7b6b0aa6\" class=\"colab-df-container\">\n",
              "    <div>\n",
              "<style scoped>\n",
              "    .dataframe tbody tr th:only-of-type {\n",
              "        vertical-align: middle;\n",
              "    }\n",
              "\n",
              "    .dataframe tbody tr th {\n",
              "        vertical-align: top;\n",
              "    }\n",
              "\n",
              "    .dataframe thead th {\n",
              "        text-align: right;\n",
              "    }\n",
              "</style>\n",
              "<table border=\"1\" class=\"dataframe\">\n",
              "  <thead>\n",
              "    <tr style=\"text-align: right;\">\n",
              "      <th></th>\n",
              "      <th>PassengerId</th>\n",
              "      <th>Survived</th>\n",
              "      <th>Pclass</th>\n",
              "      <th>Name</th>\n",
              "      <th>Sex</th>\n",
              "      <th>Age</th>\n",
              "      <th>SibSp</th>\n",
              "      <th>Parch</th>\n",
              "      <th>Ticket</th>\n",
              "      <th>Fare</th>\n",
              "      <th>Cabin</th>\n",
              "      <th>Embarked</th>\n",
              "    </tr>\n",
              "  </thead>\n",
              "  <tbody>\n",
              "    <tr>\n",
              "      <th>0</th>\n",
              "      <td>1</td>\n",
              "      <td>0</td>\n",
              "      <td>3</td>\n",
              "      <td>Braund, Mr. Owen Harris</td>\n",
              "      <td>male</td>\n",
              "      <td>22.0</td>\n",
              "      <td>1</td>\n",
              "      <td>0</td>\n",
              "      <td>A/5 21171</td>\n",
              "      <td>7.2500</td>\n",
              "      <td>NaN</td>\n",
              "      <td>S</td>\n",
              "    </tr>\n",
              "    <tr>\n",
              "      <th>1</th>\n",
              "      <td>2</td>\n",
              "      <td>1</td>\n",
              "      <td>1</td>\n",
              "      <td>Cumings, Mrs. John Bradley (Florence Briggs Th...</td>\n",
              "      <td>female</td>\n",
              "      <td>38.0</td>\n",
              "      <td>1</td>\n",
              "      <td>0</td>\n",
              "      <td>PC 17599</td>\n",
              "      <td>71.2833</td>\n",
              "      <td>C85</td>\n",
              "      <td>C</td>\n",
              "    </tr>\n",
              "    <tr>\n",
              "      <th>2</th>\n",
              "      <td>3</td>\n",
              "      <td>1</td>\n",
              "      <td>3</td>\n",
              "      <td>Heikkinen, Miss. Laina</td>\n",
              "      <td>female</td>\n",
              "      <td>26.0</td>\n",
              "      <td>0</td>\n",
              "      <td>0</td>\n",
              "      <td>STON/O2. 3101282</td>\n",
              "      <td>7.9250</td>\n",
              "      <td>NaN</td>\n",
              "      <td>S</td>\n",
              "    </tr>\n",
              "    <tr>\n",
              "      <th>3</th>\n",
              "      <td>4</td>\n",
              "      <td>1</td>\n",
              "      <td>1</td>\n",
              "      <td>Futrelle, Mrs. Jacques Heath (Lily May Peel)</td>\n",
              "      <td>female</td>\n",
              "      <td>35.0</td>\n",
              "      <td>1</td>\n",
              "      <td>0</td>\n",
              "      <td>113803</td>\n",
              "      <td>53.1000</td>\n",
              "      <td>C123</td>\n",
              "      <td>S</td>\n",
              "    </tr>\n",
              "    <tr>\n",
              "      <th>4</th>\n",
              "      <td>5</td>\n",
              "      <td>0</td>\n",
              "      <td>3</td>\n",
              "      <td>Allen, Mr. William Henry</td>\n",
              "      <td>male</td>\n",
              "      <td>35.0</td>\n",
              "      <td>0</td>\n",
              "      <td>0</td>\n",
              "      <td>373450</td>\n",
              "      <td>8.0500</td>\n",
              "      <td>NaN</td>\n",
              "      <td>S</td>\n",
              "    </tr>\n",
              "  </tbody>\n",
              "</table>\n",
              "</div>\n",
              "    <div class=\"colab-df-buttons\">\n",
              "\n",
              "  <div class=\"colab-df-container\">\n",
              "    <button class=\"colab-df-convert\" onclick=\"convertToInteractive('df-7c442860-3338-4664-a1c2-255b7b6b0aa6')\"\n",
              "            title=\"Convert this dataframe to an interactive table.\"\n",
              "            style=\"display:none;\">\n",
              "\n",
              "  <svg xmlns=\"http://www.w3.org/2000/svg\" height=\"24px\" viewBox=\"0 -960 960 960\">\n",
              "    <path d=\"M120-120v-720h720v720H120Zm60-500h600v-160H180v160Zm220 220h160v-160H400v160Zm0 220h160v-160H400v160ZM180-400h160v-160H180v160Zm440 0h160v-160H620v160ZM180-180h160v-160H180v160Zm440 0h160v-160H620v160Z\"/>\n",
              "  </svg>\n",
              "    </button>\n",
              "\n",
              "  <style>\n",
              "    .colab-df-container {\n",
              "      display:flex;\n",
              "      gap: 12px;\n",
              "    }\n",
              "\n",
              "    .colab-df-convert {\n",
              "      background-color: #E8F0FE;\n",
              "      border: none;\n",
              "      border-radius: 50%;\n",
              "      cursor: pointer;\n",
              "      display: none;\n",
              "      fill: #1967D2;\n",
              "      height: 32px;\n",
              "      padding: 0 0 0 0;\n",
              "      width: 32px;\n",
              "    }\n",
              "\n",
              "    .colab-df-convert:hover {\n",
              "      background-color: #E2EBFA;\n",
              "      box-shadow: 0px 1px 2px rgba(60, 64, 67, 0.3), 0px 1px 3px 1px rgba(60, 64, 67, 0.15);\n",
              "      fill: #174EA6;\n",
              "    }\n",
              "\n",
              "    .colab-df-buttons div {\n",
              "      margin-bottom: 4px;\n",
              "    }\n",
              "\n",
              "    [theme=dark] .colab-df-convert {\n",
              "      background-color: #3B4455;\n",
              "      fill: #D2E3FC;\n",
              "    }\n",
              "\n",
              "    [theme=dark] .colab-df-convert:hover {\n",
              "      background-color: #434B5C;\n",
              "      box-shadow: 0px 1px 3px 1px rgba(0, 0, 0, 0.15);\n",
              "      filter: drop-shadow(0px 1px 2px rgba(0, 0, 0, 0.3));\n",
              "      fill: #FFFFFF;\n",
              "    }\n",
              "  </style>\n",
              "\n",
              "    <script>\n",
              "      const buttonEl =\n",
              "        document.querySelector('#df-7c442860-3338-4664-a1c2-255b7b6b0aa6 button.colab-df-convert');\n",
              "      buttonEl.style.display =\n",
              "        google.colab.kernel.accessAllowed ? 'block' : 'none';\n",
              "\n",
              "      async function convertToInteractive(key) {\n",
              "        const element = document.querySelector('#df-7c442860-3338-4664-a1c2-255b7b6b0aa6');\n",
              "        const dataTable =\n",
              "          await google.colab.kernel.invokeFunction('convertToInteractive',\n",
              "                                                    [key], {});\n",
              "        if (!dataTable) return;\n",
              "\n",
              "        const docLinkHtml = 'Like what you see? Visit the ' +\n",
              "          '<a target=\"_blank\" href=https://colab.research.google.com/notebooks/data_table.ipynb>data table notebook</a>'\n",
              "          + ' to learn more about interactive tables.';\n",
              "        element.innerHTML = '';\n",
              "        dataTable['output_type'] = 'display_data';\n",
              "        await google.colab.output.renderOutput(dataTable, element);\n",
              "        const docLink = document.createElement('div');\n",
              "        docLink.innerHTML = docLinkHtml;\n",
              "        element.appendChild(docLink);\n",
              "      }\n",
              "    </script>\n",
              "  </div>\n",
              "\n",
              "\n",
              "    <div id=\"df-2f31c8ad-afa7-482c-98d7-f4820ac79584\">\n",
              "      <button class=\"colab-df-quickchart\" onclick=\"quickchart('df-2f31c8ad-afa7-482c-98d7-f4820ac79584')\"\n",
              "                title=\"Suggest charts\"\n",
              "                style=\"display:none;\">\n",
              "\n",
              "<svg xmlns=\"http://www.w3.org/2000/svg\" height=\"24px\"viewBox=\"0 0 24 24\"\n",
              "     width=\"24px\">\n",
              "    <g>\n",
              "        <path d=\"M19 3H5c-1.1 0-2 .9-2 2v14c0 1.1.9 2 2 2h14c1.1 0 2-.9 2-2V5c0-1.1-.9-2-2-2zM9 17H7v-7h2v7zm4 0h-2V7h2v10zm4 0h-2v-4h2v4z\"/>\n",
              "    </g>\n",
              "</svg>\n",
              "      </button>\n",
              "\n",
              "<style>\n",
              "  .colab-df-quickchart {\n",
              "      --bg-color: #E8F0FE;\n",
              "      --fill-color: #1967D2;\n",
              "      --hover-bg-color: #E2EBFA;\n",
              "      --hover-fill-color: #174EA6;\n",
              "      --disabled-fill-color: #AAA;\n",
              "      --disabled-bg-color: #DDD;\n",
              "  }\n",
              "\n",
              "  [theme=dark] .colab-df-quickchart {\n",
              "      --bg-color: #3B4455;\n",
              "      --fill-color: #D2E3FC;\n",
              "      --hover-bg-color: #434B5C;\n",
              "      --hover-fill-color: #FFFFFF;\n",
              "      --disabled-bg-color: #3B4455;\n",
              "      --disabled-fill-color: #666;\n",
              "  }\n",
              "\n",
              "  .colab-df-quickchart {\n",
              "    background-color: var(--bg-color);\n",
              "    border: none;\n",
              "    border-radius: 50%;\n",
              "    cursor: pointer;\n",
              "    display: none;\n",
              "    fill: var(--fill-color);\n",
              "    height: 32px;\n",
              "    padding: 0;\n",
              "    width: 32px;\n",
              "  }\n",
              "\n",
              "  .colab-df-quickchart:hover {\n",
              "    background-color: var(--hover-bg-color);\n",
              "    box-shadow: 0 1px 2px rgba(60, 64, 67, 0.3), 0 1px 3px 1px rgba(60, 64, 67, 0.15);\n",
              "    fill: var(--button-hover-fill-color);\n",
              "  }\n",
              "\n",
              "  .colab-df-quickchart-complete:disabled,\n",
              "  .colab-df-quickchart-complete:disabled:hover {\n",
              "    background-color: var(--disabled-bg-color);\n",
              "    fill: var(--disabled-fill-color);\n",
              "    box-shadow: none;\n",
              "  }\n",
              "\n",
              "  .colab-df-spinner {\n",
              "    border: 2px solid var(--fill-color);\n",
              "    border-color: transparent;\n",
              "    border-bottom-color: var(--fill-color);\n",
              "    animation:\n",
              "      spin 1s steps(1) infinite;\n",
              "  }\n",
              "\n",
              "  @keyframes spin {\n",
              "    0% {\n",
              "      border-color: transparent;\n",
              "      border-bottom-color: var(--fill-color);\n",
              "      border-left-color: var(--fill-color);\n",
              "    }\n",
              "    20% {\n",
              "      border-color: transparent;\n",
              "      border-left-color: var(--fill-color);\n",
              "      border-top-color: var(--fill-color);\n",
              "    }\n",
              "    30% {\n",
              "      border-color: transparent;\n",
              "      border-left-color: var(--fill-color);\n",
              "      border-top-color: var(--fill-color);\n",
              "      border-right-color: var(--fill-color);\n",
              "    }\n",
              "    40% {\n",
              "      border-color: transparent;\n",
              "      border-right-color: var(--fill-color);\n",
              "      border-top-color: var(--fill-color);\n",
              "    }\n",
              "    60% {\n",
              "      border-color: transparent;\n",
              "      border-right-color: var(--fill-color);\n",
              "    }\n",
              "    80% {\n",
              "      border-color: transparent;\n",
              "      border-right-color: var(--fill-color);\n",
              "      border-bottom-color: var(--fill-color);\n",
              "    }\n",
              "    90% {\n",
              "      border-color: transparent;\n",
              "      border-bottom-color: var(--fill-color);\n",
              "    }\n",
              "  }\n",
              "</style>\n",
              "\n",
              "      <script>\n",
              "        async function quickchart(key) {\n",
              "          const quickchartButtonEl =\n",
              "            document.querySelector('#' + key + ' button');\n",
              "          quickchartButtonEl.disabled = true;  // To prevent multiple clicks.\n",
              "          quickchartButtonEl.classList.add('colab-df-spinner');\n",
              "          try {\n",
              "            const charts = await google.colab.kernel.invokeFunction(\n",
              "                'suggestCharts', [key], {});\n",
              "          } catch (error) {\n",
              "            console.error('Error during call to suggestCharts:', error);\n",
              "          }\n",
              "          quickchartButtonEl.classList.remove('colab-df-spinner');\n",
              "          quickchartButtonEl.classList.add('colab-df-quickchart-complete');\n",
              "        }\n",
              "        (() => {\n",
              "          let quickchartButtonEl =\n",
              "            document.querySelector('#df-2f31c8ad-afa7-482c-98d7-f4820ac79584 button');\n",
              "          quickchartButtonEl.style.display =\n",
              "            google.colab.kernel.accessAllowed ? 'block' : 'none';\n",
              "        })();\n",
              "      </script>\n",
              "    </div>\n",
              "    </div>\n",
              "  </div>\n"
            ],
            "text/plain": [
              "   PassengerId  Survived  Pclass  \\\n",
              "0            1         0       3   \n",
              "1            2         1       1   \n",
              "2            3         1       3   \n",
              "3            4         1       1   \n",
              "4            5         0       3   \n",
              "\n",
              "                                                Name     Sex   Age  SibSp  \\\n",
              "0                            Braund, Mr. Owen Harris    male  22.0      1   \n",
              "1  Cumings, Mrs. John Bradley (Florence Briggs Th...  female  38.0      1   \n",
              "2                             Heikkinen, Miss. Laina  female  26.0      0   \n",
              "3       Futrelle, Mrs. Jacques Heath (Lily May Peel)  female  35.0      1   \n",
              "4                           Allen, Mr. William Henry    male  35.0      0   \n",
              "\n",
              "   Parch            Ticket     Fare Cabin Embarked  \n",
              "0      0         A/5 21171   7.2500   NaN        S  \n",
              "1      0          PC 17599  71.2833   C85        C  \n",
              "2      0  STON/O2. 3101282   7.9250   NaN        S  \n",
              "3      0            113803  53.1000  C123        S  \n",
              "4      0            373450   8.0500   NaN        S  "
            ]
          },
          "execution_count": 3,
          "metadata": {},
          "output_type": "execute_result"
        }
      ],
      "source": [
        "df.head()"
      ]
    },
    {
      "cell_type": "markdown",
      "id": "4846f1cc",
      "metadata": {
        "id": "4846f1cc"
      },
      "source": [
        "На данном этапе можно убрать следующие данные:\n",
        "\n",
        "- PassengerID - просто ID пассажира, не может влиять на выживаемость\n",
        "- Name - уникальное имя пассажира, также не может влиять на его выживаемость\n",
        "- Embarked - город посадки пассажира, также не может влиять на выживаемость, особенно на больших данных\n",
        "- Ticket - номер билета пассажира, скорее всего не имеет влияния на выживаемость"
      ]
    },
    {
      "cell_type": "code",
      "execution_count": 4,
      "id": "0f9d9be0",
      "metadata": {
        "id": "0f9d9be0"
      },
      "outputs": [],
      "source": [
        "df = df.drop('PassengerId', axis=1)\n",
        "df = df.drop('Name', axis=1)\n",
        "df = df.drop('Embarked', axis=1)\n",
        "df = df.drop('Ticket', axis=1)"
      ]
    },
    {
      "cell_type": "markdown",
      "id": "56298a15",
      "metadata": {
        "id": "56298a15"
      },
      "source": [
        "#### Работа с NaN\n",
        "\n",
        "Проверим данные на наличие пропущенных значений."
      ]
    },
    {
      "cell_type": "code",
      "execution_count": null,
      "id": "87f74d51",
      "metadata": {
        "colab": {
          "base_uri": "https://localhost:8080/",
          "height": 335
        },
        "id": "87f74d51",
        "outputId": "7871aed7-f386-4d1d-cec0-b23a76f64f66"
      },
      "outputs": [
        {
          "data": {
            "text/html": [
              "<div>\n",
              "<style scoped>\n",
              "    .dataframe tbody tr th:only-of-type {\n",
              "        vertical-align: middle;\n",
              "    }\n",
              "\n",
              "    .dataframe tbody tr th {\n",
              "        vertical-align: top;\n",
              "    }\n",
              "\n",
              "    .dataframe thead th {\n",
              "        text-align: right;\n",
              "    }\n",
              "</style>\n",
              "<table border=\"1\" class=\"dataframe\">\n",
              "  <thead>\n",
              "    <tr style=\"text-align: right;\">\n",
              "      <th></th>\n",
              "      <th>0</th>\n",
              "    </tr>\n",
              "  </thead>\n",
              "  <tbody>\n",
              "    <tr>\n",
              "      <th>Survived</th>\n",
              "      <td>0</td>\n",
              "    </tr>\n",
              "    <tr>\n",
              "      <th>Pclass</th>\n",
              "      <td>0</td>\n",
              "    </tr>\n",
              "    <tr>\n",
              "      <th>Sex</th>\n",
              "      <td>0</td>\n",
              "    </tr>\n",
              "    <tr>\n",
              "      <th>Age</th>\n",
              "      <td>177</td>\n",
              "    </tr>\n",
              "    <tr>\n",
              "      <th>SibSp</th>\n",
              "      <td>0</td>\n",
              "    </tr>\n",
              "    <tr>\n",
              "      <th>Parch</th>\n",
              "      <td>0</td>\n",
              "    </tr>\n",
              "    <tr>\n",
              "      <th>Fare</th>\n",
              "      <td>0</td>\n",
              "    </tr>\n",
              "    <tr>\n",
              "      <th>Cabin</th>\n",
              "      <td>687</td>\n",
              "    </tr>\n",
              "  </tbody>\n",
              "</table>\n",
              "</div><br><label><b>dtype:</b> int64</label>"
            ],
            "text/plain": [
              "Survived      0\n",
              "Pclass        0\n",
              "Sex           0\n",
              "Age         177\n",
              "SibSp         0\n",
              "Parch         0\n",
              "Fare          0\n",
              "Cabin       687\n",
              "dtype: int64"
            ]
          },
          "execution_count": 5,
          "metadata": {},
          "output_type": "execute_result"
        }
      ],
      "source": [
        "df.isnull().sum()"
      ]
    },
    {
      "cell_type": "markdown",
      "id": "203efb17",
      "metadata": {
        "id": "203efb17"
      },
      "source": [
        "В качестве результата проверки имеем:\n",
        "\n",
        "- Cabin - содержит слишком много незаполненных ячеек, попытка заполнения не может быть успешной из-за маленького объема данных"
      ]
    },
    {
      "cell_type": "markdown",
      "id": "2578b146",
      "metadata": {
        "id": "2578b146"
      },
      "source": [
        "Удалим её для более точной оценки выживаемости:"
      ]
    },
    {
      "cell_type": "code",
      "execution_count": 5,
      "id": "f98795f5",
      "metadata": {
        "id": "f98795f5"
      },
      "outputs": [],
      "source": [
        "df = df.drop('Cabin', axis=1)"
      ]
    },
    {
      "cell_type": "markdown",
      "id": "e3ec8178",
      "metadata": {
        "id": "e3ec8178"
      },
      "source": [
        "У нас остается одна котегориальная колонка, переводим:"
      ]
    },
    {
      "cell_type": "code",
      "execution_count": 6,
      "id": "e41079f0",
      "metadata": {
        "id": "e41079f0"
      },
      "outputs": [],
      "source": [
        "df['Sex'] = df['Sex'].map({'female': 1, 'male': 0})"
      ]
    },
    {
      "cell_type": "markdown",
      "id": "21e5205d",
      "metadata": {
        "id": "21e5205d"
      },
      "source": [
        "----"
      ]
    },
    {
      "cell_type": "markdown",
      "id": "c7c2da87",
      "metadata": {
        "id": "c7c2da87"
      },
      "source": [
        "### Разведочный анализ данных (EDA)\n"
      ]
    },
    {
      "cell_type": "markdown",
      "id": "c5f1a7a7",
      "metadata": {
        "id": "c5f1a7a7"
      },
      "source": [
        "На ящике с усами видно, что мужчины в целом старше и имеют больше выбросов по возрасту:"
      ]
    },
    {
      "cell_type": "code",
      "execution_count": 7,
      "id": "4bff40a2",
      "metadata": {
        "colab": {
          "base_uri": "https://localhost:8080/"
        },
        "id": "4bff40a2",
        "outputId": "f846d912-680d-47c9-928c-dc4e35c947aa"
      },
      "outputs": [
        {
          "data": {
            "image/png": "[encoded data removed]",
            "text/plain": [
              "<Figure size 640x480 with 1 Axes>"
            ]
          },
          "metadata": {},
          "output_type": "display_data"
        }
      ],
      "source": [
        "sns.boxplot(x='Sex', y='Age', data=df)\n",
        "plt.xlabel('Пол')\n",
        "plt.ylabel('Возраст')\n",
        "plt.title('Распределение возраста по полу')\n",
        "plt.show()"
      ]
    },
    {
      "cell_type": "markdown",
      "id": "Z-GfLo7EDQ5J",
      "metadata": {
        "id": "Z-GfLo7EDQ5J"
      },
      "source": [
        "Пассажиры с 1-3 родственниками выживали чаще, чем одиночки или большие семьи. Параметр является гибридным, поэтому, например, 1 колонке SibSp может обозначать как супруга, так и брата/сестру. Аналогичная проблема присутствует и в колонке Parch. Еще больше усложняет ситуацию то, что на титанике может быть три поколения одной семьи, или, например, дедушка с внуком, что не будет как либо зачислено в датасете. Поэтому параметры объединены в цельный FamilySize, чтобы попробовать нивелировать эту проблему."
      ]
    },
    {
      "cell_type": "code",
      "execution_count": 8,
      "id": "uaGgEo0aDEny",
      "metadata": {
        "colab": {
          "base_uri": "https://localhost:8080/"
        },
        "id": "uaGgEo0aDEny",
        "outputId": "b8061834-f44d-4c5b-ad96-d3e8178d9baf"
      },
      "outputs": [
        {
          "data": {
            "image/png": "[encoded data removed]",
            "text/plain": [
              "<Figure size 640x480 with 1 Axes>"
            ]
          },
          "metadata": {},
          "output_type": "display_data"
        }
      ],
      "source": [
        "df['FamilySize'] = df['SibSp'] + df['Parch']\n",
        "sns.barplot(data=df, x='FamilySize', y='Survived')\n",
        "plt.title('Влияние размера семьи на выживание')\n",
        "plt.show()"
      ]
    },
    {
      "cell_type": "markdown",
      "id": "rKeUWrt1AtAO",
      "metadata": {
        "id": "rKeUWrt1AtAO"
      },
      "source": [
        "Отбросим изначальные колонки."
      ]
    },
    {
      "cell_type": "code",
      "execution_count": 9,
      "id": "3klwiTZhAnDq",
      "metadata": {
        "id": "3klwiTZhAnDq"
      },
      "outputs": [],
      "source": [
        "df = df.drop(['Parch', 'SibSp'], axis=1)"
      ]
    },
    {
      "cell_type": "markdown",
      "id": "-A3yxFqkBn5n",
      "metadata": {
        "id": "-A3yxFqkBn5n"
      },
      "source": [
        "На графике выживаемости к классу каюты видим очень высокую корреляцию. Пасажиры из более \"дорогих\" классов кают выживают значительно вероятнее."
      ]
    },
    {
      "cell_type": "code",
      "execution_count": 10,
      "id": "a38KWZnVBncW",
      "metadata": {
        "colab": {
          "base_uri": "https://localhost:8080/"
        },
        "id": "a38KWZnVBncW",
        "outputId": "c624f491-0d28-435a-d59a-3007c8803c59"
      },
      "outputs": [
        {
          "data": {
            "image/png": "[encoded data removed]",
            "text/plain": [
              "<Figure size 640x480 with 1 Axes>"
            ]
          },
          "metadata": {},
          "output_type": "display_data"
        }
      ],
      "source": [
        "sns.barplot(data=df, x='Pclass', y='Survived')\n",
        "plt.title('Процент выживших по классу каюты')\n",
        "plt.show()"
      ]
    },
    {
      "cell_type": "markdown",
      "id": "DDzPGK1KENe5",
      "metadata": {
        "id": "DDzPGK1KENe5"
      },
      "source": [
        "Ящик с усами показывает, что в среднем пассажиры с более высокой ценой билета выживали чаще. Необходимо проверить корреляцию с Pclass"
      ]
    },
    {
      "cell_type": "code",
      "execution_count": 11,
      "id": "uIUGP3u5EPs_",
      "metadata": {
        "colab": {
          "base_uri": "https://localhost:8080/"
        },
        "id": "uIUGP3u5EPs_",
        "outputId": "db98caff-e3f4-4397-a7a3-150f140f1dd9"
      },
      "outputs": [
        {
          "data": {
            "image/png": "[encoded data removed]",
            "text/plain": [
              "<Figure size 1000x500 with 1 Axes>"
            ]
          },
          "metadata": {},
          "output_type": "display_data"
        }
      ],
      "source": [
        "plt.figure(figsize=(10, 5))\n",
        "sns.boxplot(data=df, x='Survived', y='Fare')\n",
        "plt.title('Распределение стоимости билета у выживших и погибших')\n",
        "plt.ylim(0, 200)  # Убираем выбросы\n",
        "plt.show()"
      ]
    },
    {
      "cell_type": "markdown",
      "id": "0hcRhLnQEa9k",
      "metadata": {
        "id": "0hcRhLnQEa9k"
      },
      "source": [
        "На точечном графике видим, что разброс цены для первого класса был очень большим, поэтому важно сохранить оба параметра, для отличия дорогого второго класса и дешевого первого, к примеру."
      ]
    },
    {
      "cell_type": "code",
      "execution_count": 12,
      "id": "U63h8nvIEapI",
      "metadata": {
        "colab": {
          "base_uri": "https://localhost:8080/"
        },
        "id": "U63h8nvIEapI",
        "outputId": "51910af4-6964-4a1a-c671-a4adf2733fc3"
      },
      "outputs": [
        {
          "name": "stderr",
          "output_type": "stream",
          "text": [
            "C:\\Users\\chern\\AppData\\Local\\Temp\\ipykernel_10108\\3588532234.py:2: FutureWarning: \n",
            "\n",
            "Passing `palette` without assigning `hue` is deprecated and will be removed in v0.14.0. Assign the `x` variable to `hue` and set `legend=False` for the same effect.\n",
            "\n",
            "  sns.stripplot(data=df, x='Pclass', y='Fare', jitter=True, alpha=0.5, palette='viridis')\n"
          ]
        },
        {
          "data": {
            "image/png": "[encoded data removed]",
            "text/plain": [
              "<Figure size 800x500 with 1 Axes>"
            ]
          },
          "metadata": {},
          "output_type": "display_data"
        }
      ],
      "source": [
        "plt.figure(figsize=(8, 5))\n",
        "sns.stripplot(data=df, x='Pclass', y='Fare', jitter=True, alpha=0.5, palette='viridis')\n",
        "plt.title('Точечное распределение Fare по Pclass')\n",
        "plt.xlabel('Класс билета (Pclass)')\n",
        "plt.ylabel('Стоимость билета (Fare)')\n",
        "plt.ylim(0, 200)\n",
        "plt.grid(axis='y', linestyle='--', alpha=0.7)\n",
        "plt.show()"
      ]
    },
    {
      "cell_type": "markdown",
      "id": "32c1464c",
      "metadata": {
        "id": "32c1464c"
      },
      "source": [
        "Модель К-ближайших соседей"
      ]
    },
    {
      "cell_type": "markdown",
      "id": "0d24457b",
      "metadata": {
        "id": "0d24457b"
      },
      "source": [
        "На основе графиков мы можем создать модель К-ближайших соседей. Выстраиваем корреляцию возраста с параметрами класса билета, пола и стоимости билета и делаем предсказание для пустых ячеек в колонке Age."
      ]
    },
    {
      "cell_type": "code",
      "execution_count": 13,
      "id": "6d303853",
      "metadata": {
        "id": "6d303853"
      },
      "outputs": [],
      "source": [
        "df_train = df[~df['Age'].isnull()]\n",
        "features = ['Pclass', 'Sex', 'Fare', 'Survived']\n",
        "model =  KNeighborsRegressor(n_neighbors=5)\n",
        "model.fit(df_train[features], df_train['Age'])\n",
        "df_test = df[df['Age'].isnull()]\n",
        "predicted_age = model.predict(df_test[features])\n",
        "df.loc[df['Age'].isnull(), 'Age'] = predicted_age"
      ]
    },
    {
      "cell_type": "code",
      "execution_count": null,
      "id": "f6097aed",
      "metadata": {
        "colab": {
          "base_uri": "https://localhost:8080/"
        },
        "id": "f6097aed",
        "outputId": "53df646a-1855-4a24-87cd-c3f4de816ef1"
      },
      "outputs": [
        {
          "data": {
            "text/html": [
              "<div>\n",
              "<style scoped>\n",
              "    .dataframe tbody tr th:only-of-type {\n",
              "        vertical-align: middle;\n",
              "    }\n",
              "\n",
              "    .dataframe tbody tr th {\n",
              "        vertical-align: top;\n",
              "    }\n",
              "\n",
              "    .dataframe thead th {\n",
              "        text-align: right;\n",
              "    }\n",
              "</style>\n",
              "<table border=\"1\" class=\"dataframe\">\n",
              "  <thead>\n",
              "    <tr style=\"text-align: right;\">\n",
              "      <th></th>\n",
              "      <th>0</th>\n",
              "    </tr>\n",
              "  </thead>\n",
              "  <tbody>\n",
              "    <tr>\n",
              "      <th>Survived</th>\n",
              "      <td>0</td>\n",
              "    </tr>\n",
              "    <tr>\n",
              "      <th>Pclass</th>\n",
              "      <td>0</td>\n",
              "    </tr>\n",
              "    <tr>\n",
              "      <th>Sex</th>\n",
              "      <td>0</td>\n",
              "    </tr>\n",
              "    <tr>\n",
              "      <th>Age</th>\n",
              "      <td>0</td>\n",
              "    </tr>\n",
              "    <tr>\n",
              "      <th>Fare</th>\n",
              "      <td>0</td>\n",
              "    </tr>\n",
              "    <tr>\n",
              "      <th>FamilySize</th>\n",
              "      <td>0</td>\n",
              "    </tr>\n",
              "  </tbody>\n",
              "</table>\n",
              "</div><br><label><b>dtype:</b> int64</label>"
            ],
            "text/plain": [
              "Survived      0\n",
              "Pclass        0\n",
              "Sex           0\n",
              "Age           0\n",
              "Fare          0\n",
              "FamilySize    0\n",
              "dtype: int64"
            ]
          },
          "execution_count": 15,
          "metadata": {},
          "output_type": "execute_result"
        }
      ],
      "source": [
        "df.isnull().sum()"
      ]
    },
    {
      "cell_type": "markdown",
      "id": "243f9690",
      "metadata": {
        "id": "243f9690"
      },
      "source": [
        "Присутствует дизбаланс классов. В следствии опираемся на F-метрику для оценки точности модели."
      ]
    },
    {
      "cell_type": "code",
      "execution_count": null,
      "id": "f4050220",
      "metadata": {
        "colab": {
          "base_uri": "https://localhost:8080/"
        },
        "id": "f4050220",
        "outputId": "043810a3-780c-4d51-c147-8de3305ff5aa"
      },
      "outputs": [
        {
          "data": {
            "text/html": [
              "<div>\n",
              "<style scoped>\n",
              "    .dataframe tbody tr th:only-of-type {\n",
              "        vertical-align: middle;\n",
              "    }\n",
              "\n",
              "    .dataframe tbody tr th {\n",
              "        vertical-align: top;\n",
              "    }\n",
              "\n",
              "    .dataframe thead th {\n",
              "        text-align: right;\n",
              "    }\n",
              "</style>\n",
              "<table border=\"1\" class=\"dataframe\">\n",
              "  <thead>\n",
              "    <tr style=\"text-align: right;\">\n",
              "      <th></th>\n",
              "      <th>count</th>\n",
              "    </tr>\n",
              "    <tr>\n",
              "      <th>Survived</th>\n",
              "      <th></th>\n",
              "    </tr>\n",
              "  </thead>\n",
              "  <tbody>\n",
              "    <tr>\n",
              "      <th>0</th>\n",
              "      <td>549</td>\n",
              "    </tr>\n",
              "    <tr>\n",
              "      <th>1</th>\n",
              "      <td>342</td>\n",
              "    </tr>\n",
              "  </tbody>\n",
              "</table>\n",
              "</div><br><label><b>dtype:</b> int64</label>"
            ],
            "text/plain": [
              "Survived\n",
              "0    549\n",
              "1    342\n",
              "Name: count, dtype: int64"
            ]
          },
          "execution_count": 16,
          "metadata": {},
          "output_type": "execute_result"
        }
      ],
      "source": [
        "df['Survived'].value_counts()"
      ]
    },
    {
      "cell_type": "markdown",
      "id": "1b0f0ae0",
      "metadata": {
        "id": "1b0f0ae0"
      },
      "source": [
        "По графику ниже можем заметить сильную корреляцию с колонками Fare, Pclass, Sex, слабую корреляцию с Age и практически отсутствующую с FamilySize."
      ]
    },
    {
      "cell_type": "code",
      "execution_count": null,
      "id": "6d6ff4ef",
      "metadata": {
        "colab": {
          "base_uri": "https://localhost:8080/"
        },
        "id": "6d6ff4ef",
        "outputId": "6efec5e5-603a-4582-f82f-c32726b00e40"
      },
      "outputs": [
        {
          "data": {
            "application/vnd.google.colaboratory.intrinsic+json": {
              "summary": "{\n  \"name\": \"df\",\n  \"rows\": 6,\n  \"fields\": [\n    {\n      \"column\": \"Survived\",\n      \"properties\": {\n        \"dtype\": \"number\",\n        \"std\": 0.4852606162072315,\n        \"min\": -0.33848103596101514,\n        \"max\": 1.0,\n        \"num_unique_values\": 6,\n        \"samples\": [\n          1.0,\n          -0.33848103596101514,\n          0.016638989282745178\n        ],\n        \"semantic_type\": \"\",\n        \"description\": \"\"\n      }\n    },\n    {\n      \"column\": \"Pclass\",\n      \"properties\": {\n        \"dtype\": \"number\",\n        \"std\": 0.5567722286813594,\n        \"min\": -0.5494996199439076,\n        \"max\": 1.0,\n        \"num_unique_values\": 6,\n        \"samples\": [\n          -0.33848103596101514,\n          1.0,\n          0.06599690843099822\n        ],\n        \"semantic_type\": \"\",\n        \"description\": \"\"\n      }\n    },\n    {\n      \"column\": \"Sex\",\n      \"properties\": {\n        \"dtype\": \"number\",\n        \"std\": 0.43440795919896985,\n        \"min\": -0.13280492568525792,\n        \"max\": 1.0,\n        \"num_unique_values\": 6,\n        \"samples\": [\n          0.5433513806577549,\n          -0.13190049060473927,\n          0.20098844437108526\n        ],\n        \"semantic_type\": \"\",\n        \"description\": \"\"\n      }\n    },\n    {\n      \"column\": \"Age\",\n      \"properties\": {\n        \"dtype\": \"number\",\n        \"std\": 0.4912489453420461,\n        \"min\": -0.35759450883546595,\n        \"max\": 1.0,\n        \"num_unique_values\": 6,\n        \"samples\": [\n          -0.11189103310425347,\n          -0.35759450883546595,\n          -0.2273005805430819\n        ],\n        \"semantic_type\": \"\",\n        \"description\": \"\"\n      }\n    },\n    {\n      \"column\": \"Fare\",\n      \"properties\": {\n        \"dtype\": \"number\",\n        \"std\": 0.49344296318076486,\n        \"min\": -0.5494996199439076,\n        \"max\": 1.0,\n        \"num_unique_values\": 6,\n        \"samples\": [\n          0.2573065223849626,\n          -0.5494996199439076,\n          0.2171384070524337\n        ],\n        \"semantic_type\": \"\",\n        \"description\": \"\"\n      }\n    },\n    {\n      \"column\": \"FamilySize\",\n      \"properties\": {\n        \"dtype\": \"number\",\n        \"std\": 0.41798543720642584,\n        \"min\": -0.2273005805430819,\n        \"max\": 1.0,\n        \"num_unique_values\": 6,\n        \"samples\": [\n          0.016638989282745178,\n          0.06599690843099822,\n          1.0\n        ],\n        \"semantic_type\": \"\",\n        \"description\": \"\"\n      }\n    }\n  ]\n}",
              "type": "dataframe"
            },
            "text/html": [
              "\n",
              "  <div id=\"df-31a9d1af-019e-452e-8b52-cb1e68146dd2\" class=\"colab-df-container\">\n",
              "    <div>\n",
              "<style scoped>\n",
              "    .dataframe tbody tr th:only-of-type {\n",
              "        vertical-align: middle;\n",
              "    }\n",
              "\n",
              "    .dataframe tbody tr th {\n",
              "        vertical-align: top;\n",
              "    }\n",
              "\n",
              "    .dataframe thead th {\n",
              "        text-align: right;\n",
              "    }\n",
              "</style>\n",
              "<table border=\"1\" class=\"dataframe\">\n",
              "  <thead>\n",
              "    <tr style=\"text-align: right;\">\n",
              "      <th></th>\n",
              "      <th>Survived</th>\n",
              "      <th>Pclass</th>\n",
              "      <th>Sex</th>\n",
              "      <th>Age</th>\n",
              "      <th>Fare</th>\n",
              "      <th>FamilySize</th>\n",
              "    </tr>\n",
              "  </thead>\n",
              "  <tbody>\n",
              "    <tr>\n",
              "      <th>Survived</th>\n",
              "      <td>1.000000</td>\n",
              "      <td>-0.338481</td>\n",
              "      <td>0.543351</td>\n",
              "      <td>-0.111891</td>\n",
              "      <td>0.257307</td>\n",
              "      <td>0.016639</td>\n",
              "    </tr>\n",
              "    <tr>\n",
              "      <th>Pclass</th>\n",
              "      <td>-0.338481</td>\n",
              "      <td>1.000000</td>\n",
              "      <td>-0.131900</td>\n",
              "      <td>-0.357595</td>\n",
              "      <td>-0.549500</td>\n",
              "      <td>0.065997</td>\n",
              "    </tr>\n",
              "    <tr>\n",
              "      <th>Sex</th>\n",
              "      <td>0.543351</td>\n",
              "      <td>-0.131900</td>\n",
              "      <td>1.000000</td>\n",
              "      <td>-0.132805</td>\n",
              "      <td>0.182333</td>\n",
              "      <td>0.200988</td>\n",
              "    </tr>\n",
              "    <tr>\n",
              "      <th>Age</th>\n",
              "      <td>-0.111891</td>\n",
              "      <td>-0.357595</td>\n",
              "      <td>-0.132805</td>\n",
              "      <td>1.000000</td>\n",
              "      <td>0.091416</td>\n",
              "      <td>-0.227301</td>\n",
              "    </tr>\n",
              "    <tr>\n",
              "      <th>Fare</th>\n",
              "      <td>0.257307</td>\n",
              "      <td>-0.549500</td>\n",
              "      <td>0.182333</td>\n",
              "      <td>0.091416</td>\n",
              "      <td>1.000000</td>\n",
              "      <td>0.217138</td>\n",
              "    </tr>\n",
              "    <tr>\n",
              "      <th>FamilySize</th>\n",
              "      <td>0.016639</td>\n",
              "      <td>0.065997</td>\n",
              "      <td>0.200988</td>\n",
              "      <td>-0.227301</td>\n",
              "      <td>0.217138</td>\n",
              "      <td>1.000000</td>\n",
              "    </tr>\n",
              "  </tbody>\n",
              "</table>\n",
              "</div>\n",
              "    <div class=\"colab-df-buttons\">\n",
              "\n",
              "  <div class=\"colab-df-container\">\n",
              "    <button class=\"colab-df-convert\" onclick=\"convertToInteractive('df-31a9d1af-019e-452e-8b52-cb1e68146dd2')\"\n",
              "            title=\"Convert this dataframe to an interactive table.\"\n",
              "            style=\"display:none;\">\n",
              "\n",
              "  <svg xmlns=\"http://www.w3.org/2000/svg\" height=\"24px\" viewBox=\"0 -960 960 960\">\n",
              "    <path d=\"M120-120v-720h720v720H120Zm60-500h600v-160H180v160Zm220 220h160v-160H400v160Zm0 220h160v-160H400v160ZM180-400h160v-160H180v160Zm440 0h160v-160H620v160ZM180-180h160v-160H180v160Zm440 0h160v-160H620v160Z\"/>\n",
              "  </svg>\n",
              "    </button>\n",
              "\n",
              "  <style>\n",
              "    .colab-df-container {\n",
              "      display:flex;\n",
              "      gap: 12px;\n",
              "    }\n",
              "\n",
              "    .colab-df-convert {\n",
              "      background-color: #E8F0FE;\n",
              "      border: none;\n",
              "      border-radius: 50%;\n",
              "      cursor: pointer;\n",
              "      display: none;\n",
              "      fill: #1967D2;\n",
              "      height: 32px;\n",
              "      padding: 0 0 0 0;\n",
              "      width: 32px;\n",
              "    }\n",
              "\n",
              "    .colab-df-convert:hover {\n",
              "      background-color: #E2EBFA;\n",
              "      box-shadow: 0px 1px 2px rgba(60, 64, 67, 0.3), 0px 1px 3px 1px rgba(60, 64, 67, 0.15);\n",
              "      fill: #174EA6;\n",
              "    }\n",
              "\n",
              "    .colab-df-buttons div {\n",
              "      margin-bottom: 4px;\n",
              "    }\n",
              "\n",
              "    [theme=dark] .colab-df-convert {\n",
              "      background-color: #3B4455;\n",
              "      fill: #D2E3FC;\n",
              "    }\n",
              "\n",
              "    [theme=dark] .colab-df-convert:hover {\n",
              "      background-color: #434B5C;\n",
              "      box-shadow: 0px 1px 3px 1px rgba(0, 0, 0, 0.15);\n",
              "      filter: drop-shadow(0px 1px 2px rgba(0, 0, 0, 0.3));\n",
              "      fill: #FFFFFF;\n",
              "    }\n",
              "  </style>\n",
              "\n",
              "    <script>\n",
              "      const buttonEl =\n",
              "        document.querySelector('#df-31a9d1af-019e-452e-8b52-cb1e68146dd2 button.colab-df-convert');\n",
              "      buttonEl.style.display =\n",
              "        google.colab.kernel.accessAllowed ? 'block' : 'none';\n",
              "\n",
              "      async function convertToInteractive(key) {\n",
              "        const element = document.querySelector('#df-31a9d1af-019e-452e-8b52-cb1e68146dd2');\n",
              "        const dataTable =\n",
              "          await google.colab.kernel.invokeFunction('convertToInteractive',\n",
              "                                                    [key], {});\n",
              "        if (!dataTable) return;\n",
              "\n",
              "        const docLinkHtml = 'Like what you see? Visit the ' +\n",
              "          '<a target=\"_blank\" href=https://colab.research.google.com/notebooks/data_table.ipynb>data table notebook</a>'\n",
              "          + ' to learn more about interactive tables.';\n",
              "        element.innerHTML = '';\n",
              "        dataTable['output_type'] = 'display_data';\n",
              "        await google.colab.output.renderOutput(dataTable, element);\n",
              "        const docLink = document.createElement('div');\n",
              "        docLink.innerHTML = docLinkHtml;\n",
              "        element.appendChild(docLink);\n",
              "      }\n",
              "    </script>\n",
              "  </div>\n",
              "\n",
              "\n",
              "    <div id=\"df-80e00ee5-1e7c-493f-8fd5-ce825a86b1fd\">\n",
              "      <button class=\"colab-df-quickchart\" onclick=\"quickchart('df-80e00ee5-1e7c-493f-8fd5-ce825a86b1fd')\"\n",
              "                title=\"Suggest charts\"\n",
              "                style=\"display:none;\">\n",
              "\n",
              "<svg xmlns=\"http://www.w3.org/2000/svg\" height=\"24px\"viewBox=\"0 0 24 24\"\n",
              "     width=\"24px\">\n",
              "    <g>\n",
              "        <path d=\"M19 3H5c-1.1 0-2 .9-2 2v14c0 1.1.9 2 2 2h14c1.1 0 2-.9 2-2V5c0-1.1-.9-2-2-2zM9 17H7v-7h2v7zm4 0h-2V7h2v10zm4 0h-2v-4h2v4z\"/>\n",
              "    </g>\n",
              "</svg>\n",
              "      </button>\n",
              "\n",
              "<style>\n",
              "  .colab-df-quickchart {\n",
              "      --bg-color: #E8F0FE;\n",
              "      --fill-color: #1967D2;\n",
              "      --hover-bg-color: #E2EBFA;\n",
              "      --hover-fill-color: #174EA6;\n",
              "      --disabled-fill-color: #AAA;\n",
              "      --disabled-bg-color: #DDD;\n",
              "  }\n",
              "\n",
              "  [theme=dark] .colab-df-quickchart {\n",
              "      --bg-color: #3B4455;\n",
              "      --fill-color: #D2E3FC;\n",
              "      --hover-bg-color: #434B5C;\n",
              "      --hover-fill-color: #FFFFFF;\n",
              "      --disabled-bg-color: #3B4455;\n",
              "      --disabled-fill-color: #666;\n",
              "  }\n",
              "\n",
              "  .colab-df-quickchart {\n",
              "    background-color: var(--bg-color);\n",
              "    border: none;\n",
              "    border-radius: 50%;\n",
              "    cursor: pointer;\n",
              "    display: none;\n",
              "    fill: var(--fill-color);\n",
              "    height: 32px;\n",
              "    padding: 0;\n",
              "    width: 32px;\n",
              "  }\n",
              "\n",
              "  .colab-df-quickchart:hover {\n",
              "    background-color: var(--hover-bg-color);\n",
              "    box-shadow: 0 1px 2px rgba(60, 64, 67, 0.3), 0 1px 3px 1px rgba(60, 64, 67, 0.15);\n",
              "    fill: var(--button-hover-fill-color);\n",
              "  }\n",
              "\n",
              "  .colab-df-quickchart-complete:disabled,\n",
              "  .colab-df-quickchart-complete:disabled:hover {\n",
              "    background-color: var(--disabled-bg-color);\n",
              "    fill: var(--disabled-fill-color);\n",
              "    box-shadow: none;\n",
              "  }\n",
              "\n",
              "  .colab-df-spinner {\n",
              "    border: 2px solid var(--fill-color);\n",
              "    border-color: transparent;\n",
              "    border-bottom-color: var(--fill-color);\n",
              "    animation:\n",
              "      spin 1s steps(1) infinite;\n",
              "  }\n",
              "\n",
              "  @keyframes spin {\n",
              "    0% {\n",
              "      border-color: transparent;\n",
              "      border-bottom-color: var(--fill-color);\n",
              "      border-left-color: var(--fill-color);\n",
              "    }\n",
              "    20% {\n",
              "      border-color: transparent;\n",
              "      border-left-color: var(--fill-color);\n",
              "      border-top-color: var(--fill-color);\n",
              "    }\n",
              "    30% {\n",
              "      border-color: transparent;\n",
              "      border-left-color: var(--fill-color);\n",
              "      border-top-color: var(--fill-color);\n",
              "      border-right-color: var(--fill-color);\n",
              "    }\n",
              "    40% {\n",
              "      border-color: transparent;\n",
              "      border-right-color: var(--fill-color);\n",
              "      border-top-color: var(--fill-color);\n",
              "    }\n",
              "    60% {\n",
              "      border-color: transparent;\n",
              "      border-right-color: var(--fill-color);\n",
              "    }\n",
              "    80% {\n",
              "      border-color: transparent;\n",
              "      border-right-color: var(--fill-color);\n",
              "      border-bottom-color: var(--fill-color);\n",
              "    }\n",
              "    90% {\n",
              "      border-color: transparent;\n",
              "      border-bottom-color: var(--fill-color);\n",
              "    }\n",
              "  }\n",
              "</style>\n",
              "\n",
              "      <script>\n",
              "        async function quickchart(key) {\n",
              "          const quickchartButtonEl =\n",
              "            document.querySelector('#' + key + ' button');\n",
              "          quickchartButtonEl.disabled = true;  // To prevent multiple clicks.\n",
              "          quickchartButtonEl.classList.add('colab-df-spinner');\n",
              "          try {\n",
              "            const charts = await google.colab.kernel.invokeFunction(\n",
              "                'suggestCharts', [key], {});\n",
              "          } catch (error) {\n",
              "            console.error('Error during call to suggestCharts:', error);\n",
              "          }\n",
              "          quickchartButtonEl.classList.remove('colab-df-spinner');\n",
              "          quickchartButtonEl.classList.add('colab-df-quickchart-complete');\n",
              "        }\n",
              "        (() => {\n",
              "          let quickchartButtonEl =\n",
              "            document.querySelector('#df-80e00ee5-1e7c-493f-8fd5-ce825a86b1fd button');\n",
              "          quickchartButtonEl.style.display =\n",
              "            google.colab.kernel.accessAllowed ? 'block' : 'none';\n",
              "        })();\n",
              "      </script>\n",
              "    </div>\n",
              "    </div>\n",
              "  </div>\n"
            ],
            "text/plain": [
              "            Survived    Pclass       Sex       Age      Fare  FamilySize\n",
              "Survived    1.000000 -0.338481  0.543351 -0.111891  0.257307    0.016639\n",
              "Pclass     -0.338481  1.000000 -0.131900 -0.357595 -0.549500    0.065997\n",
              "Sex         0.543351 -0.131900  1.000000 -0.132805  0.182333    0.200988\n",
              "Age        -0.111891 -0.357595 -0.132805  1.000000  0.091416   -0.227301\n",
              "Fare        0.257307 -0.549500  0.182333  0.091416  1.000000    0.217138\n",
              "FamilySize  0.016639  0.065997  0.200988 -0.227301  0.217138    1.000000"
            ]
          },
          "execution_count": 17,
          "metadata": {},
          "output_type": "execute_result"
        }
      ],
      "source": [
        "df.corr()"
      ]
    },
    {
      "cell_type": "markdown",
      "id": "kexJBNA7GIpo",
      "metadata": {
        "id": "kexJBNA7GIpo"
      },
      "source": [
        "Удалим колонку Family Size, чтобы не загрязнять данные."
      ]
    },
    {
      "cell_type": "code",
      "execution_count": 14,
      "id": "de48fbb6",
      "metadata": {
        "id": "de48fbb6"
      },
      "outputs": [],
      "source": [
        "df = df.drop('FamilySize', axis=1)"
      ]
    },
    {
      "cell_type": "markdown",
      "id": "9273b743",
      "metadata": {
        "id": "9273b743"
      },
      "source": [
        "### Feature Engineering\n"
      ]
    },
    {
      "cell_type": "markdown",
      "id": "36ddf55d",
      "metadata": {
        "id": "36ddf55d"
      },
      "source": [
        "Добавим новые признаки для улучшения модели:"
      ]
    },
    {
      "cell_type": "code",
      "execution_count": 15,
      "id": "358f5332",
      "metadata": {
        "id": "358f5332"
      },
      "outputs": [],
      "source": [
        "# Возрастные группы\n",
        "df['AgeGroup'] = pd.cut(df['Age'], bins=[0, 12, 18, 25, 40, 60, 100],\n",
        "                        labels=['Child', 'Teen', 'Young Adult', 'Adult', 'Middle-aged', 'Senior'])\n",
        "\n",
        "# Категории стоимости\n",
        "df['FareCategory'] = pd.qcut(df['Fare'], 4, labels=['Low', 'Medium', 'High', 'Very High'])"
      ]
    },
    {
      "cell_type": "markdown",
      "id": "353e0562",
      "metadata": {
        "id": "353e0562"
      },
      "source": [
        "Корреляция новых признаков с таргетом"
      ]
    },
    {
      "cell_type": "markdown",
      "id": "jAUJ-1x-Jy8j",
      "metadata": {
        "id": "jAUJ-1x-Jy8j"
      },
      "source": [
        "Возрастные группы. Дети (Child) имеют самый высокий уровень выживаемости (≈58%),\n",
        "тогда как пожилые (Senior) - самый низкий (≈23%)."
      ]
    },
    {
      "cell_type": "code",
      "execution_count": 16,
      "id": "0927f10f",
      "metadata": {
        "colab": {
          "base_uri": "https://localhost:8080/",
          "height": 564
        },
        "id": "0927f10f",
        "outputId": "e4385381-beef-4a23-b791-939e1a830fbb"
      },
      "outputs": [
        {
          "data": {
            "image/png": "[encoded data removed]",
            "text/plain": [
              "<Figure size 1000x600 with 1 Axes>"
            ]
          },
          "metadata": {},
          "output_type": "display_data"
        }
      ],
      "source": [
        "plt.figure(figsize=(10, 6))\n",
        "sns.barplot(x='AgeGroup', y='Survived', data=df, order=['Child', 'Teen', 'Young Adult', 'Adult', 'Middle-aged', 'Senior'])\n",
        "plt.title('Выживаемость по возрастным группам')\n",
        "plt.show()"
      ]
    },
    {
      "cell_type": "markdown",
      "id": "f4f8c9f6",
      "metadata": {
        "id": "f4f8c9f6"
      },
      "source": [
        "Категории стоимости билета. Пассажиры с билетами категории \"Very High\" выживали в ≈58% случаев, тогда как в категории \"Low\" — только ≈20%. Стоимость билета сильно коррелирует с выживаемостью."
      ]
    },
    {
      "cell_type": "code",
      "execution_count": 17,
      "id": "3f5043f5",
      "metadata": {
        "colab": {
          "base_uri": "https://localhost:8080/",
          "height": 564
        },
        "id": "3f5043f5",
        "outputId": "c244fe90-caa9-4b6f-e795-351895746f7a"
      },
      "outputs": [
        {
          "data": {
            "image/png": "[encoded data removed]",
            "text/plain": [
              "<Figure size 1000x600 with 1 Axes>"
            ]
          },
          "metadata": {},
          "output_type": "display_data"
        }
      ],
      "source": [
        "plt.figure(figsize=(10, 6))\n",
        "sns.barplot(x='FareCategory', y='Survived', data=df, order=['Low', 'Medium', 'High', 'Very High'])\n",
        "plt.title('Выживаемость по категориям стоимости билета')\n",
        "plt.show()"
      ]
    },
    {
      "cell_type": "markdown",
      "id": "5C5OaVlWKd4A",
      "metadata": {
        "id": "5C5OaVlWKd4A"
      },
      "source": [
        "Переведем категориальные параметры в числовые:"
      ]
    },
    {
      "cell_type": "code",
      "execution_count": 20,
      "id": "MDiVlF3uKdPp",
      "metadata": {
        "id": "MDiVlF3uKdPp"
      },
      "outputs": [],
      "source": [
        "age_order = ['Child', 'Teen', 'Young Adult', 'Adult', 'Middle-aged', 'Senior']\n",
        "df['AgeGroup'] = df['AgeGroup'].apply(lambda x: age_order.index(x) if pd.notnull(x) else -1)\n",
        "\n",
        "fare_order = ['Low', 'Medium', 'High', 'Very High']\n",
        "df['FareCategory'] = df['FareCategory'].apply(lambda x: fare_order.index(x) if pd.notnull(x) else -1)"
      ]
    },
    {
      "cell_type": "markdown",
      "id": "-ShK3k8FKekg",
      "metadata": {
        "id": "-ShK3k8FKekg"
      },
      "source": [
        "Построим новый график корреляции. Видим более высокую корреляцию AgeGroup, по сравнению с Age, а также более высокую корреляцию FateCategory по сравнению с Fare."
      ]
    },
    {
      "cell_type": "code",
      "execution_count": null,
      "id": "OzFi6yO6KeRd",
      "metadata": {
        "colab": {
          "base_uri": "https://localhost:8080/",
          "height": 269
        },
        "id": "OzFi6yO6KeRd",
        "outputId": "d0b0d0de-a0d0-4024-8539-280158bf5284"
      },
      "outputs": [
        {
          "data": {
            "application/vnd.google.colaboratory.intrinsic+json": {
              "summary": "{\n  \"name\": \"df\",\n  \"rows\": 7,\n  \"fields\": [\n    {\n      \"column\": \"Survived\",\n      \"properties\": {\n        \"dtype\": \"number\",\n        \"std\": 0.45800422299222643,\n        \"min\": -0.33848103596101514,\n        \"max\": 1.0,\n        \"num_unique_values\": 7,\n        \"samples\": [\n          1.0,\n          -0.33848103596101514,\n          -0.1204788707336459\n        ],\n        \"semantic_type\": \"\",\n        \"description\": \"\"\n      }\n    },\n    {\n      \"column\": \"Pclass\",\n      \"properties\": {\n        \"dtype\": \"number\",\n        \"std\": 0.5487977282222445,\n        \"min\": -0.6342708343320179,\n        \"max\": 1.0,\n        \"num_unique_values\": 7,\n        \"samples\": [\n          -0.33848103596101514,\n          1.0,\n          -0.29453425040804165\n        ],\n        \"semantic_type\": \"\",\n        \"description\": \"\"\n      }\n    },\n    {\n      \"column\": \"Sex\",\n      \"properties\": {\n        \"dtype\": \"number\",\n        \"std\": 0.42804820185858744,\n        \"min\": -0.14898318840081162,\n        \"max\": 1.0,\n        \"num_unique_values\": 7,\n        \"samples\": [\n          0.5433513806577549,\n          -0.13190049060473927,\n          -0.14898318840081162\n        ],\n        \"semantic_type\": \"\",\n        \"description\": \"\"\n      }\n    },\n    {\n      \"column\": \"Age\",\n      \"properties\": {\n        \"dtype\": \"number\",\n        \"std\": 0.5359317063149993,\n        \"min\": -0.35759450883546595,\n        \"max\": 1.0,\n        \"num_unique_values\": 7,\n        \"samples\": [\n          -0.11189103310425347,\n          -0.35759450883546595,\n          0.9369658246714696\n        ],\n        \"semantic_type\": \"\",\n        \"description\": \"\"\n      }\n    },\n    {\n      \"column\": \"Fare\",\n      \"properties\": {\n        \"dtype\": \"number\",\n        \"std\": 0.4787493782291506,\n        \"min\": -0.5494996199439076,\n        \"max\": 1.0,\n        \"num_unique_values\": 7,\n        \"samples\": [\n          0.2573065223849626,\n          -0.5494996199439076,\n          0.05556671933334795\n        ],\n        \"semantic_type\": \"\",\n        \"description\": \"\"\n      }\n    },\n    {\n      \"column\": \"AgeGroup\",\n      \"properties\": {\n        \"dtype\": \"number\",\n        \"std\": 0.5334090900878308,\n        \"min\": -0.29453425040804165,\n        \"max\": 1.0,\n        \"num_unique_values\": 7,\n        \"samples\": [\n          -0.1204788707336459,\n          -0.29453425040804165,\n          1.0\n        ],\n        \"semantic_type\": \"\",\n        \"description\": \"\"\n      }\n    },\n    {\n      \"column\": \"FareCategory\",\n      \"properties\": {\n        \"dtype\": \"number\",\n        \"std\": 0.5053227315905778,\n        \"min\": -0.6342708343320179,\n        \"max\": 1.0,\n        \"num_unique_values\": 7,\n        \"samples\": [\n          0.29935682498089855,\n          -0.6342708343320179,\n          0.014588236308656471\n        ],\n        \"semantic_type\": \"\",\n        \"description\": \"\"\n      }\n    }\n  ]\n}",
              "type": "dataframe"
            },
            "text/html": [
              "\n",
              "  <div id=\"df-bcb7d445-0c59-446f-b92c-93bdaa6858b1\" class=\"colab-df-container\">\n",
              "    <div>\n",
              "<style scoped>\n",
              "    .dataframe tbody tr th:only-of-type {\n",
              "        vertical-align: middle;\n",
              "    }\n",
              "\n",
              "    .dataframe tbody tr th {\n",
              "        vertical-align: top;\n",
              "    }\n",
              "\n",
              "    .dataframe thead th {\n",
              "        text-align: right;\n",
              "    }\n",
              "</style>\n",
              "<table border=\"1\" class=\"dataframe\">\n",
              "  <thead>\n",
              "    <tr style=\"text-align: right;\">\n",
              "      <th></th>\n",
              "      <th>Survived</th>\n",
              "      <th>Pclass</th>\n",
              "      <th>Sex</th>\n",
              "      <th>Age</th>\n",
              "      <th>Fare</th>\n",
              "      <th>AgeGroup</th>\n",
              "      <th>FareCategory</th>\n",
              "    </tr>\n",
              "  </thead>\n",
              "  <tbody>\n",
              "    <tr>\n",
              "      <th>Survived</th>\n",
              "      <td>1.000000</td>\n",
              "      <td>-0.338481</td>\n",
              "      <td>0.543351</td>\n",
              "      <td>-0.111891</td>\n",
              "      <td>0.257307</td>\n",
              "      <td>-0.120479</td>\n",
              "      <td>0.299357</td>\n",
              "    </tr>\n",
              "    <tr>\n",
              "      <th>Pclass</th>\n",
              "      <td>-0.338481</td>\n",
              "      <td>1.000000</td>\n",
              "      <td>-0.131900</td>\n",
              "      <td>-0.357595</td>\n",
              "      <td>-0.549500</td>\n",
              "      <td>-0.294534</td>\n",
              "      <td>-0.634271</td>\n",
              "    </tr>\n",
              "    <tr>\n",
              "      <th>Sex</th>\n",
              "      <td>0.543351</td>\n",
              "      <td>-0.131900</td>\n",
              "      <td>1.000000</td>\n",
              "      <td>-0.132805</td>\n",
              "      <td>0.182333</td>\n",
              "      <td>-0.148983</td>\n",
              "      <td>0.243613</td>\n",
              "    </tr>\n",
              "    <tr>\n",
              "      <th>Age</th>\n",
              "      <td>-0.111891</td>\n",
              "      <td>-0.357595</td>\n",
              "      <td>-0.132805</td>\n",
              "      <td>1.000000</td>\n",
              "      <td>0.091416</td>\n",
              "      <td>0.936966</td>\n",
              "      <td>0.092766</td>\n",
              "    </tr>\n",
              "    <tr>\n",
              "      <th>Fare</th>\n",
              "      <td>0.257307</td>\n",
              "      <td>-0.549500</td>\n",
              "      <td>0.182333</td>\n",
              "      <td>0.091416</td>\n",
              "      <td>1.000000</td>\n",
              "      <td>0.055567</td>\n",
              "      <td>0.579345</td>\n",
              "    </tr>\n",
              "    <tr>\n",
              "      <th>AgeGroup</th>\n",
              "      <td>-0.120479</td>\n",
              "      <td>-0.294534</td>\n",
              "      <td>-0.148983</td>\n",
              "      <td>0.936966</td>\n",
              "      <td>0.055567</td>\n",
              "      <td>1.000000</td>\n",
              "      <td>0.014588</td>\n",
              "    </tr>\n",
              "    <tr>\n",
              "      <th>FareCategory</th>\n",
              "      <td>0.299357</td>\n",
              "      <td>-0.634271</td>\n",
              "      <td>0.243613</td>\n",
              "      <td>0.092766</td>\n",
              "      <td>0.579345</td>\n",
              "      <td>0.014588</td>\n",
              "      <td>1.000000</td>\n",
              "    </tr>\n",
              "  </tbody>\n",
              "</table>\n",
              "</div>\n",
              "    <div class=\"colab-df-buttons\">\n",
              "\n",
              "  <div class=\"colab-df-container\">\n",
              "    <button class=\"colab-df-convert\" onclick=\"convertToInteractive('df-bcb7d445-0c59-446f-b92c-93bdaa6858b1')\"\n",
              "            title=\"Convert this dataframe to an interactive table.\"\n",
              "            style=\"display:none;\">\n",
              "\n",
              "  <svg xmlns=\"http://www.w3.org/2000/svg\" height=\"24px\" viewBox=\"0 -960 960 960\">\n",
              "    <path d=\"M120-120v-720h720v720H120Zm60-500h600v-160H180v160Zm220 220h160v-160H400v160Zm0 220h160v-160H400v160ZM180-400h160v-160H180v160Zm440 0h160v-160H620v160ZM180-180h160v-160H180v160Zm440 0h160v-160H620v160Z\"/>\n",
              "  </svg>\n",
              "    </button>\n",
              "\n",
              "  <style>\n",
              "    .colab-df-container {\n",
              "      display:flex;\n",
              "      gap: 12px;\n",
              "    }\n",
              "\n",
              "    .colab-df-convert {\n",
              "      background-color: #E8F0FE;\n",
              "      border: none;\n",
              "      border-radius: 50%;\n",
              "      cursor: pointer;\n",
              "      display: none;\n",
              "      fill: #1967D2;\n",
              "      height: 32px;\n",
              "      padding: 0 0 0 0;\n",
              "      width: 32px;\n",
              "    }\n",
              "\n",
              "    .colab-df-convert:hover {\n",
              "      background-color: #E2EBFA;\n",
              "      box-shadow: 0px 1px 2px rgba(60, 64, 67, 0.3), 0px 1px 3px 1px rgba(60, 64, 67, 0.15);\n",
              "      fill: #174EA6;\n",
              "    }\n",
              "\n",
              "    .colab-df-buttons div {\n",
              "      margin-bottom: 4px;\n",
              "    }\n",
              "\n",
              "    [theme=dark] .colab-df-convert {\n",
              "      background-color: #3B4455;\n",
              "      fill: #D2E3FC;\n",
              "    }\n",
              "\n",
              "    [theme=dark] .colab-df-convert:hover {\n",
              "      background-color: #434B5C;\n",
              "      box-shadow: 0px 1px 3px 1px rgba(0, 0, 0, 0.15);\n",
              "      filter: drop-shadow(0px 1px 2px rgba(0, 0, 0, 0.3));\n",
              "      fill: #FFFFFF;\n",
              "    }\n",
              "  </style>\n",
              "\n",
              "    <script>\n",
              "      const buttonEl =\n",
              "        document.querySelector('#df-bcb7d445-0c59-446f-b92c-93bdaa6858b1 button.colab-df-convert');\n",
              "      buttonEl.style.display =\n",
              "        google.colab.kernel.accessAllowed ? 'block' : 'none';\n",
              "\n",
              "      async function convertToInteractive(key) {\n",
              "        const element = document.querySelector('#df-bcb7d445-0c59-446f-b92c-93bdaa6858b1');\n",
              "        const dataTable =\n",
              "          await google.colab.kernel.invokeFunction('convertToInteractive',\n",
              "                                                    [key], {});\n",
              "        if (!dataTable) return;\n",
              "\n",
              "        const docLinkHtml = 'Like what you see? Visit the ' +\n",
              "          '<a target=\"_blank\" href=https://colab.research.google.com/notebooks/data_table.ipynb>data table notebook</a>'\n",
              "          + ' to learn more about interactive tables.';\n",
              "        element.innerHTML = '';\n",
              "        dataTable['output_type'] = 'display_data';\n",
              "        await google.colab.output.renderOutput(dataTable, element);\n",
              "        const docLink = document.createElement('div');\n",
              "        docLink.innerHTML = docLinkHtml;\n",
              "        element.appendChild(docLink);\n",
              "      }\n",
              "    </script>\n",
              "  </div>\n",
              "\n",
              "\n",
              "    <div id=\"df-cb6352bb-f001-430c-a2e1-0e87133412d2\">\n",
              "      <button class=\"colab-df-quickchart\" onclick=\"quickchart('df-cb6352bb-f001-430c-a2e1-0e87133412d2')\"\n",
              "                title=\"Suggest charts\"\n",
              "                style=\"display:none;\">\n",
              "\n",
              "<svg xmlns=\"http://www.w3.org/2000/svg\" height=\"24px\"viewBox=\"0 0 24 24\"\n",
              "     width=\"24px\">\n",
              "    <g>\n",
              "        <path d=\"M19 3H5c-1.1 0-2 .9-2 2v14c0 1.1.9 2 2 2h14c1.1 0 2-.9 2-2V5c0-1.1-.9-2-2-2zM9 17H7v-7h2v7zm4 0h-2V7h2v10zm4 0h-2v-4h2v4z\"/>\n",
              "    </g>\n",
              "</svg>\n",
              "      </button>\n",
              "\n",
              "<style>\n",
              "  .colab-df-quickchart {\n",
              "      --bg-color: #E8F0FE;\n",
              "      --fill-color: #1967D2;\n",
              "      --hover-bg-color: #E2EBFA;\n",
              "      --hover-fill-color: #174EA6;\n",
              "      --disabled-fill-color: #AAA;\n",
              "      --disabled-bg-color: #DDD;\n",
              "  }\n",
              "\n",
              "  [theme=dark] .colab-df-quickchart {\n",
              "      --bg-color: #3B4455;\n",
              "      --fill-color: #D2E3FC;\n",
              "      --hover-bg-color: #434B5C;\n",
              "      --hover-fill-color: #FFFFFF;\n",
              "      --disabled-bg-color: #3B4455;\n",
              "      --disabled-fill-color: #666;\n",
              "  }\n",
              "\n",
              "  .colab-df-quickchart {\n",
              "    background-color: var(--bg-color);\n",
              "    border: none;\n",
              "    border-radius: 50%;\n",
              "    cursor: pointer;\n",
              "    display: none;\n",
              "    fill: var(--fill-color);\n",
              "    height: 32px;\n",
              "    padding: 0;\n",
              "    width: 32px;\n",
              "  }\n",
              "\n",
              "  .colab-df-quickchart:hover {\n",
              "    background-color: var(--hover-bg-color);\n",
              "    box-shadow: 0 1px 2px rgba(60, 64, 67, 0.3), 0 1px 3px 1px rgba(60, 64, 67, 0.15);\n",
              "    fill: var(--button-hover-fill-color);\n",
              "  }\n",
              "\n",
              "  .colab-df-quickchart-complete:disabled,\n",
              "  .colab-df-quickchart-complete:disabled:hover {\n",
              "    background-color: var(--disabled-bg-color);\n",
              "    fill: var(--disabled-fill-color);\n",
              "    box-shadow: none;\n",
              "  }\n",
              "\n",
              "  .colab-df-spinner {\n",
              "    border: 2px solid var(--fill-color);\n",
              "    border-color: transparent;\n",
              "    border-bottom-color: var(--fill-color);\n",
              "    animation:\n",
              "      spin 1s steps(1) infinite;\n",
              "  }\n",
              "\n",
              "  @keyframes spin {\n",
              "    0% {\n",
              "      border-color: transparent;\n",
              "      border-bottom-color: var(--fill-color);\n",
              "      border-left-color: var(--fill-color);\n",
              "    }\n",
              "    20% {\n",
              "      border-color: transparent;\n",
              "      border-left-color: var(--fill-color);\n",
              "      border-top-color: var(--fill-color);\n",
              "    }\n",
              "    30% {\n",
              "      border-color: transparent;\n",
              "      border-left-color: var(--fill-color);\n",
              "      border-top-color: var(--fill-color);\n",
              "      border-right-color: var(--fill-color);\n",
              "    }\n",
              "    40% {\n",
              "      border-color: transparent;\n",
              "      border-right-color: var(--fill-color);\n",
              "      border-top-color: var(--fill-color);\n",
              "    }\n",
              "    60% {\n",
              "      border-color: transparent;\n",
              "      border-right-color: var(--fill-color);\n",
              "    }\n",
              "    80% {\n",
              "      border-color: transparent;\n",
              "      border-right-color: var(--fill-color);\n",
              "      border-bottom-color: var(--fill-color);\n",
              "    }\n",
              "    90% {\n",
              "      border-color: transparent;\n",
              "      border-bottom-color: var(--fill-color);\n",
              "    }\n",
              "  }\n",
              "</style>\n",
              "\n",
              "      <script>\n",
              "        async function quickchart(key) {\n",
              "          const quickchartButtonEl =\n",
              "            document.querySelector('#' + key + ' button');\n",
              "          quickchartButtonEl.disabled = true;  // To prevent multiple clicks.\n",
              "          quickchartButtonEl.classList.add('colab-df-spinner');\n",
              "          try {\n",
              "            const charts = await google.colab.kernel.invokeFunction(\n",
              "                'suggestCharts', [key], {});\n",
              "          } catch (error) {\n",
              "            console.error('Error during call to suggestCharts:', error);\n",
              "          }\n",
              "          quickchartButtonEl.classList.remove('colab-df-spinner');\n",
              "          quickchartButtonEl.classList.add('colab-df-quickchart-complete');\n",
              "        }\n",
              "        (() => {\n",
              "          let quickchartButtonEl =\n",
              "            document.querySelector('#df-cb6352bb-f001-430c-a2e1-0e87133412d2 button');\n",
              "          quickchartButtonEl.style.display =\n",
              "            google.colab.kernel.accessAllowed ? 'block' : 'none';\n",
              "        })();\n",
              "      </script>\n",
              "    </div>\n",
              "    </div>\n",
              "  </div>\n"
            ],
            "text/plain": [
              "              Survived    Pclass       Sex       Age      Fare  AgeGroup  \\\n",
              "Survived      1.000000 -0.338481  0.543351 -0.111891  0.257307 -0.120479   \n",
              "Pclass       -0.338481  1.000000 -0.131900 -0.357595 -0.549500 -0.294534   \n",
              "Sex           0.543351 -0.131900  1.000000 -0.132805  0.182333 -0.148983   \n",
              "Age          -0.111891 -0.357595 -0.132805  1.000000  0.091416  0.936966   \n",
              "Fare          0.257307 -0.549500  0.182333  0.091416  1.000000  0.055567   \n",
              "AgeGroup     -0.120479 -0.294534 -0.148983  0.936966  0.055567  1.000000   \n",
              "FareCategory  0.299357 -0.634271  0.243613  0.092766  0.579345  0.014588   \n",
              "\n",
              "              FareCategory  \n",
              "Survived          0.299357  \n",
              "Pclass           -0.634271  \n",
              "Sex               0.243613  \n",
              "Age               0.092766  \n",
              "Fare              0.579345  \n",
              "AgeGroup          0.014588  \n",
              "FareCategory      1.000000  "
            ]
          },
          "execution_count": 23,
          "metadata": {},
          "output_type": "execute_result"
        }
      ],
      "source": [
        "df.corr()"
      ]
    },
    {
      "cell_type": "markdown",
      "id": "vkS6RbsFMwWP",
      "metadata": {
        "id": "vkS6RbsFMwWP"
      },
      "source": [
        "Удалим Age и Fare из-за высокой корреляции с новыми параметрами."
      ]
    },
    {
      "cell_type": "code",
      "execution_count": 21,
      "id": "FJ2ZDx4KMwrI",
      "metadata": {
        "id": "FJ2ZDx4KMwrI"
      },
      "outputs": [],
      "source": [
        "df = df.drop('Age', axis=1)\n",
        "df = df.drop('Fare', axis=1)"
      ]
    },
    {
      "cell_type": "markdown",
      "id": "8dbc1309",
      "metadata": {
        "id": "8dbc1309"
      },
      "source": [
        "# Feature Importances"
      ]
    },
    {
      "cell_type": "code",
      "execution_count": 22,
      "id": "f3ed5135",
      "metadata": {
        "colab": {
          "base_uri": "https://localhost:8080/",
          "height": 564
        },
        "id": "f3ed5135",
        "outputId": "6496c78c-5aca-4e77-ab84-818f47b1dc52"
      },
      "outputs": [
        {
          "data": {
            "image/png": "[encoded data removed]",
            "text/plain": [
              "<Figure size 1000x600 with 1 Axes>"
            ]
          },
          "metadata": {},
          "output_type": "display_data"
        }
      ],
      "source": [
        "from sklearn.ensemble import RandomForestClassifier\n",
        "\n",
        "# Подготовка данных\n",
        "X = df.drop('Survived', axis=1)\n",
        "y = df['Survived']\n",
        "\n",
        "# Обучение модели\n",
        "model = RandomForestClassifier(n_estimators=100, random_state=42)\n",
        "model.fit(X, y)\n",
        "\n",
        "# Визуализация важности признаков\n",
        "plt.figure(figsize=(10, 6))\n",
        "plt.barh(X.columns, model.feature_importances_)\n",
        "plt.title('Важность признаков (RandomForest)')\n",
        "plt.xlabel('Значимость')\n",
        "plt.ylabel('Признак')\n",
        "plt.show()"
      ]
    },
    {
      "cell_type": "code",
      "execution_count": 23,
      "id": "fdba0eed",
      "metadata": {},
      "outputs": [],
      "source": [
        "# Удаляем категориальный тип перед преобразованием\n",
        "df['AgeGroup'] = df['AgeGroup'].astype('object')\n",
        "df['FareCategory'] = df['FareCategory'].astype('object')\n",
        "\n",
        "# Явное преобразование в целочисленный тип\n",
        "df['AgeGroup'] = df['AgeGroup'].astype('int64')\n",
        "df['FareCategory'] = df['FareCategory'].astype('int64')\n"
      ]
    },
    {
      "cell_type": "markdown",
      "id": "7c55d08d",
      "metadata": {
        "id": "7c55d08d"
      },
      "source": [
        "# Простые модели"
      ]
    },
    {
      "cell_type": "code",
      "execution_count": 24,
      "id": "7mSs8DP7Sj21",
      "metadata": {
        "id": "7mSs8DP7Sj21"
      },
      "outputs": [],
      "source": [
        "import tensorflow as tf\n",
        "from tensorflow import keras\n",
        "from tensorflow.keras import layers\n",
        "import pandas as pd\n",
        "from sklearn.model_selection import train_test_split\n",
        "from sklearn.metrics import f1_score, roc_auc_score\n",
        "from sklearn.model_selection import GridSearchCV\n",
        "from sklearn.pipeline import Pipeline"
      ]
    },
    {
      "cell_type": "code",
      "execution_count": 113,
      "id": "e6CauckSUXk8",
      "metadata": {
        "id": "e6CauckSUXk8"
      },
      "outputs": [],
      "source": [
        "X = df.drop('Survived', axis=1)\n",
        "y = df['Survived']\n",
        "\n",
        "X_train, X_test, y_train, y_test = train_test_split(\n",
        "    X, y, test_size=0.15, random_state=42\n",
        ")"
      ]
    },
    {
      "cell_type": "markdown",
      "id": "21d9d926",
      "metadata": {
        "id": "21d9d926"
      },
      "source": [
        "Логистическая регрессия"
      ]
    },
    {
      "cell_type": "code",
      "execution_count": 95,
      "id": "dd17e186",
      "metadata": {
        "colab": {
          "base_uri": "https://localhost:8080/"
        },
        "id": "dd17e186",
        "outputId": "dc44bdc4-a9f3-4207-a511-98df2ed4586f"
      },
      "outputs": [
        {
          "name": "stdout",
          "output_type": "stream",
          "text": [
            "Линейная модель (логистическая регрессия):\n",
            "F1-мера: 0.7920792079207921\n"
          ]
        }
      ],
      "source": [
        "from sklearn.linear_model import LogisticRegression\n",
        "from sklearn.metrics import f1_score\n",
        "\n",
        "logreg_params = {'C': [0.01, 0.1, 1], 'penalty': ['l2']}\n",
        "logreg_grid = GridSearchCV(LogisticRegression(random_state=52, max_iter=1000), logreg_params, cv=5)\n",
        "logreg_grid.fit(X_train, y_train)\n",
        "linear_model = logreg_grid.best_estimator_\n",
        "\n",
        "y_pred_linear = linear_model.predict(X_test)\n",
        "print(\"Линейная модель (логистическая регрессия):\")\n",
        "print(\"F1-мера:\", f1_score(y_test, y_pred_linear))"
      ]
    },
    {
      "cell_type": "markdown",
      "id": "8b32e0b4",
      "metadata": {
        "id": "8b32e0b4"
      },
      "source": [
        "Ridge-классификация"
      ]
    },
    {
      "cell_type": "code",
      "execution_count": 96,
      "id": "94a19e19",
      "metadata": {
        "colab": {
          "base_uri": "https://localhost:8080/"
        },
        "id": "94a19e19",
        "outputId": "c86cb576-602a-410f-86b6-5e4bd82a4772"
      },
      "outputs": [
        {
          "name": "stdout",
          "output_type": "stream",
          "text": [
            "\n",
            "Линейная модель (Ridge):\n",
            "F1-мера: 0.7547169811320755\n"
          ]
        }
      ],
      "source": [
        "from sklearn.linear_model import RidgeClassifier\n",
        "\n",
        "ridge_model = RidgeClassifier(random_state=52)\n",
        "ridge_model.fit(X_train, y_train)\n",
        "\n",
        "y_pred_ridge = ridge_model.predict(X_test)\n",
        "print(\"\\nЛинейная модель (Ridge):\")\n",
        "print(\"F1-мера:\", f1_score(y_test, y_pred_ridge))"
      ]
    },
    {
      "cell_type": "markdown",
      "id": "6bca4ffd",
      "metadata": {
        "id": "6bca4ffd"
      },
      "source": [
        "с SGD-обучением"
      ]
    },
    {
      "cell_type": "code",
      "execution_count": 38,
      "id": "6a3cc63b",
      "metadata": {
        "colab": {
          "base_uri": "https://localhost:8080/"
        },
        "id": "6a3cc63b",
        "outputId": "15dc03f0-7a9a-4016-eb4b-bb39682b6c36"
      },
      "outputs": [
        {
          "name": "stdout",
          "output_type": "stream",
          "text": [
            "\n",
            "Линейная модель (SGD):\n",
            "F1-мера: 0.5128205128205128\n"
          ]
        }
      ],
      "source": [
        "from sklearn.linear_model import SGDClassifier\n",
        "\n",
        "sgd_model = SGDClassifier(loss='log_loss', random_state=52)\n",
        "sgd_model.fit(X_train, y_train)\n",
        "\n",
        "y_pred_sgd = sgd_model.predict(X_test)\n",
        "print(\"\\nЛинейная модель (SGD):\")\n",
        "print(\"F1-мера:\", f1_score(y_test, y_pred_sgd))"
      ]
    },
    {
      "cell_type": "markdown",
      "id": "fa219e9e",
      "metadata": {
        "id": "fa219e9e"
      },
      "source": [
        "# Построение сложных моделей\n"
      ]
    },
    {
      "cell_type": "code",
      "execution_count": 26,
      "id": "063aff42",
      "metadata": {
        "id": "063aff42"
      },
      "outputs": [],
      "source": [
        "def get_metrix_of_model(model, epochs, name, X_train, y_train, X_test, y_test, verbose=1):\n",
        "    \"\"\"\n",
        "    Обучает модель и возвращает F1-score и ROC-AUC\n",
        "\n",
        "    Параметры:\n",
        "    model - модель Keras\n",
        "    epochs - количество эпох обучения\n",
        "    name - название модели (для вывода)\n",
        "    X_train, y_train - данные для обучения\n",
        "    X_test, y_test - данные для тестирования\n",
        "    verbose - уровень детализации (0 - без вывода, 1 - с выводом)\n",
        "    \"\"\"\n",
        "    # Компиляция модели\n",
        "    model.compile(\n",
        "        optimizer='adam',\n",
        "        loss='binary_crossentropy',\n",
        "        metrics=['accuracy']\n",
        "    )\n",
        "\n",
        "    # Обучение модели\n",
        "    model.fit(\n",
        "        X_train, y_train,\n",
        "        epochs=epochs,\n",
        "        validation_data=(X_test, y_test),\n",
        "        verbose=verbose\n",
        "    )\n",
        "\n",
        "    # Предсказания\n",
        "    y_pred = (model.predict(X_test) > 0.5).astype(int)\n",
        "    y_proba = model.predict(X_test)\n",
        "\n",
        "    # Расчёт метрик\n",
        "    f1 = f1_score(y_test, y_pred)\n",
        "    roc_auc = roc_auc_score(y_test, y_proba)\n",
        "\n",
        "    # Вывод результатов\n",
        "    if verbose:\n",
        "        print(f'\\nМодель: {name}')\n",
        "        print(f'F1-score: {f1:.4f}')\n",
        "        print(f'ROC-AUC: {roc_auc:.4f}')\n",
        "\n",
        "    return {\n",
        "        'f1_score': f1,\n",
        "        'roc_auc': roc_auc\n",
        "    }"
      ]
    },
    {
      "cell_type": "markdown",
      "id": "0121c84b",
      "metadata": {
        "id": "0121c84b"
      },
      "source": [
        "Простая полносвязная сеть"
      ]
    },
    {
      "cell_type": "code",
      "execution_count": 97,
      "id": "89dcfdb2",
      "metadata": {
        "colab": {
          "base_uri": "https://localhost:8080/",
          "height": 376
        },
        "id": "89dcfdb2",
        "outputId": "d5c7d836-bf95-492a-a14f-4ea7c577f05f"
      },
      "outputs": [
        {
          "name": "stdout",
          "output_type": "stream",
          "text": [
            "Epoch 1/10\n"
          ]
        },
        {
          "name": "stderr",
          "output_type": "stream",
          "text": [
            "C:\\Users\\chern\\AppData\\Local\\Packages\\PythonSoftwareFoundation.Python.3.11_qbz5n2kfra8p0\\LocalCache\\local-packages\\Python311\\site-packages\\keras\\src\\layers\\core\\dense.py:87: UserWarning: Do not pass an `input_shape`/`input_dim` argument to a layer. When using Sequential models, prefer using an `Input(shape)` object as the first layer in the model instead.\n",
            "  super().__init__(activity_regularizer=activity_regularizer, **kwargs)\n"
          ]
        },
        {
          "name": "stdout",
          "output_type": "stream",
          "text": [
            "\u001b[1m24/24\u001b[0m \u001b[32m━━━━━━━━━━━━━━━━━━━━\u001b[0m\u001b[37m\u001b[0m \u001b[1m1s\u001b[0m 6ms/step - accuracy: 0.6075 - loss: 0.6537 - val_accuracy: 0.7388 - val_loss: 0.5711\n",
            "Epoch 2/10\n",
            "\u001b[1m24/24\u001b[0m \u001b[32m━━━━━━━━━━━━━━━━━━━━\u001b[0m\u001b[37m\u001b[0m \u001b[1m0s\u001b[0m 3ms/step - accuracy: 0.7179 - loss: 0.5803 - val_accuracy: 0.7388 - val_loss: 0.5378\n",
            "Epoch 3/10\n",
            "\u001b[1m24/24\u001b[0m \u001b[32m━━━━━━━━━━━━━━━━━━━━\u001b[0m\u001b[37m\u001b[0m \u001b[1m0s\u001b[0m 2ms/step - accuracy: 0.7643 - loss: 0.5355 - val_accuracy: 0.7313 - val_loss: 0.5023\n",
            "Epoch 4/10\n",
            "\u001b[1m24/24\u001b[0m \u001b[32m━━━━━━━━━━━━━━━━━━━━\u001b[0m\u001b[37m\u001b[0m \u001b[1m0s\u001b[0m 2ms/step - accuracy: 0.7370 - loss: 0.5218 - val_accuracy: 0.7612 - val_loss: 0.4772\n",
            "Epoch 5/10\n",
            "\u001b[1m24/24\u001b[0m \u001b[32m━━━━━━━━━━━━━━━━━━━━\u001b[0m\u001b[37m\u001b[0m \u001b[1m0s\u001b[0m 2ms/step - accuracy: 0.7793 - loss: 0.4844 - val_accuracy: 0.7910 - val_loss: 0.4651\n",
            "Epoch 6/10\n",
            "\u001b[1m24/24\u001b[0m \u001b[32m━━━━━━━━━━━━━━━━━━━━\u001b[0m\u001b[37m\u001b[0m \u001b[1m0s\u001b[0m 2ms/step - accuracy: 0.7734 - loss: 0.4633 - val_accuracy: 0.8060 - val_loss: 0.4560\n",
            "Epoch 7/10\n",
            "\u001b[1m24/24\u001b[0m \u001b[32m━━━━━━━━━━━━━━━━━━━━\u001b[0m\u001b[37m\u001b[0m \u001b[1m0s\u001b[0m 2ms/step - accuracy: 0.7861 - loss: 0.4610 - val_accuracy: 0.7910 - val_loss: 0.4478\n",
            "Epoch 8/10\n",
            "\u001b[1m24/24\u001b[0m \u001b[32m━━━━━━━━━━━━━━━━━━━━\u001b[0m\u001b[37m\u001b[0m \u001b[1m0s\u001b[0m 2ms/step - accuracy: 0.7846 - loss: 0.4661 - val_accuracy: 0.8209 - val_loss: 0.4514\n",
            "Epoch 9/10\n",
            "\u001b[1m24/24\u001b[0m \u001b[32m━━━━━━━━━━━━━━━━━━━━\u001b[0m\u001b[37m\u001b[0m \u001b[1m0s\u001b[0m 2ms/step - accuracy: 0.7913 - loss: 0.4516 - val_accuracy: 0.7910 - val_loss: 0.4456\n",
            "Epoch 10/10\n",
            "\u001b[1m24/24\u001b[0m \u001b[32m━━━━━━━━━━━━━━━━━━━━\u001b[0m\u001b[37m\u001b[0m \u001b[1m0s\u001b[0m 3ms/step - accuracy: 0.7886 - loss: 0.4563 - val_accuracy: 0.7985 - val_loss: 0.4416\n",
            "\u001b[1m5/5\u001b[0m \u001b[32m━━━━━━━━━━━━━━━━━━━━\u001b[0m\u001b[37m\u001b[0m \u001b[1m0s\u001b[0m 6ms/step \n",
            "\u001b[1m5/5\u001b[0m \u001b[32m━━━━━━━━━━━━━━━━━━━━\u001b[0m\u001b[37m\u001b[0m \u001b[1m0s\u001b[0m 3ms/step \n",
            "\n",
            "Модель: Простая полносвязная сеть\n",
            "F1-score: 0.7477\n",
            "ROC-AUC: 0.8736\n"
          ]
        },
        {
          "data": {
            "text/plain": [
              "{'f1_score': 0.7476635514018691, 'roc_auc': np.float64(0.8736263736263736)}"
            ]
          },
          "execution_count": 97,
          "metadata": {},
          "output_type": "execute_result"
        }
      ],
      "source": [
        "md1 = keras.Sequential([\n",
        "    layers.Dense(64, activation='relu', input_shape=(X_train.shape[1],)),\n",
        "    layers.Dense(32, activation='relu'),\n",
        "    layers.Dense(1, activation='sigmoid')\n",
        "])\n",
        "\n",
        "get_metrix_of_model(md1, 10, \"Простая полносвязная сеть\", X_train, y_train, X_test, y_test)"
      ]
    },
    {
      "cell_type": "markdown",
      "id": "9e3b57c1",
      "metadata": {
        "id": "9e3b57c1"
      },
      "source": [
        "Сеть с дропаутом"
      ]
    },
    {
      "cell_type": "code",
      "execution_count": 98,
      "id": "09520485",
      "metadata": {
        "id": "09520485"
      },
      "outputs": [
        {
          "name": "stdout",
          "output_type": "stream",
          "text": [
            "Epoch 1/10\n"
          ]
        },
        {
          "name": "stderr",
          "output_type": "stream",
          "text": [
            "C:\\Users\\chern\\AppData\\Local\\Packages\\PythonSoftwareFoundation.Python.3.11_qbz5n2kfra8p0\\LocalCache\\local-packages\\Python311\\site-packages\\keras\\src\\layers\\core\\dense.py:87: UserWarning: Do not pass an `input_shape`/`input_dim` argument to a layer. When using Sequential models, prefer using an `Input(shape)` object as the first layer in the model instead.\n",
            "  super().__init__(activity_regularizer=activity_regularizer, **kwargs)\n"
          ]
        },
        {
          "name": "stdout",
          "output_type": "stream",
          "text": [
            "\u001b[1m24/24\u001b[0m \u001b[32m━━━━━━━━━━━━━━━━━━━━\u001b[0m\u001b[37m\u001b[0m \u001b[1m1s\u001b[0m 6ms/step - accuracy: 0.5957 - loss: 0.7351 - val_accuracy: 0.6940 - val_loss: 0.5951\n",
            "Epoch 2/10\n",
            "\u001b[1m24/24\u001b[0m \u001b[32m━━━━━━━━━━━━━━━━━━━━\u001b[0m\u001b[37m\u001b[0m \u001b[1m0s\u001b[0m 3ms/step - accuracy: 0.6613 - loss: 0.6140 - val_accuracy: 0.7388 - val_loss: 0.5565\n",
            "Epoch 3/10\n",
            "\u001b[1m24/24\u001b[0m \u001b[32m━━━━━━━━━━━━━━━━━━━━\u001b[0m\u001b[37m\u001b[0m \u001b[1m0s\u001b[0m 3ms/step - accuracy: 0.6900 - loss: 0.5783 - val_accuracy: 0.7463 - val_loss: 0.5262\n",
            "Epoch 4/10\n",
            "\u001b[1m24/24\u001b[0m \u001b[32m━━━━━━━━━━━━━━━━━━━━\u001b[0m\u001b[37m\u001b[0m \u001b[1m0s\u001b[0m 3ms/step - accuracy: 0.7372 - loss: 0.5337 - val_accuracy: 0.7388 - val_loss: 0.5061\n",
            "Epoch 5/10\n",
            "\u001b[1m24/24\u001b[0m \u001b[32m━━━━━━━━━━━━━━━━━━━━\u001b[0m\u001b[37m\u001b[0m \u001b[1m0s\u001b[0m 3ms/step - accuracy: 0.7429 - loss: 0.5127 - val_accuracy: 0.7388 - val_loss: 0.4904\n",
            "Epoch 6/10\n",
            "\u001b[1m24/24\u001b[0m \u001b[32m━━━━━━━━━━━━━━━━━━━━\u001b[0m\u001b[37m\u001b[0m \u001b[1m0s\u001b[0m 2ms/step - accuracy: 0.7531 - loss: 0.5324 - val_accuracy: 0.7761 - val_loss: 0.4725\n",
            "Epoch 7/10\n",
            "\u001b[1m24/24\u001b[0m \u001b[32m━━━━━━━━━━━━━━━━━━━━\u001b[0m\u001b[37m\u001b[0m \u001b[1m0s\u001b[0m 2ms/step - accuracy: 0.7406 - loss: 0.5013 - val_accuracy: 0.7537 - val_loss: 0.4630\n",
            "Epoch 8/10\n",
            "\u001b[1m24/24\u001b[0m \u001b[32m━━━━━━━━━━━━━━━━━━━━\u001b[0m\u001b[37m\u001b[0m \u001b[1m0s\u001b[0m 2ms/step - accuracy: 0.7578 - loss: 0.4897 - val_accuracy: 0.7537 - val_loss: 0.4571\n",
            "Epoch 9/10\n",
            "\u001b[1m24/24\u001b[0m \u001b[32m━━━━━━━━━━━━━━━━━━━━\u001b[0m\u001b[37m\u001b[0m \u001b[1m0s\u001b[0m 2ms/step - accuracy: 0.7713 - loss: 0.4641 - val_accuracy: 0.7537 - val_loss: 0.4491\n",
            "Epoch 10/10\n",
            "\u001b[1m24/24\u001b[0m \u001b[32m━━━━━━━━━━━━━━━━━━━━\u001b[0m\u001b[37m\u001b[0m \u001b[1m0s\u001b[0m 2ms/step - accuracy: 0.8010 - loss: 0.4655 - val_accuracy: 0.7612 - val_loss: 0.4466\n",
            "\u001b[1m5/5\u001b[0m \u001b[32m━━━━━━━━━━━━━━━━━━━━\u001b[0m\u001b[37m\u001b[0m \u001b[1m0s\u001b[0m 6ms/step \n",
            "\u001b[1m5/5\u001b[0m \u001b[32m━━━━━━━━━━━━━━━━━━━━\u001b[0m\u001b[37m\u001b[0m \u001b[1m0s\u001b[0m 3ms/step \n",
            "\n",
            "Модель: Сеть с дропаутом\n",
            "F1-score: 0.6735\n",
            "ROC-AUC: 0.8690\n"
          ]
        },
        {
          "data": {
            "text/plain": [
              "{'f1_score': 0.673469387755102, 'roc_auc': np.float64(0.8690476190476191)}"
            ]
          },
          "execution_count": 98,
          "metadata": {},
          "output_type": "execute_result"
        }
      ],
      "source": [
        "md2 = keras.Sequential([\n",
        "    layers.Dense(64, activation='relu', input_shape=(X_train.shape[1],)),\n",
        "    layers.Dropout(0.2),\n",
        "    layers.Dense(32, activation='relu'),\n",
        "    layers.Dense(1, activation='sigmoid')\n",
        "])\n",
        "\n",
        "get_metrix_of_model(md2, 10, \"Сеть с дропаутом\", X_train, y_train, X_test, y_test)"
      ]
    },
    {
      "cell_type": "markdown",
      "id": "0b6952a2",
      "metadata": {
        "id": "0b6952a2"
      },
      "source": [
        "Сеть с рекуррентным слоем"
      ]
    },
    {
      "cell_type": "code",
      "execution_count": 99,
      "id": "30d28034",
      "metadata": {
        "id": "30d28034"
      },
      "outputs": [
        {
          "name": "stdout",
          "output_type": "stream",
          "text": [
            "Epoch 1/10\n"
          ]
        },
        {
          "name": "stderr",
          "output_type": "stream",
          "text": [
            "C:\\Users\\chern\\AppData\\Local\\Packages\\PythonSoftwareFoundation.Python.3.11_qbz5n2kfra8p0\\LocalCache\\local-packages\\Python311\\site-packages\\keras\\src\\layers\\rnn\\rnn.py:200: UserWarning: Do not pass an `input_shape`/`input_dim` argument to a layer. When using Sequential models, prefer using an `Input(shape)` object as the first layer in the model instead.\n",
            "  super().__init__(**kwargs)\n"
          ]
        },
        {
          "name": "stdout",
          "output_type": "stream",
          "text": [
            "\u001b[1m24/24\u001b[0m \u001b[32m━━━━━━━━━━━━━━━━━━━━\u001b[0m\u001b[37m\u001b[0m \u001b[1m1s\u001b[0m 9ms/step - accuracy: 0.6185 - loss: 0.6790 - val_accuracy: 0.5821 - val_loss: 0.6822\n",
            "Epoch 2/10\n",
            "\u001b[1m24/24\u001b[0m \u001b[32m━━━━━━━━━━━━━━━━━━━━\u001b[0m\u001b[37m\u001b[0m \u001b[1m0s\u001b[0m 3ms/step - accuracy: 0.6258 - loss: 0.6626 - val_accuracy: 0.5821 - val_loss: 0.6705\n",
            "Epoch 3/10\n",
            "\u001b[1m24/24\u001b[0m \u001b[32m━━━━━━━━━━━━━━━━━━━━\u001b[0m\u001b[37m\u001b[0m \u001b[1m0s\u001b[0m 3ms/step - accuracy: 0.6350 - loss: 0.6490 - val_accuracy: 0.5821 - val_loss: 0.6605\n",
            "Epoch 4/10\n",
            "\u001b[1m24/24\u001b[0m \u001b[32m━━━━━━━━━━━━━━━━━━━━\u001b[0m\u001b[37m\u001b[0m \u001b[1m0s\u001b[0m 3ms/step - accuracy: 0.6371 - loss: 0.6385 - val_accuracy: 0.5821 - val_loss: 0.6450\n",
            "Epoch 5/10\n",
            "\u001b[1m24/24\u001b[0m \u001b[32m━━━━━━━━━━━━━━━━━━━━\u001b[0m\u001b[37m\u001b[0m \u001b[1m0s\u001b[0m 3ms/step - accuracy: 0.6263 - loss: 0.6412 - val_accuracy: 0.6418 - val_loss: 0.6367\n",
            "Epoch 6/10\n",
            "\u001b[1m24/24\u001b[0m \u001b[32m━━━━━━━━━━━━━━━━━━━━\u001b[0m\u001b[37m\u001b[0m \u001b[1m0s\u001b[0m 3ms/step - accuracy: 0.6857 - loss: 0.6137 - val_accuracy: 0.6716 - val_loss: 0.6257\n",
            "Epoch 7/10\n",
            "\u001b[1m24/24\u001b[0m \u001b[32m━━━━━━━━━━━━━━━━━━━━\u001b[0m\u001b[37m\u001b[0m \u001b[1m0s\u001b[0m 3ms/step - accuracy: 0.6658 - loss: 0.6214 - val_accuracy: 0.6866 - val_loss: 0.6247\n",
            "Epoch 8/10\n",
            "\u001b[1m24/24\u001b[0m \u001b[32m━━━━━━━━━━━━━━━━━━━━\u001b[0m\u001b[37m\u001b[0m \u001b[1m0s\u001b[0m 3ms/step - accuracy: 0.6976 - loss: 0.6085 - val_accuracy: 0.6940 - val_loss: 0.6101\n",
            "Epoch 9/10\n",
            "\u001b[1m24/24\u001b[0m \u001b[32m━━━━━━━━━━━━━━━━━━━━\u001b[0m\u001b[37m\u001b[0m \u001b[1m0s\u001b[0m 3ms/step - accuracy: 0.6885 - loss: 0.6007 - val_accuracy: 0.7164 - val_loss: 0.5957\n",
            "Epoch 10/10\n",
            "\u001b[1m24/24\u001b[0m \u001b[32m━━━━━━━━━━━━━━━━━━━━\u001b[0m\u001b[37m\u001b[0m \u001b[1m0s\u001b[0m 3ms/step - accuracy: 0.6872 - loss: 0.5866 - val_accuracy: 0.6866 - val_loss: 0.5753\n",
            "\u001b[1m5/5\u001b[0m \u001b[32m━━━━━━━━━━━━━━━━━━━━\u001b[0m\u001b[37m\u001b[0m \u001b[1m0s\u001b[0m 20ms/step\n",
            "\u001b[1m5/5\u001b[0m \u001b[32m━━━━━━━━━━━━━━━━━━━━\u001b[0m\u001b[37m\u001b[0m \u001b[1m0s\u001b[0m 3ms/step \n",
            "\n",
            "Модель: Сеть с рекуррентным слоем\n",
            "F1-score: 0.5532\n",
            "ROC-AUC: 0.7818\n"
          ]
        },
        {
          "data": {
            "text/plain": [
              "{'f1_score': 0.5531914893617021, 'roc_auc': np.float64(0.7818223443223443)}"
            ]
          },
          "execution_count": 99,
          "metadata": {},
          "output_type": "execute_result"
        }
      ],
      "source": [
        "md3 = keras.Sequential([\n",
        "    layers.LSTM(64, input_shape=(X_train.shape[1], 1)),\n",
        "    layers.Dense(32, activation='relu'),\n",
        "    layers.Dense(1, activation='sigmoid')\n",
        "])\n",
        "get_metrix_of_model(md3, 10, \"Сеть с рекуррентным слоем\", X_train, y_train, X_test, y_test)"
      ]
    },
    {
      "cell_type": "markdown",
      "id": "451a9411",
      "metadata": {
        "id": "451a9411"
      },
      "source": [
        "Лучшая F1-мера у простой полносвязной сети, поэксперементируем с топологией сети:"
      ]
    },
    {
      "cell_type": "code",
      "execution_count": 103,
      "id": "150b17ce",
      "metadata": {
        "id": "150b17ce"
      },
      "outputs": [
        {
          "name": "stdout",
          "output_type": "stream",
          "text": [
            "Epoch 1/10\n"
          ]
        },
        {
          "name": "stderr",
          "output_type": "stream",
          "text": [
            "C:\\Users\\chern\\AppData\\Local\\Packages\\PythonSoftwareFoundation.Python.3.11_qbz5n2kfra8p0\\LocalCache\\local-packages\\Python311\\site-packages\\keras\\src\\layers\\core\\dense.py:87: UserWarning: Do not pass an `input_shape`/`input_dim` argument to a layer. When using Sequential models, prefer using an `Input(shape)` object as the first layer in the model instead.\n",
            "  super().__init__(activity_regularizer=activity_regularizer, **kwargs)\n"
          ]
        },
        {
          "name": "stdout",
          "output_type": "stream",
          "text": [
            "\u001b[1m24/24\u001b[0m \u001b[32m━━━━━━━━━━━━━━━━━━━━\u001b[0m\u001b[37m\u001b[0m \u001b[1m1s\u001b[0m 5ms/step - accuracy: 0.5614 - loss: 0.6662 - val_accuracy: 0.7239 - val_loss: 0.5490\n",
            "Epoch 2/10\n",
            "\u001b[1m24/24\u001b[0m \u001b[32m━━━━━━━━━━━━━━━━━━━━\u001b[0m\u001b[37m\u001b[0m \u001b[1m0s\u001b[0m 2ms/step - accuracy: 0.7152 - loss: 0.5328 - val_accuracy: 0.7537 - val_loss: 0.4876\n",
            "Epoch 3/10\n",
            "\u001b[1m24/24\u001b[0m \u001b[32m━━━━━━━━━━━━━━━━━━━━\u001b[0m\u001b[37m\u001b[0m \u001b[1m0s\u001b[0m 3ms/step - accuracy: 0.7664 - loss: 0.4936 - val_accuracy: 0.7612 - val_loss: 0.4509\n",
            "Epoch 4/10\n",
            "\u001b[1m24/24\u001b[0m \u001b[32m━━━━━━━━━━━━━━━━━━━━\u001b[0m\u001b[37m\u001b[0m \u001b[1m0s\u001b[0m 2ms/step - accuracy: 0.7620 - loss: 0.4838 - val_accuracy: 0.8060 - val_loss: 0.4407\n",
            "Epoch 5/10\n",
            "\u001b[1m24/24\u001b[0m \u001b[32m━━━━━━━━━━━━━━━━━━━━\u001b[0m\u001b[37m\u001b[0m \u001b[1m0s\u001b[0m 2ms/step - accuracy: 0.7957 - loss: 0.4581 - val_accuracy: 0.8433 - val_loss: 0.4353\n",
            "Epoch 6/10\n",
            "\u001b[1m24/24\u001b[0m \u001b[32m━━━━━━━━━━━━━━━━━━━━\u001b[0m\u001b[37m\u001b[0m \u001b[1m0s\u001b[0m 2ms/step - accuracy: 0.8016 - loss: 0.4393 - val_accuracy: 0.7910 - val_loss: 0.4352\n",
            "Epoch 7/10\n",
            "\u001b[1m24/24\u001b[0m \u001b[32m━━━━━━━━━━━━━━━━━━━━\u001b[0m\u001b[37m\u001b[0m \u001b[1m0s\u001b[0m 2ms/step - accuracy: 0.8128 - loss: 0.4118 - val_accuracy: 0.7910 - val_loss: 0.4347\n",
            "Epoch 8/10\n",
            "\u001b[1m24/24\u001b[0m \u001b[32m━━━━━━━━━━━━━━━━━━━━\u001b[0m\u001b[37m\u001b[0m \u001b[1m0s\u001b[0m 2ms/step - accuracy: 0.7952 - loss: 0.4378 - val_accuracy: 0.7761 - val_loss: 0.4455\n",
            "Epoch 9/10\n",
            "\u001b[1m24/24\u001b[0m \u001b[32m━━━━━━━━━━━━━━━━━━━━\u001b[0m\u001b[37m\u001b[0m \u001b[1m0s\u001b[0m 2ms/step - accuracy: 0.8102 - loss: 0.4362 - val_accuracy: 0.7836 - val_loss: 0.4429\n",
            "Epoch 10/10\n",
            "\u001b[1m24/24\u001b[0m \u001b[32m━━━━━━━━━━━━━━━━━━━━\u001b[0m\u001b[37m\u001b[0m \u001b[1m0s\u001b[0m 2ms/step - accuracy: 0.7928 - loss: 0.4379 - val_accuracy: 0.7836 - val_loss: 0.4404\n",
            "\u001b[1m5/5\u001b[0m \u001b[32m━━━━━━━━━━━━━━━━━━━━\u001b[0m\u001b[37m\u001b[0m \u001b[1m0s\u001b[0m 7ms/step \n",
            "\u001b[1m5/5\u001b[0m \u001b[32m━━━━━━━━━━━━━━━━━━━━\u001b[0m\u001b[37m\u001b[0m \u001b[1m0s\u001b[0m 3ms/step \n",
            "\n",
            "Модель: 128-64-1\n",
            "F1-score: 0.7339\n",
            "ROC-AUC: 0.8615\n"
          ]
        },
        {
          "data": {
            "text/plain": [
              "{'f1_score': 0.7339449541284404, 'roc_auc': np.float64(0.861492673992674)}"
            ]
          },
          "execution_count": 103,
          "metadata": {},
          "output_type": "execute_result"
        }
      ],
      "source": [
        "md1_1 = keras.Sequential([\n",
        "    layers.Dense(128, activation='relu', input_shape=(X_train.shape[1],)),\n",
        "    layers.Dense(64, activation='relu'),\n",
        "    layers.Dense(1, activation='sigmoid')\n",
        "])\n",
        "\n",
        "get_metrix_of_model(md1_1, 10, \"128-64-1\", X_train, y_train, X_test, y_test)"
      ]
    },
    {
      "cell_type": "code",
      "execution_count": 101,
      "id": "8b0d8070",
      "metadata": {
        "id": "8b0d8070"
      },
      "outputs": [
        {
          "name": "stdout",
          "output_type": "stream",
          "text": [
            "Epoch 1/10\n"
          ]
        },
        {
          "name": "stderr",
          "output_type": "stream",
          "text": [
            "C:\\Users\\chern\\AppData\\Local\\Packages\\PythonSoftwareFoundation.Python.3.11_qbz5n2kfra8p0\\LocalCache\\local-packages\\Python311\\site-packages\\keras\\src\\layers\\core\\dense.py:87: UserWarning: Do not pass an `input_shape`/`input_dim` argument to a layer. When using Sequential models, prefer using an `Input(shape)` object as the first layer in the model instead.\n",
            "  super().__init__(activity_regularizer=activity_regularizer, **kwargs)\n"
          ]
        },
        {
          "name": "stdout",
          "output_type": "stream",
          "text": [
            "\u001b[1m24/24\u001b[0m \u001b[32m━━━━━━━━━━━━━━━━━━━━\u001b[0m\u001b[37m\u001b[0m \u001b[1m1s\u001b[0m 6ms/step - accuracy: 0.5997 - loss: 0.6476 - val_accuracy: 0.7164 - val_loss: 0.5525\n",
            "Epoch 2/10\n",
            "\u001b[1m24/24\u001b[0m \u001b[32m━━━━━━━━━━━━━━━━━━━━\u001b[0m\u001b[37m\u001b[0m \u001b[1m0s\u001b[0m 2ms/step - accuracy: 0.7344 - loss: 0.5456 - val_accuracy: 0.7537 - val_loss: 0.4890\n",
            "Epoch 3/10\n",
            "\u001b[1m24/24\u001b[0m \u001b[32m━━━━━━━━━━━━━━━━━━━━\u001b[0m\u001b[37m\u001b[0m \u001b[1m0s\u001b[0m 2ms/step - accuracy: 0.7327 - loss: 0.5208 - val_accuracy: 0.7985 - val_loss: 0.4583\n",
            "Epoch 4/10\n",
            "\u001b[1m24/24\u001b[0m \u001b[32m━━━━━━━━━━━━━━━━━━━━\u001b[0m\u001b[37m\u001b[0m \u001b[1m0s\u001b[0m 2ms/step - accuracy: 0.8127 - loss: 0.4576 - val_accuracy: 0.7910 - val_loss: 0.4383\n",
            "Epoch 5/10\n",
            "\u001b[1m24/24\u001b[0m \u001b[32m━━━━━━━━━━━━━━━━━━━━\u001b[0m\u001b[37m\u001b[0m \u001b[1m0s\u001b[0m 2ms/step - accuracy: 0.7822 - loss: 0.4549 - val_accuracy: 0.7910 - val_loss: 0.4334\n",
            "Epoch 6/10\n",
            "\u001b[1m24/24\u001b[0m \u001b[32m━━━━━━━━━━━━━━━━━━━━\u001b[0m\u001b[37m\u001b[0m \u001b[1m0s\u001b[0m 2ms/step - accuracy: 0.7983 - loss: 0.4581 - val_accuracy: 0.7910 - val_loss: 0.4383\n",
            "Epoch 7/10\n",
            "\u001b[1m24/24\u001b[0m \u001b[32m━━━━━━━━━━━━━━━━━━━━\u001b[0m\u001b[37m\u001b[0m \u001b[1m0s\u001b[0m 2ms/step - accuracy: 0.8078 - loss: 0.4338 - val_accuracy: 0.7910 - val_loss: 0.4327\n",
            "Epoch 8/10\n",
            "\u001b[1m24/24\u001b[0m \u001b[32m━━━━━━━━━━━━━━━━━━━━\u001b[0m\u001b[37m\u001b[0m \u001b[1m0s\u001b[0m 3ms/step - accuracy: 0.7827 - loss: 0.4482 - val_accuracy: 0.7910 - val_loss: 0.4281\n",
            "Epoch 9/10\n",
            "\u001b[1m24/24\u001b[0m \u001b[32m━━━━━━━━━━━━━━━━━━━━\u001b[0m\u001b[37m\u001b[0m \u001b[1m0s\u001b[0m 2ms/step - accuracy: 0.7926 - loss: 0.4459 - val_accuracy: 0.7910 - val_loss: 0.4333\n",
            "Epoch 10/10\n",
            "\u001b[1m24/24\u001b[0m \u001b[32m━━━━━━━━━━━━━━━━━━━━\u001b[0m\u001b[37m\u001b[0m \u001b[1m0s\u001b[0m 2ms/step - accuracy: 0.7838 - loss: 0.4582 - val_accuracy: 0.7910 - val_loss: 0.4250\n",
            "\u001b[1m5/5\u001b[0m \u001b[32m━━━━━━━━━━━━━━━━━━━━\u001b[0m\u001b[37m\u001b[0m \u001b[1m0s\u001b[0m 7ms/step \n",
            "\u001b[1m5/5\u001b[0m \u001b[32m━━━━━━━━━━━━━━━━━━━━\u001b[0m\u001b[37m\u001b[0m \u001b[1m0s\u001b[0m 3ms/step \n",
            "\n",
            "Модель: 64-128-1\n",
            "F1-score: 0.7407\n",
            "ROC-AUC: 0.8729\n"
          ]
        },
        {
          "data": {
            "text/plain": [
              "{'f1_score': 0.7407407407407407, 'roc_auc': np.float64(0.8729395604395604)}"
            ]
          },
          "execution_count": 101,
          "metadata": {},
          "output_type": "execute_result"
        }
      ],
      "source": [
        "md1_2 = keras.Sequential([\n",
        "    layers.Dense(64, activation='relu', input_shape=(X_train.shape[1],)),\n",
        "    layers.Dense(128, activation='relu'),\n",
        "    layers.Dense(1, activation='sigmoid')\n",
        "])\n",
        "\n",
        "get_metrix_of_model(md1_2, 10, \"64-128-1\", X_train, y_train, X_test, y_test)"
      ]
    },
    {
      "cell_type": "code",
      "execution_count": 102,
      "id": "5646271f",
      "metadata": {
        "id": "5646271f"
      },
      "outputs": [
        {
          "name": "stdout",
          "output_type": "stream",
          "text": [
            "Epoch 1/10\n"
          ]
        },
        {
          "name": "stderr",
          "output_type": "stream",
          "text": [
            "C:\\Users\\chern\\AppData\\Local\\Packages\\PythonSoftwareFoundation.Python.3.11_qbz5n2kfra8p0\\LocalCache\\local-packages\\Python311\\site-packages\\keras\\src\\layers\\core\\dense.py:87: UserWarning: Do not pass an `input_shape`/`input_dim` argument to a layer. When using Sequential models, prefer using an `Input(shape)` object as the first layer in the model instead.\n",
            "  super().__init__(activity_regularizer=activity_regularizer, **kwargs)\n"
          ]
        },
        {
          "name": "stdout",
          "output_type": "stream",
          "text": [
            "\u001b[1m24/24\u001b[0m \u001b[32m━━━━━━━━━━━━━━━━━━━━\u001b[0m\u001b[37m\u001b[0m \u001b[1m1s\u001b[0m 6ms/step - accuracy: 0.5666 - loss: 0.6807 - val_accuracy: 0.6343 - val_loss: 0.5988\n",
            "Epoch 2/10\n",
            "\u001b[1m24/24\u001b[0m \u001b[32m━━━━━━━━━━━━━━━━━━━━\u001b[0m\u001b[37m\u001b[0m \u001b[1m0s\u001b[0m 2ms/step - accuracy: 0.7211 - loss: 0.5727 - val_accuracy: 0.7761 - val_loss: 0.5136\n",
            "Epoch 3/10\n",
            "\u001b[1m24/24\u001b[0m \u001b[32m━━━━━━━━━━━━━━━━━━━━\u001b[0m\u001b[37m\u001b[0m \u001b[1m0s\u001b[0m 2ms/step - accuracy: 0.7832 - loss: 0.5081 - val_accuracy: 0.7985 - val_loss: 0.4610\n",
            "Epoch 4/10\n",
            "\u001b[1m24/24\u001b[0m \u001b[32m━━━━━━━━━━━━━━━━━━━━\u001b[0m\u001b[37m\u001b[0m \u001b[1m0s\u001b[0m 2ms/step - accuracy: 0.7917 - loss: 0.4591 - val_accuracy: 0.8134 - val_loss: 0.4345\n",
            "Epoch 5/10\n",
            "\u001b[1m24/24\u001b[0m \u001b[32m━━━━━━━━━━━━━━━━━━━━\u001b[0m\u001b[37m\u001b[0m \u001b[1m0s\u001b[0m 2ms/step - accuracy: 0.7807 - loss: 0.4753 - val_accuracy: 0.8134 - val_loss: 0.4312\n",
            "Epoch 6/10\n",
            "\u001b[1m24/24\u001b[0m \u001b[32m━━━━━━━━━━━━━━━━━━━━\u001b[0m\u001b[37m\u001b[0m \u001b[1m0s\u001b[0m 3ms/step - accuracy: 0.7686 - loss: 0.4453 - val_accuracy: 0.8134 - val_loss: 0.4241\n",
            "Epoch 7/10\n",
            "\u001b[1m24/24\u001b[0m \u001b[32m━━━━━━━━━━━━━━━━━━━━\u001b[0m\u001b[37m\u001b[0m \u001b[1m0s\u001b[0m 2ms/step - accuracy: 0.7826 - loss: 0.4644 - val_accuracy: 0.8134 - val_loss: 0.4263\n",
            "Epoch 8/10\n",
            "\u001b[1m24/24\u001b[0m \u001b[32m━━━━━━━━━━━━━━━━━━━━\u001b[0m\u001b[37m\u001b[0m \u001b[1m0s\u001b[0m 2ms/step - accuracy: 0.8113 - loss: 0.4359 - val_accuracy: 0.7910 - val_loss: 0.4265\n",
            "Epoch 9/10\n",
            "\u001b[1m24/24\u001b[0m \u001b[32m━━━━━━━━━━━━━━━━━━━━\u001b[0m\u001b[37m\u001b[0m \u001b[1m0s\u001b[0m 2ms/step - accuracy: 0.8182 - loss: 0.4199 - val_accuracy: 0.7836 - val_loss: 0.4390\n",
            "Epoch 10/10\n",
            "\u001b[1m24/24\u001b[0m \u001b[32m━━━━━━━━━━━━━━━━━━━━\u001b[0m\u001b[37m\u001b[0m \u001b[1m0s\u001b[0m 2ms/step - accuracy: 0.8093 - loss: 0.4147 - val_accuracy: 0.7910 - val_loss: 0.4354\n",
            "\u001b[1m5/5\u001b[0m \u001b[32m━━━━━━━━━━━━━━━━━━━━\u001b[0m\u001b[37m\u001b[0m \u001b[1m0s\u001b[0m 7ms/step \n",
            "\u001b[1m5/5\u001b[0m \u001b[32m━━━━━━━━━━━━━━━━━━━━\u001b[0m\u001b[37m\u001b[0m \u001b[1m0s\u001b[0m 3ms/step \n",
            "\n",
            "Модель: 32-64-32-1\n",
            "F1-score: 0.7407\n",
            "ROC-AUC: 0.8688\n"
          ]
        },
        {
          "data": {
            "text/plain": [
              "{'f1_score': 0.7407407407407407, 'roc_auc': np.float64(0.8688186813186813)}"
            ]
          },
          "execution_count": 102,
          "metadata": {},
          "output_type": "execute_result"
        }
      ],
      "source": [
        "md1_3 = keras.Sequential([\n",
        "    layers.Dense(64, activation='relu', input_shape=(X_train.shape[1],)),\n",
        "    layers.Dense(32, activation='relu'),\n",
        "    layers.Dense(64, activation='relu'),\n",
        "    layers.Dense(1, activation='sigmoid')\n",
        "])\n",
        "\n",
        "get_metrix_of_model(md1_3, 10, \"32-64-32-1\", X_train, y_train, X_test, y_test)"
      ]
    },
    {
      "cell_type": "markdown",
      "id": "0f0c8527",
      "metadata": {
        "id": "0f0c8527"
      },
      "source": [
        "Лучшие метрики показала модель с топологией 64-128-1, можем также посмотреть на данную модель с разным количеством нейронов:"
      ]
    },
    {
      "cell_type": "code",
      "execution_count": 117,
      "id": "fa8e058e",
      "metadata": {
        "id": "fa8e058e"
      },
      "outputs": [
        {
          "name": "stdout",
          "output_type": "stream",
          "text": [
            "Epoch 1/10\n"
          ]
        },
        {
          "name": "stderr",
          "output_type": "stream",
          "text": [
            "C:\\Users\\chern\\AppData\\Local\\Packages\\PythonSoftwareFoundation.Python.3.11_qbz5n2kfra8p0\\LocalCache\\local-packages\\Python311\\site-packages\\keras\\src\\layers\\core\\dense.py:87: UserWarning: Do not pass an `input_shape`/`input_dim` argument to a layer. When using Sequential models, prefer using an `Input(shape)` object as the first layer in the model instead.\n",
            "  super().__init__(activity_regularizer=activity_regularizer, **kwargs)\n"
          ]
        },
        {
          "name": "stdout",
          "output_type": "stream",
          "text": [
            "\u001b[1m24/24\u001b[0m \u001b[32m━━━━━━━━━━━━━━━━━━━━\u001b[0m\u001b[37m\u001b[0m \u001b[1m1s\u001b[0m 6ms/step - accuracy: 0.6959 - loss: 0.6175 - val_accuracy: 0.7164 - val_loss: 0.5382\n",
            "Epoch 2/10\n",
            "\u001b[1m24/24\u001b[0m \u001b[32m━━━━━━━━━━━━━━━━━━━━\u001b[0m\u001b[37m\u001b[0m \u001b[1m0s\u001b[0m 2ms/step - accuracy: 0.7493 - loss: 0.5297 - val_accuracy: 0.7388 - val_loss: 0.4891\n",
            "Epoch 3/10\n",
            "\u001b[1m24/24\u001b[0m \u001b[32m━━━━━━━━━━━━━━━━━━━━\u001b[0m\u001b[37m\u001b[0m \u001b[1m0s\u001b[0m 2ms/step - accuracy: 0.7820 - loss: 0.4873 - val_accuracy: 0.7612 - val_loss: 0.4452\n",
            "Epoch 4/10\n",
            "\u001b[1m24/24\u001b[0m \u001b[32m━━━━━━━━━━━━━━━━━━━━\u001b[0m\u001b[37m\u001b[0m \u001b[1m0s\u001b[0m 3ms/step - accuracy: 0.7632 - loss: 0.4957 - val_accuracy: 0.8134 - val_loss: 0.4349\n",
            "Epoch 5/10\n",
            "\u001b[1m24/24\u001b[0m \u001b[32m━━━━━━━━━━━━━━━━━━━━\u001b[0m\u001b[37m\u001b[0m \u001b[1m0s\u001b[0m 2ms/step - accuracy: 0.7978 - loss: 0.4481 - val_accuracy: 0.7985 - val_loss: 0.4327\n",
            "Epoch 6/10\n",
            "\u001b[1m24/24\u001b[0m \u001b[32m━━━━━━━━━━━━━━━━━━━━\u001b[0m\u001b[37m\u001b[0m \u001b[1m0s\u001b[0m 2ms/step - accuracy: 0.8038 - loss: 0.4597 - val_accuracy: 0.8433 - val_loss: 0.4356\n",
            "Epoch 7/10\n",
            "\u001b[1m24/24\u001b[0m \u001b[32m━━━━━━━━━━━━━━━━━━━━\u001b[0m\u001b[37m\u001b[0m \u001b[1m0s\u001b[0m 2ms/step - accuracy: 0.7951 - loss: 0.4374 - val_accuracy: 0.7910 - val_loss: 0.4336\n",
            "Epoch 8/10\n",
            "\u001b[1m24/24\u001b[0m \u001b[32m━━━━━━━━━━━━━━━━━━━━\u001b[0m\u001b[37m\u001b[0m \u001b[1m0s\u001b[0m 2ms/step - accuracy: 0.7772 - loss: 0.4694 - val_accuracy: 0.7985 - val_loss: 0.4308\n",
            "Epoch 9/10\n",
            "\u001b[1m24/24\u001b[0m \u001b[32m━━━━━━━━━━━━━━━━━━━━\u001b[0m\u001b[37m\u001b[0m \u001b[1m0s\u001b[0m 2ms/step - accuracy: 0.8064 - loss: 0.4281 - val_accuracy: 0.8433 - val_loss: 0.4318\n",
            "Epoch 10/10\n",
            "\u001b[1m24/24\u001b[0m \u001b[32m━━━━━━━━━━━━━━━━━━━━\u001b[0m\u001b[37m\u001b[0m \u001b[1m0s\u001b[0m 2ms/step - accuracy: 0.7944 - loss: 0.4535 - val_accuracy: 0.7687 - val_loss: 0.4544\n",
            "\u001b[1m5/5\u001b[0m \u001b[32m━━━━━━━━━━━━━━━━━━━━\u001b[0m\u001b[37m\u001b[0m \u001b[1m0s\u001b[0m 6ms/step \n",
            "\u001b[1m5/5\u001b[0m \u001b[32m━━━━━━━━━━━━━━━━━━━━\u001b[0m\u001b[37m\u001b[0m \u001b[1m0s\u001b[0m 3ms/step \n",
            "\n",
            "Модель: 64-256-1\n",
            "F1-score: 0.7350\n",
            "ROC-AUC: 0.8560\n"
          ]
        },
        {
          "data": {
            "text/plain": [
              "{'f1_score': 0.7350427350427351, 'roc_auc': np.float64(0.8559981684981686)}"
            ]
          },
          "execution_count": 117,
          "metadata": {},
          "output_type": "execute_result"
        }
      ],
      "source": [
        "md1_2_1 = keras.Sequential([\n",
        "    layers.Dense(64, activation='relu', input_shape=(X_train.shape[1],)),\n",
        "    layers.Dense(256, activation='relu'),\n",
        "    layers.Dense(1, activation='sigmoid')\n",
        "])\n",
        "\n",
        "get_metrix_of_model(md1_2_1, 10, \"64-256-1\", X_train, y_train, X_test, y_test)"
      ]
    },
    {
      "cell_type": "code",
      "execution_count": 116,
      "id": "156df079",
      "metadata": {
        "id": "156df079"
      },
      "outputs": [
        {
          "name": "stdout",
          "output_type": "stream",
          "text": [
            "Epoch 1/10\n"
          ]
        },
        {
          "name": "stderr",
          "output_type": "stream",
          "text": [
            "C:\\Users\\chern\\AppData\\Local\\Packages\\PythonSoftwareFoundation.Python.3.11_qbz5n2kfra8p0\\LocalCache\\local-packages\\Python311\\site-packages\\keras\\src\\layers\\core\\dense.py:87: UserWarning: Do not pass an `input_shape`/`input_dim` argument to a layer. When using Sequential models, prefer using an `Input(shape)` object as the first layer in the model instead.\n",
            "  super().__init__(activity_regularizer=activity_regularizer, **kwargs)\n"
          ]
        },
        {
          "name": "stdout",
          "output_type": "stream",
          "text": [
            "\u001b[1m24/24\u001b[0m \u001b[32m━━━━━━━━━━━━━━━━━━━━\u001b[0m\u001b[37m\u001b[0m \u001b[1m1s\u001b[0m 5ms/step - accuracy: 0.6869 - loss: 0.6026 - val_accuracy: 0.7761 - val_loss: 0.4986\n",
            "Epoch 2/10\n",
            "\u001b[1m24/24\u001b[0m \u001b[32m━━━━━━━━━━━━━━━━━━━━\u001b[0m\u001b[37m\u001b[0m \u001b[1m0s\u001b[0m 2ms/step - accuracy: 0.7637 - loss: 0.4980 - val_accuracy: 0.7687 - val_loss: 0.4424\n",
            "Epoch 3/10\n",
            "\u001b[1m24/24\u001b[0m \u001b[32m━━━━━━━━━━━━━━━━━━━━\u001b[0m\u001b[37m\u001b[0m \u001b[1m0s\u001b[0m 2ms/step - accuracy: 0.7813 - loss: 0.4575 - val_accuracy: 0.7836 - val_loss: 0.4417\n",
            "Epoch 4/10\n",
            "\u001b[1m24/24\u001b[0m \u001b[32m━━━━━━━━━━━━━━━━━━━━\u001b[0m\u001b[37m\u001b[0m \u001b[1m0s\u001b[0m 3ms/step - accuracy: 0.8179 - loss: 0.4145 - val_accuracy: 0.7761 - val_loss: 0.4471\n",
            "Epoch 5/10\n",
            "\u001b[1m24/24\u001b[0m \u001b[32m━━━━━━━━━━━━━━━━━━━━\u001b[0m\u001b[37m\u001b[0m \u001b[1m0s\u001b[0m 2ms/step - accuracy: 0.8086 - loss: 0.4301 - val_accuracy: 0.7836 - val_loss: 0.4430\n",
            "Epoch 6/10\n",
            "\u001b[1m24/24\u001b[0m \u001b[32m━━━━━━━━━━━━━━━━━━━━\u001b[0m\u001b[37m\u001b[0m \u001b[1m0s\u001b[0m 2ms/step - accuracy: 0.7978 - loss: 0.4484 - val_accuracy: 0.7910 - val_loss: 0.4347\n",
            "Epoch 7/10\n",
            "\u001b[1m24/24\u001b[0m \u001b[32m━━━━━━━━━━━━━━━━━━━━\u001b[0m\u001b[37m\u001b[0m \u001b[1m0s\u001b[0m 2ms/step - accuracy: 0.7868 - loss: 0.4495 - val_accuracy: 0.7910 - val_loss: 0.4380\n",
            "Epoch 8/10\n",
            "\u001b[1m24/24\u001b[0m \u001b[32m━━━━━━━━━━━━━━━━━━━━\u001b[0m\u001b[37m\u001b[0m \u001b[1m0s\u001b[0m 2ms/step - accuracy: 0.7831 - loss: 0.4533 - val_accuracy: 0.8507 - val_loss: 0.4284\n",
            "Epoch 9/10\n",
            "\u001b[1m24/24\u001b[0m \u001b[32m━━━━━━━━━━━━━━━━━━━━\u001b[0m\u001b[37m\u001b[0m \u001b[1m0s\u001b[0m 2ms/step - accuracy: 0.8344 - loss: 0.4312 - val_accuracy: 0.8284 - val_loss: 0.4236\n",
            "Epoch 10/10\n",
            "\u001b[1m24/24\u001b[0m \u001b[32m━━━━━━━━━━━━━━━━━━━━\u001b[0m\u001b[37m\u001b[0m \u001b[1m0s\u001b[0m 2ms/step - accuracy: 0.8035 - loss: 0.4528 - val_accuracy: 0.7910 - val_loss: 0.4289\n",
            "\u001b[1m5/5\u001b[0m \u001b[32m━━━━━━━━━━━━━━━━━━━━\u001b[0m\u001b[37m\u001b[0m \u001b[1m0s\u001b[0m 6ms/step \n",
            "\u001b[1m5/5\u001b[0m \u001b[32m━━━━━━━━━━━━━━━━━━━━\u001b[0m\u001b[37m\u001b[0m \u001b[1m0s\u001b[0m 3ms/step \n",
            "\n",
            "Модель: 128-256-1\n",
            "F1-score: 0.7407\n",
            "ROC-AUC: 0.8677\n"
          ]
        },
        {
          "data": {
            "text/plain": [
              "{'f1_score': 0.7407407407407407, 'roc_auc': np.float64(0.8676739926739927)}"
            ]
          },
          "execution_count": 116,
          "metadata": {},
          "output_type": "execute_result"
        }
      ],
      "source": [
        "md1_2_2 = keras.Sequential([\n",
        "    layers.Dense(128, activation='relu', input_shape=(X_train.shape[1],)),\n",
        "    layers.Dense(256, activation='relu'),\n",
        "    layers.Dense(1, activation='sigmoid')\n",
        "])\n",
        "\n",
        "get_metrix_of_model(md1_2_2, 10, \"128-256-1\", X_train, y_train, X_test, y_test)"
      ]
    },
    {
      "cell_type": "code",
      "execution_count": 115,
      "id": "a7721501",
      "metadata": {
        "id": "a7721501"
      },
      "outputs": [
        {
          "name": "stdout",
          "output_type": "stream",
          "text": [
            "Epoch 1/10\n"
          ]
        },
        {
          "name": "stderr",
          "output_type": "stream",
          "text": [
            "C:\\Users\\chern\\AppData\\Local\\Packages\\PythonSoftwareFoundation.Python.3.11_qbz5n2kfra8p0\\LocalCache\\local-packages\\Python311\\site-packages\\keras\\src\\layers\\core\\dense.py:87: UserWarning: Do not pass an `input_shape`/`input_dim` argument to a layer. When using Sequential models, prefer using an `Input(shape)` object as the first layer in the model instead.\n",
            "  super().__init__(activity_regularizer=activity_regularizer, **kwargs)\n"
          ]
        },
        {
          "name": "stdout",
          "output_type": "stream",
          "text": [
            "\u001b[1m24/24\u001b[0m \u001b[32m━━━━━━━━━━━━━━━━━━━━\u001b[0m\u001b[37m\u001b[0m \u001b[1m1s\u001b[0m 5ms/step - accuracy: 0.6329 - loss: 0.6141 - val_accuracy: 0.7463 - val_loss: 0.4844\n",
            "Epoch 2/10\n",
            "\u001b[1m24/24\u001b[0m \u001b[32m━━━━━━━━━━━━━━━━━━━━\u001b[0m\u001b[37m\u001b[0m \u001b[1m0s\u001b[0m 2ms/step - accuracy: 0.7736 - loss: 0.4843 - val_accuracy: 0.7836 - val_loss: 0.4345\n",
            "Epoch 3/10\n",
            "\u001b[1m24/24\u001b[0m \u001b[32m━━━━━━━━━━━━━━━━━━━━\u001b[0m\u001b[37m\u001b[0m \u001b[1m0s\u001b[0m 2ms/step - accuracy: 0.7844 - loss: 0.4784 - val_accuracy: 0.7910 - val_loss: 0.4331\n",
            "Epoch 4/10\n",
            "\u001b[1m24/24\u001b[0m \u001b[32m━━━━━━━━━━━━━━━━━━━━\u001b[0m\u001b[37m\u001b[0m \u001b[1m0s\u001b[0m 3ms/step - accuracy: 0.7946 - loss: 0.4407 - val_accuracy: 0.8507 - val_loss: 0.4316\n",
            "Epoch 5/10\n",
            "\u001b[1m24/24\u001b[0m \u001b[32m━━━━━━━━━━━━━━━━━━━━\u001b[0m\u001b[37m\u001b[0m \u001b[1m0s\u001b[0m 2ms/step - accuracy: 0.8012 - loss: 0.4346 - val_accuracy: 0.7910 - val_loss: 0.4291\n",
            "Epoch 6/10\n",
            "\u001b[1m24/24\u001b[0m \u001b[32m━━━━━━━━━━━━━━━━━━━━\u001b[0m\u001b[37m\u001b[0m \u001b[1m0s\u001b[0m 3ms/step - accuracy: 0.7893 - loss: 0.4526 - val_accuracy: 0.7910 - val_loss: 0.4298\n",
            "Epoch 7/10\n",
            "\u001b[1m24/24\u001b[0m \u001b[32m━━━━━━━━━━━━━━━━━━━━\u001b[0m\u001b[37m\u001b[0m \u001b[1m0s\u001b[0m 3ms/step - accuracy: 0.7819 - loss: 0.4592 - val_accuracy: 0.7687 - val_loss: 0.4472\n",
            "Epoch 8/10\n",
            "\u001b[1m24/24\u001b[0m \u001b[32m━━━━━━━━━━━━━━━━━━━━\u001b[0m\u001b[37m\u001b[0m \u001b[1m0s\u001b[0m 2ms/step - accuracy: 0.7339 - loss: 0.4887 - val_accuracy: 0.8209 - val_loss: 0.4228\n",
            "Epoch 9/10\n",
            "\u001b[1m24/24\u001b[0m \u001b[32m━━━━━━━━━━━━━━━━━━━━\u001b[0m\u001b[37m\u001b[0m \u001b[1m0s\u001b[0m 2ms/step - accuracy: 0.7949 - loss: 0.4357 - val_accuracy: 0.8358 - val_loss: 0.4282\n",
            "Epoch 10/10\n",
            "\u001b[1m24/24\u001b[0m \u001b[32m━━━━━━━━━━━━━━━━━━━━\u001b[0m\u001b[37m\u001b[0m \u001b[1m0s\u001b[0m 3ms/step - accuracy: 0.7833 - loss: 0.4958 - val_accuracy: 0.8358 - val_loss: 0.4287\n",
            "\u001b[1m5/5\u001b[0m \u001b[32m━━━━━━━━━━━━━━━━━━━━\u001b[0m\u001b[37m\u001b[0m \u001b[1m0s\u001b[0m 6ms/step \n",
            "\u001b[1m5/5\u001b[0m \u001b[32m━━━━━━━━━━━━━━━━━━━━\u001b[0m\u001b[37m\u001b[0m \u001b[1m0s\u001b[0m 3ms/step \n",
            "\n",
            "Модель: 128-512-1\n",
            "F1-score: 0.7755\n",
            "ROC-AUC: 0.8823\n"
          ]
        },
        {
          "data": {
            "text/plain": [
              "{'f1_score': 0.7755102040816326, 'roc_auc': np.float64(0.8823260073260073)}"
            ]
          },
          "execution_count": 115,
          "metadata": {},
          "output_type": "execute_result"
        }
      ],
      "source": [
        "md1_2_3 = keras.Sequential([\n",
        "    layers.Dense(128, activation='relu', input_shape=(X_train.shape[1],)),\n",
        "    layers.Dense(512, activation='relu'),\n",
        "    layers.Dense(1, activation='sigmoid')\n",
        "])\n",
        "\n",
        "get_metrix_of_model(md1_2_3, 10, \"128-512-1\", X_train, y_train, X_test, y_test)"
      ]
    },
    {
      "cell_type": "markdown",
      "id": "c11cabf4",
      "metadata": {
        "id": "c11cabf4"
      },
      "source": [
        "# Деревья"
      ]
    },
    {
      "cell_type": "markdown",
      "id": "4eda00f2",
      "metadata": {
        "id": "4eda00f2"
      },
      "source": [
        "#### Дерево решений"
      ]
    },
    {
      "cell_type": "code",
      "execution_count": 85,
      "id": "903193a5",
      "metadata": {
        "id": "903193a5"
      },
      "outputs": [
        {
          "name": "stdout",
          "output_type": "stream",
          "text": [
            "\n",
            "Дерево решений:\n",
            "F1-мера: 0.8571428571428571\n",
            "ROC-AUC: 0.9171245421245421\n"
          ]
        }
      ],
      "source": [
        "from sklearn.tree import DecisionTreeClassifier\n",
        "\n",
        "tree_params = {'max_depth': [3, 5, None], 'min_samples_split': [2, 5]}\n",
        "tree_grid = GridSearchCV(DecisionTreeClassifier(random_state=52), tree_params, cv=5)\n",
        "tree_grid.fit(X_train, y_train)\n",
        "tree_model = tree_grid.best_estimator_\n",
        "\n",
        "y_pred_tree = tree_model.predict(X_test)\n",
        "y_pred_proba_tree = tree_model.predict_proba(X_test)[:, 1]\n",
        "print(\"\\nДерево решений:\")\n",
        "print(\"F1-мера:\", f1_score(y_test, y_pred_tree))\n",
        "print(\"ROC-AUC:\", roc_auc_score(y_test, y_pred_proba_tree))"
      ]
    },
    {
      "cell_type": "markdown",
      "id": "1747e59a",
      "metadata": {},
      "source": [
        "#### Случайный лес"
      ]
    },
    {
      "cell_type": "code",
      "execution_count": 91,
      "id": "36725162",
      "metadata": {},
      "outputs": [
        {
          "name": "stdout",
          "output_type": "stream",
          "text": [
            "\n",
            "Дерево решений:\n",
            "F1-мера: 0.8571428571428571\n",
            "ROC-AUC: 0.9052197802197802\n"
          ]
        }
      ],
      "source": [
        "from sklearn.ensemble import RandomForestClassifier\n",
        "\n",
        "forest_params = {'n_estimators': [100, 200], 'max_depth': [5, 7]}\n",
        "forest_grid = GridSearchCV(RandomForestClassifier(random_state=52), forest_params, cv=5)\n",
        "forest_grid.fit(X_train, y_train)\n",
        "forest_model = forest_grid.best_estimator_\n",
        "\n",
        "y_pred_forest = forest_model.predict(X_test)\n",
        "y_pred_proba_forest = forest_model.predict_proba(X_test)[:, 1]\n",
        "print(\"\\nДерево решений:\")\n",
        "print(\"F1-мера:\", f1_score(y_test, y_pred_forest))\n",
        "print(\"ROC-AUC:\", roc_auc_score(y_test, y_pred_proba_forest))"
      ]
    },
    {
      "cell_type": "markdown",
      "id": "78f6e7ef",
      "metadata": {
        "id": "78f6e7ef"
      },
      "source": [
        "#### Градиентный бустинг от Scikit-learn"
      ]
    },
    {
      "cell_type": "code",
      "execution_count": 90,
      "id": "50ce1653",
      "metadata": {
        "id": "50ce1653"
      },
      "outputs": [
        {
          "name": "stdout",
          "output_type": "stream",
          "text": [
            "\n",
            "Градиентный бустинг (Scikit-learn):\n",
            "F1-мера: 0.8571428571428571\n",
            "ROC-AUC: 0.9164377289377289\n"
          ]
        }
      ],
      "source": [
        "from sklearn.ensemble import GradientBoostingClassifier\n",
        "\n",
        "sklearn_boost_params = {'n_estimators': [100, 200], 'learning_rate': [0.05, 0.1]}\n",
        "sklearn_boost_grid = GridSearchCV(GradientBoostingClassifier(random_state=52), sklearn_boost_params, cv=5)\n",
        "sklearn_boost_grid.fit(X_train, y_train)\n",
        "sklearn_boost_model = sklearn_boost_grid.best_estimator_\n",
        "\n",
        "y_pred_sklearn_boost = sklearn_boost_model.predict(X_test)\n",
        "y_pred_proba_sklearn_boost = sklearn_boost_model.predict_proba(X_test)[:, 1]\n",
        "print(\"\\nГрадиентный бустинг (Scikit-learn):\")\n",
        "print(\"F1-мера:\", f1_score(y_test, y_pred_sklearn_boost))\n",
        "print(\"ROC-AUC:\", roc_auc_score(y_test, y_pred_proba_sklearn_boost))"
      ]
    },
    {
      "cell_type": "markdown",
      "id": "a331d0ad",
      "metadata": {
        "id": "a331d0ad"
      },
      "source": [
        "...\n",
        "----------"
      ]
    },
    {
      "cell_type": "markdown",
      "id": "d8fafd68",
      "metadata": {
        "id": "d8fafd68"
      },
      "source": [
        "----"
      ]
    },
    {
      "cell_type": "markdown",
      "id": "006c9be5",
      "metadata": {
        "id": "006c9be5"
      },
      "source": [
        "### Модификации градиентного бустинга"
      ]
    },
    {
      "cell_type": "markdown",
      "id": "fbbc354c",
      "metadata": {
        "id": "fbbc354c"
      },
      "source": [
        "#### XGBoost"
      ]
    },
    {
      "cell_type": "code",
      "execution_count": 87,
      "id": "31aacfd8",
      "metadata": {
        "id": "31aacfd8"
      },
      "outputs": [
        {
          "name": "stdout",
          "output_type": "stream",
          "text": [
            "\n",
            "Градиентный бустинг (XGBoost):\n",
            "F1-мера: 0.8571428571428571\n",
            "ROC-AUC: 0.9130036630036631\n"
          ]
        }
      ],
      "source": [
        "from xgboost import XGBClassifier\n",
        "\n",
        "xgb_params = {'n_estimators': [100, 200], 'max_depth': [3, 5]}\n",
        "xgb_grid = GridSearchCV(XGBClassifier(random_state=52), xgb_params, cv=5)\n",
        "xgb_grid.fit(X_train, y_train)\n",
        "boost_model = xgb_grid.best_estimator_\n",
        "\n",
        "y_pred_boost = boost_model.predict(X_test)\n",
        "y_pred_proba_boost = boost_model.predict_proba(X_test)[:, 1]\n",
        "print(\"\\nГрадиентный бустинг (XGBoost):\")\n",
        "print(\"F1-мера:\", f1_score(y_test, y_pred_boost))\n",
        "print(\"ROC-AUC:\", roc_auc_score(y_test, y_pred_proba_boost))"
      ]
    },
    {
      "cell_type": "markdown",
      "id": "6112750a",
      "metadata": {
        "id": "6112750a"
      },
      "source": [
        "...\n",
        "----------"
      ]
    },
    {
      "cell_type": "markdown",
      "id": "70033ba2",
      "metadata": {
        "id": "70033ba2"
      },
      "source": [
        "#### CatBoost"
      ]
    },
    {
      "cell_type": "code",
      "execution_count": 88,
      "id": "f75a382c",
      "metadata": {
        "id": "f75a382c"
      },
      "outputs": [
        {
          "name": "stdout",
          "output_type": "stream",
          "text": [
            "\n",
            "Градиентный бустинг (CatBoost):\n",
            "F1-мера: 0.8571428571428571\n",
            "ROC-AUC: 0.9123168498168498\n"
          ]
        }
      ],
      "source": [
        "from catboost import CatBoostClassifier\n",
        "\n",
        "catboost_params = {\n",
        "    'depth': [4, 6, 8],\n",
        "    'iterations': [200, 300, 400]\n",
        "}\n",
        "\n",
        "catboost_grid = GridSearchCV(CatBoostClassifier(random_state=52, silent=True), catboost_params, cv=5)\n",
        "catboost_grid.fit(X_train, y_train)\n",
        "catboost_model = catboost_grid.best_estimator_\n",
        "\n",
        "y_pred_catboost = catboost_model.predict(X_test)\n",
        "y_pred_proba_catboost = catboost_model.predict_proba(X_test)[:, 1]\n",
        "print(\"\\nГрадиентный бустинг (CatBoost):\")\n",
        "print(\"F1-мера:\", f1_score(y_test, y_pred_catboost))\n",
        "print(\"ROC-AUC:\", roc_auc_score(y_test, y_pred_proba_catboost))"
      ]
    },
    {
      "cell_type": "markdown",
      "id": "b59682a1",
      "metadata": {
        "id": "b59682a1"
      },
      "source": [
        "...\n",
        "----------"
      ]
    },
    {
      "cell_type": "markdown",
      "id": "3bbcc776",
      "metadata": {
        "id": "3bbcc776"
      },
      "source": [
        "#### LightGBM"
      ]
    },
    {
      "cell_type": "code",
      "execution_count": 112,
      "id": "dc57abae",
      "metadata": {
        "id": "dc57abae"
      },
      "outputs": [
        {
          "name": "stdout",
          "output_type": "stream",
          "text": [
            "\n",
            "Градиентный бустинг (LightGBM):\n",
            "F1-мера: 0.8571428571428571\n",
            "ROC-AUC: 0.9173534798534799\n"
          ]
        }
      ],
      "source": [
        "from lightgbm import LGBMClassifier\n",
        "\n",
        "lgbm_params = {'n_estimators': [100, 200], 'max_depth': [3, 5]}\n",
        "lgbm_grid = GridSearchCV(LGBMClassifier(random_state=52, verbosity=-1), lgbm_params, cv=5)\n",
        "lgbm_grid.fit(X_train, y_train)\n",
        "lgbm_model = lgbm_grid.best_estimator_\n",
        "\n",
        "y_pred_lgbm = lgbm_model.predict(X_test)\n",
        "y_pred_proba_lgbm = lgbm_model.predict_proba(X_test)[:, 1]\n",
        "print(\"\\nГрадиентный бустинг (LightGBM):\")\n",
        "print(\"F1-мера:\", f1_score(y_test, y_pred_lgbm))\n",
        "print(\"ROC-AUC:\", roc_auc_score(y_test, y_pred_proba_lgbm))"
      ]
    },
    {
      "cell_type": "markdown",
      "id": "dc5ae544",
      "metadata": {
        "id": "dc5ae544"
      },
      "source": [
        "...\n",
        "----------"
      ]
    },
    {
      "cell_type": "markdown",
      "id": "bdfc119c",
      "metadata": {
        "id": "bdfc119c"
      },
      "source": [
        "----"
      ]
    },
    {
      "cell_type": "markdown",
      "id": "5d1589a2",
      "metadata": {
        "id": "5d1589a2"
      },
      "source": [
        "#### Итоговый свод метрик"
      ]
    },
    {
      "cell_type": "markdown",
      "id": "3c60da05",
      "metadata": {
        "id": "3c60da05"
      },
      "source": [
        "Линейная модель (Логистическая регрессия):\n",
        "- F1-мера: 0.7920792079207921\n",
        "\n",
        "Линейная модель (Ridge):\n",
        "- F1-мера: 0.7547169811320755\n",
        "\n",
        "Линейная модель (SGD):\n",
        "- F1-мера: 0.5128205128205128\n",
        "\n",
        "Нейронная сеть (128-512-1):\n",
        "- F1-мера: 0.7755\n",
        "- ROC-AUC: 0.8823\n",
        "\n",
        "Деревья (Дерево решений):\n",
        "- F1-мера: 0.8571428571428571\n",
        "- ROC-AUC: 0.9171245421245421\n",
        "\n",
        "Деревья (Случайный лес):\n",
        "- F1-мера: 0.8571428571428571\n",
        "- ROC-AUC: 0.9052197802197802\n",
        "\n",
        "Деревья (Scikit-learn):\n",
        "- F1-мера: 0.8571428571428571\n",
        "- ROC-AUC: 0.9164377289377289\n",
        "\n",
        "Градиентный бустинг (XGBoost):\n",
        "- F1-мера: 0.8571428571428571\n",
        "- ROC-AUC: 0.9130036630036631\n",
        "\n",
        "Градиентный бустинг (CatBoost):\n",
        "- F1-мера: 0.8571428571428571\n",
        "- ROC-AUC: 0.9123168498168498\n",
        "\n",
        "Градиентный бустинг (LightGBM):\n",
        "- F1-мера: 0.8571428571428571\n",
        "- ROC-AUC: 0.9173534798534799"
      ]
    },
    {
      "cell_type": "markdown",
      "id": "896aa76f",
      "metadata": {},
      "source": [
        "Можно заметить, что все сложные модели имеют идентичное значение F1-меры, что указывает на достижение потолка разделимости данных для текущего набора признаков. Это означает, что данные имеют нелинейную структуру, которую не могут воспроизвести линейные алгоритмы, а сложные модели выходят на предельную точность, ограниченную информативностью признаков. Незначительные различия в ROC-AUC (0.905–0.917) при одинаковой F1-мере объясняются разным распределением вероятностей предсказаний, не влияющим на бинарную классификацию при пороге 0.5. Для преодоления \"потолка\" требуется улучшение признакового пространства или расширение данных.\n"
      ]
    },
    {
      "cell_type": "markdown",
      "id": "236edd96",
      "metadata": {
        "id": "236edd96"
      },
      "source": [
        "----"
      ]
    },
    {
      "cell_type": "markdown",
      "id": "87fba18a",
      "metadata": {
        "id": "87fba18a"
      },
      "source": [
        "#### Кросс-валидация"
      ]
    },
    {
      "cell_type": "markdown",
      "id": "06e415d8",
      "metadata": {
        "id": "06e415d8"
      },
      "source": [
        "Лучшие метрики показала модель LightGBM\n"
      ]
    },
    {
      "cell_type": "code",
      "execution_count": 114,
      "id": "795f0dd3",
      "metadata": {
        "id": "795f0dd3"
      },
      "outputs": [
        {
          "name": "stdout",
          "output_type": "stream",
          "text": [
            "\n",
            "Фолд 1:\n",
            "F1-мера: 0.7723\n",
            "ROC-AUC: 0.8986\n",
            "Classification Report:\n",
            "              precision    recall  f1-score   support\n",
            "\n",
            "           0       0.83      0.95      0.88        92\n",
            "           1       0.89      0.68      0.77        57\n",
            "\n",
            "    accuracy                           0.85       149\n",
            "   macro avg       0.86      0.81      0.83       149\n",
            "weighted avg       0.85      0.85      0.84       149\n",
            "\n",
            "Confusion Matrix:\n",
            "[[87  5]\n",
            " [18 39]]\n",
            "\n",
            "Фолд 2:\n",
            "F1-мера: 0.7500\n",
            "ROC-AUC: 0.8494\n",
            "Classification Report:\n",
            "              precision    recall  f1-score   support\n",
            "\n",
            "           0       0.82      0.91      0.87        92\n",
            "           1       0.83      0.68      0.75        57\n",
            "\n",
            "    accuracy                           0.83       149\n",
            "   macro avg       0.83      0.80      0.81       149\n",
            "weighted avg       0.83      0.83      0.82       149\n",
            "\n",
            "Confusion Matrix:\n",
            "[[84  8]\n",
            " [18 39]]\n",
            "\n",
            "Фолд 3:\n",
            "F1-мера: 0.7767\n",
            "ROC-AUC: 0.8534\n",
            "Classification Report:\n",
            "              precision    recall  f1-score   support\n",
            "\n",
            "           0       0.83      0.93      0.88        92\n",
            "           1       0.87      0.70      0.78        57\n",
            "\n",
            "    accuracy                           0.85       149\n",
            "   macro avg       0.85      0.82      0.83       149\n",
            "weighted avg       0.85      0.85      0.84       149\n",
            "\n",
            "Confusion Matrix:\n",
            "[[86  6]\n",
            " [17 40]]\n",
            "\n",
            "Фолд 4:\n",
            "F1-мера: 0.7767\n",
            "ROC-AUC: 0.8793\n",
            "Classification Report:\n",
            "              precision    recall  f1-score   support\n",
            "\n",
            "           0       0.83      0.93      0.88        91\n",
            "           1       0.87      0.70      0.78        57\n",
            "\n",
            "    accuracy                           0.84       148\n",
            "   macro avg       0.85      0.82      0.83       148\n",
            "weighted avg       0.85      0.84      0.84       148\n",
            "\n",
            "Confusion Matrix:\n",
            "[[85  6]\n",
            " [17 40]]\n",
            "\n",
            "Фолд 5:\n",
            "F1-мера: 0.7423\n",
            "ROC-AUC: 0.8715\n",
            "Classification Report:\n",
            "              precision    recall  f1-score   support\n",
            "\n",
            "           0       0.81      0.96      0.87        91\n",
            "           1       0.90      0.63      0.74        57\n",
            "\n",
            "    accuracy                           0.83       148\n",
            "   macro avg       0.85      0.79      0.81       148\n",
            "weighted avg       0.84      0.83      0.82       148\n",
            "\n",
            "Confusion Matrix:\n",
            "[[87  4]\n",
            " [21 36]]\n",
            "\n",
            "Фолд 6:\n",
            "F1-мера: 0.7925\n",
            "ROC-AUC: 0.8761\n",
            "Classification Report:\n",
            "              precision    recall  f1-score   support\n",
            "\n",
            "           0       0.85      0.92      0.88        91\n",
            "           1       0.86      0.74      0.79        57\n",
            "\n",
            "    accuracy                           0.85       148\n",
            "   macro avg       0.85      0.83      0.84       148\n",
            "weighted avg       0.85      0.85      0.85       148\n",
            "\n",
            "Confusion Matrix:\n",
            "[[84  7]\n",
            " [15 42]]\n",
            "\n",
            "Итоговые средние метрики:\n",
            "Средняя F1-мера: 0.7684 ± 0.0171\n",
            "Среднее ROC-AUC: 0.8714 ± 0.0165\n"
          ]
        }
      ],
      "source": [
        "from sklearn.model_selection import StratifiedKFold\n",
        "from sklearn.metrics import f1_score, classification_report, confusion_matrix, roc_auc_score\n",
        "import numpy as np\n",
        "\n",
        "kFold = StratifiedKFold(n_splits=6, shuffle=True, random_state=52)\n",
        "\n",
        "f1_scores = []\n",
        "roc_auc_scores = []\n",
        "reports = []\n",
        "matrices = []\n",
        "\n",
        "for fold_idx, (train_index, test_index) in enumerate(kFold.split(X, y)):\n",
        "    X_train, X_test = X.iloc[train_index], X.iloc[test_index]\n",
        "    y_train, y_test = y.iloc[train_index], y.iloc[test_index]\n",
        "\n",
        "    lgbm_grid = GridSearchCV(LGBMClassifier(random_state=52, verbosity=-1), lgbm_params, cv=5)\n",
        "    lgbm_grid.fit(X_train, y_train)\n",
        "    model = lgbm_grid.best_estimator_\n",
        "\n",
        "    y_pred = model.predict(X_test)\n",
        "    y_pred_proba = model.predict_proba(X_test)[:, 1]\n",
        "\n",
        "    roc = roc_auc_score(y_test, y_pred_proba)\n",
        "    f1 = f1_score(y_test, y_pred)\n",
        "    report = classification_report(y_test, y_pred)\n",
        "    matrix = confusion_matrix(y_test, y_pred)\n",
        "\n",
        "    roc_auc_scores.append(roc)\n",
        "    f1_scores.append(f1)\n",
        "    reports.append(report)\n",
        "    matrices.append(matrix)\n",
        "\n",
        "    print(f'\\nФолд {fold_idx + 1}:')\n",
        "    print(f'F1-мера: {f1:.4f}')\n",
        "    print(f'ROC-AUC: {roc:.4f}')\n",
        "    print('Classification Report:')\n",
        "    print(report)\n",
        "    print('Confusion Matrix:')\n",
        "    print(matrix)\n",
        "\n",
        "print('\\nИтоговые средние метрики:')\n",
        "print(f'Средняя F1-мера: {np.mean(f1_scores):.4f} ± {np.std(f1_scores):.4f}')\n",
        "print(f'Среднее ROC-AUC: {np.mean(roc_auc_scores):.4f} ± {np.std(roc_auc_scores):.4f}')"
      ]
    },
    {
      "cell_type": "markdown",
      "id": "c04179de",
      "metadata": {
        "id": "c04179de"
      },
      "source": [
        "...\n",
        "----------"
      ]
    },
    {
      "cell_type": "markdown",
      "id": "d2b4cb04",
      "metadata": {
        "id": "d2b4cb04"
      },
      "source": [
        "#### Результаты"
      ]
    },
    {
      "cell_type": "markdown",
      "id": "af2da2e9",
      "metadata": {
        "id": "af2da2e9"
      },
      "source": [
        "Кросс валидация показала следующие результаты с точки зрения эффективности модели:\n",
        "- 1 Фолд: Модель предсказала 87 погибшего верно, отнеся 5 к неправильному классу. Также модель предсказала 18 выживших верно и отнесла 39 к неправильному классу\n",
        "- 2 Фолд: Модель предсказала 84 погибших верно, отнеся 8 к неправильному классу. Также модель предсказала 18 выживших верно и отнесла 39 к неправильному классу\n",
        "- 3 Фолд: Модель предсказала 86 погибших верно, отнеся 6 к неправильному классу. Также модель предсказала 17 выжившего верно и отнесла 40 к неправильному классу\n",
        "- 4 Фолд: Модель предсказала 85 погибших верно, отнеся 6 к неправильному классу. Также модель предсказала 17 выжившего верно и отнесла 40 к неправильному классу\n",
        "- 5 Фолд: Модель предсказала 87 погибших верно, отнеся 4 к неправильному классу. Также модель предсказала 21 выжившего верно и отнесла 36 к неправильному классу\n",
        "- 6 Фолд: Модель предсказала 84 погибших верно, отнеся 7 к неправильному классу. Также модель предсказала 15 выжившего верно и отнесла 42 к неправильному классу"
      ]
    },
    {
      "cell_type": "markdown",
      "id": "f9e4104b",
      "metadata": {
        "id": "f9e4104b"
      },
      "source": [
        "- Класс 0 (Погибшие):\n",
        "    - Precision: 0.81–0.85 (в большинстве фолдов). Это означает, что из всех примеров, предсказанных как \"погибшие\", 81–85% действительно погибли.\n",
        "    - Recall: 0.91–0.96. Модель корректно идентифицирует 91–96% погибших, пропуская очень мало (4–9% ложных отрицаний).\n",
        "    - F1-score: 0.87–0.88. Высокий баланс между точностью и полнотой.\n",
        "\n",
        "- Класс 1 (Выжившие):\n",
        "    - Precision: 0.83–0.90. Из всех предсказанных \"выживших\" 83–90% действительно выжили.\n",
        "    - Recall: 0.63–0.74. Модель пропускает 26–37% выживших (ложные отрицания), что хуже, чем для класса 0.\n",
        "    - F1-score: 0.74–0.79. Ниже, чем для класса 0, из-за дисбаланса recall.\n",
        "\n",
        "- Проблема: Модель хуже предсказывает выживших, особенно в Фолде 5 (recall=0.63). Это связано дисбалансом классов (погибших больше, чем выживших)."
      ]
    },
    {
      "cell_type": "markdown",
      "id": "ebe0ed64",
      "metadata": {
        "id": "ebe0ed64"
      },
      "source": [
        "----"
      ]
    },
    {
      "cell_type": "markdown",
      "id": "29cb74ab",
      "metadata": {
        "id": "29cb74ab"
      },
      "source": [
        "### Итоги\n"
      ]
    },
    {
      "cell_type": "markdown",
      "id": "cb8cd2fc",
      "metadata": {
        "id": "cb8cd2fc"
      },
      "source": [
        "<b>Вывод:</b>    Проделаны комплексный обзор даты с дозаполнением пустых ячеек методом K ближайших соседей, Feature Engineering и Feature Importances. Был проведен 21 эксперимент с целью найти наиболее эффективную модель. Модель LightGBM, показавшая наилучший результат, была подвергнута тестированию на шести фолдах и продемонстрировала следующие результаты: \n",
        "\n",
        "- Стабильность: Низкий разброс метрик между фолдами (F1: ±0.017, ROC-AUC: ±0.016) подтверждает устойчивость модели к вариациям в данных.\n",
        "\n",
        "- Проблемы: Основная сложность — предсказание меньшего класса (выжившие). Модель склонна к консервативным прогнозам, что выражается в большом количестве ложных отрицаний (15-21 ошибка на фолд). Это связано с дисбалансом классов и недостаточной информативностью данных для выделения устойчивых паттернов.\n",
        "\n",
        "LightGBM показала себя как надежный инструмент для задач с ограниченным объемом данных, устойчивый к шуму и переобучению. Однако качество прогноза зависит от коррекции дисбаланса и тонкой настройки модели. Без этих шагов метрики будут ограничены текущим уровнем, так как модель \"жертвует\" меньшим классом в пользу общей стабильности."
      ]
    }
  ],
  "metadata": {
    "accelerator": "GPU",
    "colab": {
      "gpuType": "T4",
      "provenance": []
    },
    "kernelspec": {
      "display_name": "Python 3",
      "name": "python3"
    },
    "language_info": {
      "codemirror_mode": {
        "name": "ipython",
        "version": 3
      },
      "file_extension": ".py",
      "mimetype": "text/x-python",
      "name": "python",
      "nbconvert_exporter": "python",
      "pygments_lexer": "ipython3",
      "version": "3.11.9"
    }
  },
  "nbformat": 4,
  "nbformat_minor": 5
}
